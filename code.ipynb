{
 "cells": [
  {
   "cell_type": "markdown",
   "metadata": {},
   "source": [
    "# FIT5196 Assessment 2\n",
    "\n",
    "#### Student Name: PRASHANT JAJORIA\n",
    "#### Student ID: 31187366\n",
    "\n",
    "Date: 18/10/2020\n",
    "\n",
    "Environment: Python 3.7.4 and Anaconda 4.8.4 (64-bit)\n",
    "\n",
    "Libraries used:\n",
    "1. **pandas** - for reading and writing CSV file, and manipulating Datafarme, included in Anaconda Python 3.7.4\n",
    "2. **re** - for regular expression, included in Anaconda Python 3.7.4\n",
    "3. **numpy** - for arithmetic operations and calculations on arrays, included in Anaconda Python 3.7.4\n",
    "4. **matplotlib** - for visualizing data, included in Anaconda Python 3.7.4\n",
    "5. **datetime** - for validating date, included in Anaconda Python 3.7.4\n",
    "6. **math** - for using predefined mathematical functions, included in Anaconda Python 3.7.4\n",
    "7. **nltk.sentiment.vader** - for identifying customer sentiment from the product review.\n",
    "8. **sklearn.linear_model** - for making Regression model and prediction.\n",
    "\n",
    "## Introduction\n",
    "The main goal of this assessment is Data cleansing, before it can be used for any Data analysis process. Data quality problems like Missing data, Inconsistent and faulty data, Outliers and Duplicates are to be identified, analysed and recified.\n",
    "\n",
    "Syntactical Anomalies involving format and issues in values; Semantic Anomalies involving comprehensiveness and redundancy; Coverage Anomalies involving missing values are to be effectively handled for the given data. \n",
    "\n",
    "\n",
    "Following are the requirement of the task:\n",
    "1. Clean the Dirty data file by removing Syntactical Anomalies and Semantic Anomalies.\n",
    "2. Fill in the missing data for Missing data file by using various techiques, sentiment analysis, appropriate Multiple Linear Regression models, etc.\n",
    "3. Remove the outliers for the Delivery charges from the Outlier data file.\n",
    "\n",
    "A step by step explanation of completing the requirements will be explained in the following code cells."
   ]
  },
  {
   "cell_type": "markdown",
   "metadata": {},
   "source": [
    "# TASK 1 : Dirty Data"
   ]
  },
  {
   "cell_type": "markdown",
   "metadata": {},
   "source": [
    "### Import the Library"
   ]
  },
  {
   "cell_type": "code",
   "execution_count": 3,
   "metadata": {},
   "outputs": [],
   "source": [
    "import pandas as pd\n",
    "import numpy as np\n",
    "import re\n",
    "import matplotlib.pyplot as plt\n",
    "import datetime\n",
    "import math\n",
    "\n",
    "from nltk.sentiment.vader import SentimentIntensityAnalyzer\n",
    "from sklearn.linear_model import LinearRegression"
   ]
  },
  {
   "cell_type": "markdown",
   "metadata": {},
   "source": [
    "### Read CSV"
   ]
  },
  {
   "cell_type": "markdown",
   "metadata": {},
   "source": [
    "Read the Dirty data file using the `read_csv` file from Pandas library"
   ]
  },
  {
   "cell_type": "code",
   "execution_count": 4,
   "metadata": {},
   "outputs": [],
   "source": [
    "df1 = pd.read_csv('31187366_dirty_data.csv') \n",
    "warehouses = pd.read_csv('warehouses.csv')"
   ]
  },
  {
   "cell_type": "markdown",
   "metadata": {},
   "source": [
    "### Inspect the data"
   ]
  },
  {
   "cell_type": "markdown",
   "metadata": {},
   "source": [
    "Lets check the first 5 rows using the `head` function to get a hang of the data provided."
   ]
  },
  {
   "cell_type": "code",
   "execution_count": 5,
   "metadata": {
    "scrolled": false
   },
   "outputs": [
    {
     "data": {
      "text/html": [
       "<div>\n",
       "<style scoped>\n",
       "    .dataframe tbody tr th:only-of-type {\n",
       "        vertical-align: middle;\n",
       "    }\n",
       "\n",
       "    .dataframe tbody tr th {\n",
       "        vertical-align: top;\n",
       "    }\n",
       "\n",
       "    .dataframe thead th {\n",
       "        text-align: right;\n",
       "    }\n",
       "</style>\n",
       "<table border=\"1\" class=\"dataframe\">\n",
       "  <thead>\n",
       "    <tr style=\"text-align: right;\">\n",
       "      <th></th>\n",
       "      <th>order_id</th>\n",
       "      <th>customer_id</th>\n",
       "      <th>date</th>\n",
       "      <th>nearest_warehouse</th>\n",
       "      <th>shopping_cart</th>\n",
       "      <th>order_price</th>\n",
       "      <th>delivery_charges</th>\n",
       "      <th>customer_lat</th>\n",
       "      <th>customer_long</th>\n",
       "      <th>coupon_discount</th>\n",
       "      <th>order_total</th>\n",
       "      <th>season</th>\n",
       "      <th>is_expedited_delivery</th>\n",
       "      <th>distance_to_nearest_warehouse</th>\n",
       "      <th>latest_customer_review</th>\n",
       "      <th>is_happy_customer</th>\n",
       "    </tr>\n",
       "  </thead>\n",
       "  <tbody>\n",
       "    <tr>\n",
       "      <td>0</td>\n",
       "      <td>ORD136980</td>\n",
       "      <td>ID4312130284</td>\n",
       "      <td>2019-01-21</td>\n",
       "      <td>nickolson</td>\n",
       "      <td>[('Lucent 330S', 1), ('Alcon 10', 1), ('pearTV...</td>\n",
       "      <td>27120</td>\n",
       "      <td>76.85</td>\n",
       "      <td>-37.819926</td>\n",
       "      <td>144.992157</td>\n",
       "      <td>0</td>\n",
       "      <td>27196.85</td>\n",
       "      <td>Summer</td>\n",
       "      <td>False</td>\n",
       "      <td>1.1379</td>\n",
       "      <td>recommend great phone for the price highly rec...</td>\n",
       "      <td>True</td>\n",
       "    </tr>\n",
       "    <tr>\n",
       "      <td>1</td>\n",
       "      <td>ORD192951</td>\n",
       "      <td>ID4353912833</td>\n",
       "      <td>2019-03-19</td>\n",
       "      <td>Bakers</td>\n",
       "      <td>[('pearTV', 2), ('Lucent 330S', 1), ('Alcon 10...</td>\n",
       "      <td>22800</td>\n",
       "      <td>85.35</td>\n",
       "      <td>-37.824404</td>\n",
       "      <td>145.012952</td>\n",
       "      <td>0</td>\n",
       "      <td>22885.35</td>\n",
       "      <td>Autumn</td>\n",
       "      <td>True</td>\n",
       "      <td>2.2362</td>\n",
       "      <td>my 90 year old mom loves that she can watch th...</td>\n",
       "      <td>True</td>\n",
       "    </tr>\n",
       "    <tr>\n",
       "      <td>2</td>\n",
       "      <td>ORD373330</td>\n",
       "      <td>ID1964021902</td>\n",
       "      <td>2019-09-13</td>\n",
       "      <td>Nickolson</td>\n",
       "      <td>[('Olivia x460', 2), ('pearTV', 2), ('Lucent 3...</td>\n",
       "      <td>16300</td>\n",
       "      <td>72.65</td>\n",
       "      <td>-37.817966</td>\n",
       "      <td>144.966105</td>\n",
       "      <td>10</td>\n",
       "      <td>14742.65</td>\n",
       "      <td>Spring</td>\n",
       "      <td>True</td>\n",
       "      <td>0.3110</td>\n",
       "      <td>good price glass break to easy</td>\n",
       "      <td>True</td>\n",
       "    </tr>\n",
       "    <tr>\n",
       "      <td>3</td>\n",
       "      <td>ORD314505</td>\n",
       "      <td>ID0207093531</td>\n",
       "      <td>2019-02-21</td>\n",
       "      <td>Bakers</td>\n",
       "      <td>[('iStream', 1), ('iAssist Line', 1), ('Univer...</td>\n",
       "      <td>9275</td>\n",
       "      <td>98.65</td>\n",
       "      <td>-37.800182</td>\n",
       "      <td>145.003224</td>\n",
       "      <td>15</td>\n",
       "      <td>7982.40</td>\n",
       "      <td>Summer</td>\n",
       "      <td>True</td>\n",
       "      <td>1.2991</td>\n",
       "      <td>five stars the best android phone now.</td>\n",
       "      <td>True</td>\n",
       "    </tr>\n",
       "    <tr>\n",
       "      <td>4</td>\n",
       "      <td>ORD330208</td>\n",
       "      <td>ID0711778924</td>\n",
       "      <td>2019-10-24</td>\n",
       "      <td>Thompson</td>\n",
       "      <td>[('iAssist Line', 2), ('iStream', 1)]</td>\n",
       "      <td>4600</td>\n",
       "      <td>73.02</td>\n",
       "      <td>-37.815056</td>\n",
       "      <td>144.945178</td>\n",
       "      <td>5</td>\n",
       "      <td>4443.02</td>\n",
       "      <td>Spring</td>\n",
       "      <td>False</td>\n",
       "      <td>0.3130</td>\n",
       "      <td>good excelent</td>\n",
       "      <td>True</td>\n",
       "    </tr>\n",
       "  </tbody>\n",
       "</table>\n",
       "</div>"
      ],
      "text/plain": [
       "    order_id   customer_id        date nearest_warehouse  \\\n",
       "0  ORD136980  ID4312130284  2019-01-21         nickolson   \n",
       "1  ORD192951  ID4353912833  2019-03-19            Bakers   \n",
       "2  ORD373330  ID1964021902  2019-09-13         Nickolson   \n",
       "3  ORD314505  ID0207093531  2019-02-21            Bakers   \n",
       "4  ORD330208  ID0711778924  2019-10-24          Thompson   \n",
       "\n",
       "                                       shopping_cart  order_price  \\\n",
       "0  [('Lucent 330S', 1), ('Alcon 10', 1), ('pearTV...        27120   \n",
       "1  [('pearTV', 2), ('Lucent 330S', 1), ('Alcon 10...        22800   \n",
       "2  [('Olivia x460', 2), ('pearTV', 2), ('Lucent 3...        16300   \n",
       "3  [('iStream', 1), ('iAssist Line', 1), ('Univer...         9275   \n",
       "4              [('iAssist Line', 2), ('iStream', 1)]         4600   \n",
       "\n",
       "   delivery_charges  customer_lat  customer_long  coupon_discount  \\\n",
       "0             76.85    -37.819926     144.992157                0   \n",
       "1             85.35    -37.824404     145.012952                0   \n",
       "2             72.65    -37.817966     144.966105               10   \n",
       "3             98.65    -37.800182     145.003224               15   \n",
       "4             73.02    -37.815056     144.945178                5   \n",
       "\n",
       "   order_total  season  is_expedited_delivery  distance_to_nearest_warehouse  \\\n",
       "0     27196.85  Summer                  False                         1.1379   \n",
       "1     22885.35  Autumn                   True                         2.2362   \n",
       "2     14742.65  Spring                   True                         0.3110   \n",
       "3      7982.40  Summer                   True                         1.2991   \n",
       "4      4443.02  Spring                  False                         0.3130   \n",
       "\n",
       "                              latest_customer_review  is_happy_customer  \n",
       "0  recommend great phone for the price highly rec...               True  \n",
       "1  my 90 year old mom loves that she can watch th...               True  \n",
       "2                     good price glass break to easy               True  \n",
       "3             five stars the best android phone now.               True  \n",
       "4                                      good excelent               True  "
      ]
     },
     "execution_count": 5,
     "metadata": {},
     "output_type": "execute_result"
    }
   ],
   "source": [
    "df1.head()"
   ]
  },
  {
   "cell_type": "markdown",
   "metadata": {},
   "source": [
    "Lets look at the warehouse details given to us."
   ]
  },
  {
   "cell_type": "code",
   "execution_count": 6,
   "metadata": {
    "scrolled": true
   },
   "outputs": [
    {
     "data": {
      "text/html": [
       "<div>\n",
       "<style scoped>\n",
       "    .dataframe tbody tr th:only-of-type {\n",
       "        vertical-align: middle;\n",
       "    }\n",
       "\n",
       "    .dataframe tbody tr th {\n",
       "        vertical-align: top;\n",
       "    }\n",
       "\n",
       "    .dataframe thead th {\n",
       "        text-align: right;\n",
       "    }\n",
       "</style>\n",
       "<table border=\"1\" class=\"dataframe\">\n",
       "  <thead>\n",
       "    <tr style=\"text-align: right;\">\n",
       "      <th></th>\n",
       "      <th>names</th>\n",
       "      <th>lat</th>\n",
       "      <th>lon</th>\n",
       "    </tr>\n",
       "  </thead>\n",
       "  <tbody>\n",
       "    <tr>\n",
       "      <td>0</td>\n",
       "      <td>Nickolson</td>\n",
       "      <td>-37.818595</td>\n",
       "      <td>144.969551</td>\n",
       "    </tr>\n",
       "    <tr>\n",
       "      <td>1</td>\n",
       "      <td>Thompson</td>\n",
       "      <td>-37.812673</td>\n",
       "      <td>144.947069</td>\n",
       "    </tr>\n",
       "    <tr>\n",
       "      <td>2</td>\n",
       "      <td>Bakers</td>\n",
       "      <td>-37.809996</td>\n",
       "      <td>144.995232</td>\n",
       "    </tr>\n",
       "  </tbody>\n",
       "</table>\n",
       "</div>"
      ],
      "text/plain": [
       "       names        lat         lon\n",
       "0  Nickolson -37.818595  144.969551\n",
       "1   Thompson -37.812673  144.947069\n",
       "2     Bakers -37.809996  144.995232"
      ]
     },
     "execution_count": 6,
     "metadata": {},
     "output_type": "execute_result"
    }
   ],
   "source": [
    "warehouses"
   ]
  },
  {
   "cell_type": "markdown",
   "metadata": {},
   "source": [
    "### Look at the shape of Dataframe"
   ]
  },
  {
   "cell_type": "code",
   "execution_count": 7,
   "metadata": {
    "scrolled": true
   },
   "outputs": [
    {
     "data": {
      "text/plain": [
       "(500, 16)"
      ]
     },
     "execution_count": 7,
     "metadata": {},
     "output_type": "execute_result"
    }
   ],
   "source": [
    "df1.shape"
   ]
  },
  {
   "cell_type": "markdown",
   "metadata": {},
   "source": [
    "The shape of the Dataframe tell us that there are 500 rows i.e. orders and 16 columns i.e. order details"
   ]
  },
  {
   "cell_type": "markdown",
   "metadata": {},
   "source": [
    "### Statistics for Numerical variables"
   ]
  },
  {
   "cell_type": "markdown",
   "metadata": {},
   "source": [
    "Using the `describe` function to view some basic statistical details like percentile, mean, std etc. of the read CSV file."
   ]
  },
  {
   "cell_type": "code",
   "execution_count": 8,
   "metadata": {
    "scrolled": true
   },
   "outputs": [
    {
     "data": {
      "text/html": [
       "<div>\n",
       "<style scoped>\n",
       "    .dataframe tbody tr th:only-of-type {\n",
       "        vertical-align: middle;\n",
       "    }\n",
       "\n",
       "    .dataframe tbody tr th {\n",
       "        vertical-align: top;\n",
       "    }\n",
       "\n",
       "    .dataframe thead th {\n",
       "        text-align: right;\n",
       "    }\n",
       "</style>\n",
       "<table border=\"1\" class=\"dataframe\">\n",
       "  <thead>\n",
       "    <tr style=\"text-align: right;\">\n",
       "      <th></th>\n",
       "      <th>order_price</th>\n",
       "      <th>delivery_charges</th>\n",
       "      <th>customer_lat</th>\n",
       "      <th>customer_long</th>\n",
       "      <th>coupon_discount</th>\n",
       "      <th>order_total</th>\n",
       "      <th>distance_to_nearest_warehouse</th>\n",
       "    </tr>\n",
       "  </thead>\n",
       "  <tbody>\n",
       "    <tr>\n",
       "      <td>count</td>\n",
       "      <td>500.000000</td>\n",
       "      <td>500.000000</td>\n",
       "      <td>500.000000</td>\n",
       "      <td>500.000000</td>\n",
       "      <td>500.000000</td>\n",
       "      <td>500.000000</td>\n",
       "      <td>500.000000</td>\n",
       "    </tr>\n",
       "    <tr>\n",
       "      <td>mean</td>\n",
       "      <td>14076.980000</td>\n",
       "      <td>77.793560</td>\n",
       "      <td>-27.942141</td>\n",
       "      <td>135.097472</td>\n",
       "      <td>10.790000</td>\n",
       "      <td>12444.818880</td>\n",
       "      <td>1.168776</td>\n",
       "    </tr>\n",
       "    <tr>\n",
       "      <td>std</td>\n",
       "      <td>7973.141756</td>\n",
       "      <td>14.898392</td>\n",
       "      <td>41.352126</td>\n",
       "      <td>41.352982</td>\n",
       "      <td>8.524743</td>\n",
       "      <td>7162.719437</td>\n",
       "      <td>0.578576</td>\n",
       "    </tr>\n",
       "    <tr>\n",
       "      <td>min</td>\n",
       "      <td>580.000000</td>\n",
       "      <td>47.300000</td>\n",
       "      <td>-37.840654</td>\n",
       "      <td>-37.824364</td>\n",
       "      <td>0.000000</td>\n",
       "      <td>500.660000</td>\n",
       "      <td>0.026500</td>\n",
       "    </tr>\n",
       "    <tr>\n",
       "      <td>25%</td>\n",
       "      <td>8116.250000</td>\n",
       "      <td>66.077500</td>\n",
       "      <td>-37.817920</td>\n",
       "      <td>144.947373</td>\n",
       "      <td>5.000000</td>\n",
       "      <td>7028.950000</td>\n",
       "      <td>0.769350</td>\n",
       "    </tr>\n",
       "    <tr>\n",
       "      <td>50%</td>\n",
       "      <td>12642.500000</td>\n",
       "      <td>77.360000</td>\n",
       "      <td>-37.811857</td>\n",
       "      <td>144.964190</td>\n",
       "      <td>10.000000</td>\n",
       "      <td>11430.295000</td>\n",
       "      <td>1.133150</td>\n",
       "    </tr>\n",
       "    <tr>\n",
       "      <td>75%</td>\n",
       "      <td>19441.250000</td>\n",
       "      <td>86.122500</td>\n",
       "      <td>-37.804250</td>\n",
       "      <td>144.982954</td>\n",
       "      <td>15.000000</td>\n",
       "      <td>16863.025000</td>\n",
       "      <td>1.525325</td>\n",
       "    </tr>\n",
       "    <tr>\n",
       "      <td>max</td>\n",
       "      <td>46060.000000</td>\n",
       "      <td>116.050000</td>\n",
       "      <td>144.997298</td>\n",
       "      <td>145.018672</td>\n",
       "      <td>25.000000</td>\n",
       "      <td>46112.750000</td>\n",
       "      <td>3.210200</td>\n",
       "    </tr>\n",
       "  </tbody>\n",
       "</table>\n",
       "</div>"
      ],
      "text/plain": [
       "        order_price  delivery_charges  customer_lat  customer_long  \\\n",
       "count    500.000000        500.000000    500.000000     500.000000   \n",
       "mean   14076.980000         77.793560    -27.942141     135.097472   \n",
       "std     7973.141756         14.898392     41.352126      41.352982   \n",
       "min      580.000000         47.300000    -37.840654     -37.824364   \n",
       "25%     8116.250000         66.077500    -37.817920     144.947373   \n",
       "50%    12642.500000         77.360000    -37.811857     144.964190   \n",
       "75%    19441.250000         86.122500    -37.804250     144.982954   \n",
       "max    46060.000000        116.050000    144.997298     145.018672   \n",
       "\n",
       "       coupon_discount   order_total  distance_to_nearest_warehouse  \n",
       "count       500.000000    500.000000                     500.000000  \n",
       "mean         10.790000  12444.818880                       1.168776  \n",
       "std           8.524743   7162.719437                       0.578576  \n",
       "min           0.000000    500.660000                       0.026500  \n",
       "25%           5.000000   7028.950000                       0.769350  \n",
       "50%          10.000000  11430.295000                       1.133150  \n",
       "75%          15.000000  16863.025000                       1.525325  \n",
       "max          25.000000  46112.750000                       3.210200  "
      ]
     },
     "execution_count": 8,
     "metadata": {},
     "output_type": "execute_result"
    }
   ],
   "source": [
    "df1.describe()"
   ]
  },
  {
   "cell_type": "markdown",
   "metadata": {},
   "source": [
    "### Look at Datatypes"
   ]
  },
  {
   "cell_type": "markdown",
   "metadata": {},
   "source": [
    "Lets have a look at the data type of the columns of the CSV file"
   ]
  },
  {
   "cell_type": "code",
   "execution_count": 9,
   "metadata": {
    "scrolled": true
   },
   "outputs": [
    {
     "data": {
      "text/plain": [
       "order_id                          object\n",
       "customer_id                       object\n",
       "date                              object\n",
       "nearest_warehouse                 object\n",
       "shopping_cart                     object\n",
       "order_price                        int64\n",
       "delivery_charges                 float64\n",
       "customer_lat                     float64\n",
       "customer_long                    float64\n",
       "coupon_discount                    int64\n",
       "order_total                      float64\n",
       "season                            object\n",
       "is_expedited_delivery               bool\n",
       "distance_to_nearest_warehouse    float64\n",
       "latest_customer_review            object\n",
       "is_happy_customer                   bool\n",
       "dtype: object"
      ]
     },
     "execution_count": 9,
     "metadata": {},
     "output_type": "execute_result"
    }
   ],
   "source": [
    "df1.dtypes"
   ]
  },
  {
   "cell_type": "markdown",
   "metadata": {},
   "source": [
    "### Statistics for Categorical variables"
   ]
  },
  {
   "cell_type": "markdown",
   "metadata": {},
   "source": [
    "As decribe by default shows stastics for only numerical data. To see the statistics of Categorical data we use `include` parameter of `describe` to include Datatype of type Object i.e. categorical data."
   ]
  },
  {
   "cell_type": "code",
   "execution_count": 10,
   "metadata": {
    "scrolled": true
   },
   "outputs": [
    {
     "data": {
      "text/html": [
       "<div>\n",
       "<style scoped>\n",
       "    .dataframe tbody tr th:only-of-type {\n",
       "        vertical-align: middle;\n",
       "    }\n",
       "\n",
       "    .dataframe tbody tr th {\n",
       "        vertical-align: top;\n",
       "    }\n",
       "\n",
       "    .dataframe thead th {\n",
       "        text-align: right;\n",
       "    }\n",
       "</style>\n",
       "<table border=\"1\" class=\"dataframe\">\n",
       "  <thead>\n",
       "    <tr style=\"text-align: right;\">\n",
       "      <th></th>\n",
       "      <th>order_id</th>\n",
       "      <th>customer_id</th>\n",
       "      <th>date</th>\n",
       "      <th>nearest_warehouse</th>\n",
       "      <th>shopping_cart</th>\n",
       "      <th>season</th>\n",
       "      <th>latest_customer_review</th>\n",
       "    </tr>\n",
       "  </thead>\n",
       "  <tbody>\n",
       "    <tr>\n",
       "      <td>count</td>\n",
       "      <td>500</td>\n",
       "      <td>500</td>\n",
       "      <td>500</td>\n",
       "      <td>500</td>\n",
       "      <td>500</td>\n",
       "      <td>500</td>\n",
       "      <td>500</td>\n",
       "    </tr>\n",
       "    <tr>\n",
       "      <td>unique</td>\n",
       "      <td>500</td>\n",
       "      <td>494</td>\n",
       "      <td>295</td>\n",
       "      <td>6</td>\n",
       "      <td>463</td>\n",
       "      <td>8</td>\n",
       "      <td>500</td>\n",
       "    </tr>\n",
       "    <tr>\n",
       "      <td>top</td>\n",
       "      <td>ORD350576</td>\n",
       "      <td>ID2481930658</td>\n",
       "      <td>2019-06-01</td>\n",
       "      <td>Thompson</td>\n",
       "      <td>[('Thunder line', 1), ('Lucent 330S', 2)]</td>\n",
       "      <td>Spring</td>\n",
       "      <td>perfect for basic stuff, games and media. read...</td>\n",
       "    </tr>\n",
       "    <tr>\n",
       "      <td>freq</td>\n",
       "      <td>1</td>\n",
       "      <td>2</td>\n",
       "      <td>5</td>\n",
       "      <td>211</td>\n",
       "      <td>4</td>\n",
       "      <td>137</td>\n",
       "      <td>1</td>\n",
       "    </tr>\n",
       "  </tbody>\n",
       "</table>\n",
       "</div>"
      ],
      "text/plain": [
       "         order_id   customer_id        date nearest_warehouse  \\\n",
       "count         500           500         500               500   \n",
       "unique        500           494         295                 6   \n",
       "top     ORD350576  ID2481930658  2019-06-01          Thompson   \n",
       "freq            1             2           5               211   \n",
       "\n",
       "                                    shopping_cart  season  \\\n",
       "count                                         500     500   \n",
       "unique                                        463       8   \n",
       "top     [('Thunder line', 1), ('Lucent 330S', 2)]  Spring   \n",
       "freq                                            4     137   \n",
       "\n",
       "                                   latest_customer_review  \n",
       "count                                                 500  \n",
       "unique                                                500  \n",
       "top     perfect for basic stuff, games and media. read...  \n",
       "freq                                                    1  "
      ]
     },
     "execution_count": 10,
     "metadata": {},
     "output_type": "execute_result"
    }
   ],
   "source": [
    "df1.describe(include = ['O'])"
   ]
  },
  {
   "cell_type": "markdown",
   "metadata": {},
   "source": [
    "## Do we have duplicate customer_id ?"
   ]
  },
  {
   "cell_type": "markdown",
   "metadata": {},
   "source": [
    "As the number of unique **customer_id** is 494 out of the total 500 orders, we need to check if the customer order is getting repeated.\n",
    "To check for Duplicate, we look at the **customer_id**, **shopping_cart** and **latest_customer_review**."
   ]
  },
  {
   "cell_type": "code",
   "execution_count": 11,
   "metadata": {},
   "outputs": [
    {
     "data": {
      "text/html": [
       "<div>\n",
       "<style scoped>\n",
       "    .dataframe tbody tr th:only-of-type {\n",
       "        vertical-align: middle;\n",
       "    }\n",
       "\n",
       "    .dataframe tbody tr th {\n",
       "        vertical-align: top;\n",
       "    }\n",
       "\n",
       "    .dataframe thead th {\n",
       "        text-align: right;\n",
       "    }\n",
       "</style>\n",
       "<table border=\"1\" class=\"dataframe\">\n",
       "  <thead>\n",
       "    <tr style=\"text-align: right;\">\n",
       "      <th></th>\n",
       "      <th>order_id</th>\n",
       "      <th>customer_id</th>\n",
       "      <th>date</th>\n",
       "      <th>nearest_warehouse</th>\n",
       "      <th>shopping_cart</th>\n",
       "      <th>order_price</th>\n",
       "      <th>delivery_charges</th>\n",
       "      <th>customer_lat</th>\n",
       "      <th>customer_long</th>\n",
       "      <th>coupon_discount</th>\n",
       "      <th>order_total</th>\n",
       "      <th>season</th>\n",
       "      <th>is_expedited_delivery</th>\n",
       "      <th>distance_to_nearest_warehouse</th>\n",
       "      <th>latest_customer_review</th>\n",
       "      <th>is_happy_customer</th>\n",
       "    </tr>\n",
       "  </thead>\n",
       "  <tbody>\n",
       "  </tbody>\n",
       "</table>\n",
       "</div>"
      ],
      "text/plain": [
       "Empty DataFrame\n",
       "Columns: [order_id, customer_id, date, nearest_warehouse, shopping_cart, order_price, delivery_charges, customer_lat, customer_long, coupon_discount, order_total, season, is_expedited_delivery, distance_to_nearest_warehouse, latest_customer_review, is_happy_customer]\n",
       "Index: []"
      ]
     },
     "execution_count": 11,
     "metadata": {},
     "output_type": "execute_result"
    }
   ],
   "source": [
    "df1[df1.duplicated([\"customer_id\", \"shopping_cart\",\"latest_customer_review\"], keep=False)]"
   ]
  },
  {
   "cell_type": "markdown",
   "metadata": {},
   "source": [
    "As we get no data for this query, we can say that the orders are not duplicate and are different orders."
   ]
  },
  {
   "cell_type": "markdown",
   "metadata": {},
   "source": [
    "## More than 3 warehouses ?"
   ]
  },
  {
   "cell_type": "markdown",
   "metadata": {},
   "source": [
    "The count of unique warehouses returend was 6, so we need to check the warehouses values. As we only have 3 warehouses, there seems to be a problem here."
   ]
  },
  {
   "cell_type": "code",
   "execution_count": 12,
   "metadata": {},
   "outputs": [
    {
     "data": {
      "text/plain": [
       "array(['nickolson', 'Bakers', 'Nickolson', 'Thompson', 'bakers',\n",
       "       'thompson'], dtype=object)"
      ]
     },
     "execution_count": 12,
     "metadata": {},
     "output_type": "execute_result"
    }
   ],
   "source": [
    "df1.nearest_warehouse.unique()"
   ]
  },
  {
   "cell_type": "markdown",
   "metadata": {},
   "source": [
    "We can see that the values of warehouses have been lower cased in some orders, giving us 6 warehouses."
   ]
  },
  {
   "cell_type": "markdown",
   "metadata": {},
   "source": [
    "### Function to check if warehouse name is incorrect"
   ]
  },
  {
   "cell_type": "markdown",
   "metadata": {},
   "source": [
    "We know the correct value of the 3 warehouses, so we can define a check to see the values that have name of Warehouses other than the defined warehouses."
   ]
  },
  {
   "cell_type": "code",
   "execution_count": 13,
   "metadata": {},
   "outputs": [],
   "source": [
    "def check_incorrect_warehouses_name(warehouse_name):\n",
    "    '''\n",
    "    Function to check if warehouse name is from the 3 predefined warehouses.\n",
    "    '''\n",
    "    if warehouse_name not in ['Nickolson', 'Bakers', 'Thompson']:\n",
    "        return True\n",
    "    else:\n",
    "        return False"
   ]
  },
  {
   "cell_type": "code",
   "execution_count": 14,
   "metadata": {},
   "outputs": [],
   "source": [
    "df_incorrect_nearest_warehouse = df1[df1['nearest_warehouse'].apply(check_incorrect_warehouses_name)]"
   ]
  },
  {
   "cell_type": "markdown",
   "metadata": {},
   "source": [
    "### Replace the lower case warehouse"
   ]
  },
  {
   "cell_type": "markdown",
   "metadata": {},
   "source": [
    "Correcting the warehouses names, where the values are in lower case"
   ]
  },
  {
   "cell_type": "code",
   "execution_count": 15,
   "metadata": {},
   "outputs": [],
   "source": [
    "df1.nearest_warehouse.replace({'nickolson':'Nickolson', 'bakers':'Bakers', 'thompson' : 'Thompson'}, inplace=True)"
   ]
  },
  {
   "cell_type": "markdown",
   "metadata": {},
   "source": [
    "### Check after replace"
   ]
  },
  {
   "cell_type": "code",
   "execution_count": 16,
   "metadata": {},
   "outputs": [
    {
     "data": {
      "text/plain": [
       "array(['Nickolson', 'Bakers', 'Thompson'], dtype=object)"
      ]
     },
     "execution_count": 16,
     "metadata": {},
     "output_type": "execute_result"
    }
   ],
   "source": [
    "df1.nearest_warehouse.unique()"
   ]
  },
  {
   "cell_type": "markdown",
   "metadata": {},
   "source": [
    "## Check the season"
   ]
  },
  {
   "cell_type": "markdown",
   "metadata": {},
   "source": [
    "From the describe() function we got the number of unique values for season as 8, this tells us that there is a anamoly in some orders."
   ]
  },
  {
   "cell_type": "code",
   "execution_count": 17,
   "metadata": {},
   "outputs": [
    {
     "data": {
      "text/plain": [
       "array(['Summer', 'Autumn', 'Spring', 'Winter', 'autumn', 'summer',\n",
       "       'spring', 'winter'], dtype=object)"
      ]
     },
     "execution_count": 17,
     "metadata": {},
     "output_type": "execute_result"
    }
   ],
   "source": [
    "df1.season.unique()"
   ]
  },
  {
   "cell_type": "markdown",
   "metadata": {},
   "source": [
    "We can see that some of the orders have been lower cased giving us 8 different values for season."
   ]
  },
  {
   "cell_type": "markdown",
   "metadata": {},
   "source": [
    "### Function to check if Season is incorrect"
   ]
  },
  {
   "cell_type": "markdown",
   "metadata": {},
   "source": [
    "As we know the 4 seasons, we can define a check for finding flaws in season column."
   ]
  },
  {
   "cell_type": "code",
   "execution_count": 18,
   "metadata": {},
   "outputs": [],
   "source": [
    "def check_incorrect_season_name(season_name):\n",
    "    '''\n",
    "    Function to check if the season name is incorrect.\n",
    "    '''\n",
    "    if season_name in ['summer', 'spring', 'winter']:\n",
    "        return True\n",
    "    else:\n",
    "        return False"
   ]
  },
  {
   "cell_type": "code",
   "execution_count": 19,
   "metadata": {},
   "outputs": [
    {
     "data": {
      "text/plain": [
       "(12, 16)"
      ]
     },
     "execution_count": 19,
     "metadata": {},
     "output_type": "execute_result"
    }
   ],
   "source": [
    "df1[df1['season'].apply(check_incorrect_season_name)].shape"
   ]
  },
  {
   "cell_type": "markdown",
   "metadata": {},
   "source": [
    "There are 12 order that have season value that is in lower case."
   ]
  },
  {
   "cell_type": "code",
   "execution_count": 20,
   "metadata": {},
   "outputs": [],
   "source": [
    "df_incorrect_season = df1[df1['season'].apply(check_incorrect_season_name)]"
   ]
  },
  {
   "cell_type": "markdown",
   "metadata": {},
   "source": [
    "### Replace with correct Season"
   ]
  },
  {
   "cell_type": "markdown",
   "metadata": {},
   "source": [
    "Correcting the lower cased season name to proper values."
   ]
  },
  {
   "cell_type": "code",
   "execution_count": 21,
   "metadata": {},
   "outputs": [],
   "source": [
    "df1.season.replace({'summer':'Summer', 'autumn':'Autumn', 'spring' : 'Spring', 'winter' : 'Winter'}, inplace=True)"
   ]
  },
  {
   "cell_type": "markdown",
   "metadata": {},
   "source": [
    "### Check after replace"
   ]
  },
  {
   "cell_type": "code",
   "execution_count": 22,
   "metadata": {},
   "outputs": [
    {
     "data": {
      "text/plain": [
       "array(['Summer', 'Autumn', 'Spring', 'Winter'], dtype=object)"
      ]
     },
     "execution_count": 22,
     "metadata": {},
     "output_type": "execute_result"
    }
   ],
   "source": [
    "df1.season.unique()"
   ]
  },
  {
   "cell_type": "markdown",
   "metadata": {},
   "source": [
    "After correcting the values we get the correct number of seasons i.e. 4"
   ]
  },
  {
   "cell_type": "markdown",
   "metadata": {},
   "source": [
    "## Check Date format"
   ]
  },
  {
   "cell_type": "markdown",
   "metadata": {},
   "source": [
    "We know the Date format for order is **YYYY-MM-DD**."
   ]
  },
  {
   "cell_type": "markdown",
   "metadata": {},
   "source": [
    "### Check if Year is correct"
   ]
  },
  {
   "cell_type": "markdown",
   "metadata": {},
   "source": [
    "As know the date format is **YYYY-MM-DD**, we can define a check for year, to see if first 4 numbers represent year or not."
   ]
  },
  {
   "cell_type": "code",
   "execution_count": 23,
   "metadata": {},
   "outputs": [],
   "source": [
    "def check_year(order_date):\n",
    "    '''\n",
    "    Function to check if the Year is the first part of YYYY-MM-DDD format or not.\n",
    "    '''\n",
    "    if len(order_date.split('-')[0]) != 4:\n",
    "        return True\n",
    "    else:\n",
    "        return False"
   ]
  },
  {
   "cell_type": "markdown",
   "metadata": {},
   "source": [
    "### Number of rows which have the DD-MM-YYYY format"
   ]
  },
  {
   "cell_type": "markdown",
   "metadata": {},
   "source": [
    "Looking at the data which do not pass the check for year, we can see that they are in **DD-MM-YYYY** format."
   ]
  },
  {
   "cell_type": "code",
   "execution_count": 24,
   "metadata": {},
   "outputs": [
    {
     "data": {
      "text/plain": [
       "(14, 16)"
      ]
     },
     "execution_count": 24,
     "metadata": {},
     "output_type": "execute_result"
    }
   ],
   "source": [
    "df1[df1['date'].apply(check_year)].shape"
   ]
  },
  {
   "cell_type": "markdown",
   "metadata": {},
   "source": [
    "There are 14 row that are in **DD-MM-YYYY** format."
   ]
  },
  {
   "cell_type": "code",
   "execution_count": 25,
   "metadata": {},
   "outputs": [],
   "source": [
    "df_dd_mm_yyyy = df1[df1['date'].apply(check_year)]"
   ]
  },
  {
   "cell_type": "markdown",
   "metadata": {},
   "source": [
    "### Check if Month is correct"
   ]
  },
  {
   "cell_type": "markdown",
   "metadata": {},
   "source": [
    "As know the date format is **YYYY-MM-DD**, we can define a check for month, to see if first 6 and 7 digit represent month or not."
   ]
  },
  {
   "cell_type": "code",
   "execution_count": 26,
   "metadata": {},
   "outputs": [],
   "source": [
    "def check_month(order_date):\n",
    "    '''\n",
    "    Function to check if the Month is the second part of YYYY-MM-DDD format or not.\n",
    "    '''\n",
    "    if int(order_date.split('-')[1]) > 12:\n",
    "        return True\n",
    "    else:\n",
    "        return False"
   ]
  },
  {
   "cell_type": "markdown",
   "metadata": {},
   "source": [
    "### Number of rows which have the YYYY-DD-MM format"
   ]
  },
  {
   "cell_type": "markdown",
   "metadata": {},
   "source": [
    "Looking at the data which do not pass the check for month, we can see that the date here is in **YYYY-DD-MM** format."
   ]
  },
  {
   "cell_type": "code",
   "execution_count": 27,
   "metadata": {},
   "outputs": [
    {
     "data": {
      "text/plain": [
       "(13, 16)"
      ]
     },
     "execution_count": 27,
     "metadata": {},
     "output_type": "execute_result"
    }
   ],
   "source": [
    "df1[df1['date'].apply(check_month)].shape"
   ]
  },
  {
   "cell_type": "markdown",
   "metadata": {},
   "source": [
    "There are 13 orders having date in **YYYY-DD-MM** format."
   ]
  },
  {
   "cell_type": "code",
   "execution_count": 28,
   "metadata": {
    "scrolled": true
   },
   "outputs": [
    {
     "data": {
      "text/plain": [
       "count       500\n",
       "unique        2\n",
       "top       False\n",
       "freq        487\n",
       "Name: date, dtype: object"
      ]
     },
     "execution_count": 28,
     "metadata": {},
     "output_type": "execute_result"
    }
   ],
   "source": [
    "df1['date'].apply(check_month).describe()"
   ]
  },
  {
   "cell_type": "code",
   "execution_count": 29,
   "metadata": {},
   "outputs": [],
   "source": [
    "df_yyyy_dd_mm = df1[df1['date'].apply(check_month)]"
   ]
  },
  {
   "cell_type": "markdown",
   "metadata": {},
   "source": [
    "### Fixing the Date Format issue"
   ]
  },
  {
   "cell_type": "markdown",
   "metadata": {},
   "source": [
    "As we know the check conditions for both year and month, we can impute the order date that are not in **YYYY-MM-DD** format"
   ]
  },
  {
   "cell_type": "code",
   "execution_count": 30,
   "metadata": {},
   "outputs": [],
   "source": [
    "def impute_date(order_date):\n",
    "    '''\n",
    "    Function to impute the incorrect date and make it in the YYYY-MM-DDD format.\n",
    "    '''\n",
    "    if len(order_date.split('-')[0]) != 4:\n",
    "        dd,mm,yyyy = order_date.split('-')\n",
    "        return yyyy + '-' + mm + '-' + dd\n",
    "    \n",
    "    elif int(order_date.split('-')[1]) > 12:\n",
    "        yyyy,dd,mm = order_date.split('-')\n",
    "        return yyyy + '-' + mm + '-' + dd\n",
    "    else:\n",
    "        return order_date"
   ]
  },
  {
   "cell_type": "code",
   "execution_count": 31,
   "metadata": {},
   "outputs": [],
   "source": [
    "df1['date'] = df1['date'].apply(impute_date)"
   ]
  },
  {
   "cell_type": "markdown",
   "metadata": {},
   "source": [
    "### Check the new Date column"
   ]
  },
  {
   "cell_type": "markdown",
   "metadata": {},
   "source": [
    "### Check the year"
   ]
  },
  {
   "cell_type": "markdown",
   "metadata": {},
   "source": [
    "Checking for errors in year after imputation."
   ]
  },
  {
   "cell_type": "code",
   "execution_count": 32,
   "metadata": {},
   "outputs": [
    {
     "data": {
      "text/html": [
       "<div>\n",
       "<style scoped>\n",
       "    .dataframe tbody tr th:only-of-type {\n",
       "        vertical-align: middle;\n",
       "    }\n",
       "\n",
       "    .dataframe tbody tr th {\n",
       "        vertical-align: top;\n",
       "    }\n",
       "\n",
       "    .dataframe thead th {\n",
       "        text-align: right;\n",
       "    }\n",
       "</style>\n",
       "<table border=\"1\" class=\"dataframe\">\n",
       "  <thead>\n",
       "    <tr style=\"text-align: right;\">\n",
       "      <th></th>\n",
       "      <th>order_id</th>\n",
       "      <th>customer_id</th>\n",
       "      <th>date</th>\n",
       "      <th>nearest_warehouse</th>\n",
       "      <th>shopping_cart</th>\n",
       "      <th>order_price</th>\n",
       "      <th>delivery_charges</th>\n",
       "      <th>customer_lat</th>\n",
       "      <th>customer_long</th>\n",
       "      <th>coupon_discount</th>\n",
       "      <th>order_total</th>\n",
       "      <th>season</th>\n",
       "      <th>is_expedited_delivery</th>\n",
       "      <th>distance_to_nearest_warehouse</th>\n",
       "      <th>latest_customer_review</th>\n",
       "      <th>is_happy_customer</th>\n",
       "    </tr>\n",
       "  </thead>\n",
       "  <tbody>\n",
       "  </tbody>\n",
       "</table>\n",
       "</div>"
      ],
      "text/plain": [
       "Empty DataFrame\n",
       "Columns: [order_id, customer_id, date, nearest_warehouse, shopping_cart, order_price, delivery_charges, customer_lat, customer_long, coupon_discount, order_total, season, is_expedited_delivery, distance_to_nearest_warehouse, latest_customer_review, is_happy_customer]\n",
       "Index: []"
      ]
     },
     "execution_count": 32,
     "metadata": {},
     "output_type": "execute_result"
    }
   ],
   "source": [
    "df1[df1['date'].apply(check_year)]"
   ]
  },
  {
   "cell_type": "markdown",
   "metadata": {},
   "source": [
    "### Check the month"
   ]
  },
  {
   "cell_type": "markdown",
   "metadata": {},
   "source": [
    "Checking for errors in month after imputation."
   ]
  },
  {
   "cell_type": "code",
   "execution_count": 33,
   "metadata": {
    "scrolled": true
   },
   "outputs": [
    {
     "data": {
      "text/html": [
       "<div>\n",
       "<style scoped>\n",
       "    .dataframe tbody tr th:only-of-type {\n",
       "        vertical-align: middle;\n",
       "    }\n",
       "\n",
       "    .dataframe tbody tr th {\n",
       "        vertical-align: top;\n",
       "    }\n",
       "\n",
       "    .dataframe thead th {\n",
       "        text-align: right;\n",
       "    }\n",
       "</style>\n",
       "<table border=\"1\" class=\"dataframe\">\n",
       "  <thead>\n",
       "    <tr style=\"text-align: right;\">\n",
       "      <th></th>\n",
       "      <th>order_id</th>\n",
       "      <th>customer_id</th>\n",
       "      <th>date</th>\n",
       "      <th>nearest_warehouse</th>\n",
       "      <th>shopping_cart</th>\n",
       "      <th>order_price</th>\n",
       "      <th>delivery_charges</th>\n",
       "      <th>customer_lat</th>\n",
       "      <th>customer_long</th>\n",
       "      <th>coupon_discount</th>\n",
       "      <th>order_total</th>\n",
       "      <th>season</th>\n",
       "      <th>is_expedited_delivery</th>\n",
       "      <th>distance_to_nearest_warehouse</th>\n",
       "      <th>latest_customer_review</th>\n",
       "      <th>is_happy_customer</th>\n",
       "    </tr>\n",
       "  </thead>\n",
       "  <tbody>\n",
       "  </tbody>\n",
       "</table>\n",
       "</div>"
      ],
      "text/plain": [
       "Empty DataFrame\n",
       "Columns: [order_id, customer_id, date, nearest_warehouse, shopping_cart, order_price, delivery_charges, customer_lat, customer_long, coupon_discount, order_total, season, is_expedited_delivery, distance_to_nearest_warehouse, latest_customer_review, is_happy_customer]\n",
       "Index: []"
      ]
     },
     "execution_count": 33,
     "metadata": {},
     "output_type": "execute_result"
    }
   ],
   "source": [
    "df1[df1['date'].apply(check_month)]"
   ]
  },
  {
   "cell_type": "markdown",
   "metadata": {},
   "source": [
    "### Validate the complete date"
   ]
  },
  {
   "cell_type": "markdown",
   "metadata": {},
   "source": [
    "After correcting the year and month of the orders, we must check the complete validity of the Date. \n",
    "\n",
    "This can be done using **datetime** python module "
   ]
  },
  {
   "cell_type": "markdown",
   "metadata": {},
   "source": [
    "Defining a function to check if date is valid."
   ]
  },
  {
   "cell_type": "code",
   "execution_count": 34,
   "metadata": {},
   "outputs": [],
   "source": [
    "def is_valid_date(date):\n",
    "    '''\n",
    "    Validate the order_date after imputations.\n",
    "    '''\n",
    "    year = date.split('-')[0]\n",
    "    month = date.split('-')[1]\n",
    "    day = date.split('-')[2]\n",
    "    \n",
    "    try :\n",
    "        datetime.datetime(int(year),int(month),int(day))\n",
    "        return False\n",
    "    except ValueError :\n",
    "        return True"
   ]
  },
  {
   "cell_type": "code",
   "execution_count": 35,
   "metadata": {},
   "outputs": [
    {
     "data": {
      "text/html": [
       "<div>\n",
       "<style scoped>\n",
       "    .dataframe tbody tr th:only-of-type {\n",
       "        vertical-align: middle;\n",
       "    }\n",
       "\n",
       "    .dataframe tbody tr th {\n",
       "        vertical-align: top;\n",
       "    }\n",
       "\n",
       "    .dataframe thead th {\n",
       "        text-align: right;\n",
       "    }\n",
       "</style>\n",
       "<table border=\"1\" class=\"dataframe\">\n",
       "  <thead>\n",
       "    <tr style=\"text-align: right;\">\n",
       "      <th></th>\n",
       "      <th>order_id</th>\n",
       "      <th>customer_id</th>\n",
       "      <th>date</th>\n",
       "      <th>nearest_warehouse</th>\n",
       "      <th>shopping_cart</th>\n",
       "      <th>order_price</th>\n",
       "      <th>delivery_charges</th>\n",
       "      <th>customer_lat</th>\n",
       "      <th>customer_long</th>\n",
       "      <th>coupon_discount</th>\n",
       "      <th>order_total</th>\n",
       "      <th>season</th>\n",
       "      <th>is_expedited_delivery</th>\n",
       "      <th>distance_to_nearest_warehouse</th>\n",
       "      <th>latest_customer_review</th>\n",
       "      <th>is_happy_customer</th>\n",
       "    </tr>\n",
       "  </thead>\n",
       "  <tbody>\n",
       "  </tbody>\n",
       "</table>\n",
       "</div>"
      ],
      "text/plain": [
       "Empty DataFrame\n",
       "Columns: [order_id, customer_id, date, nearest_warehouse, shopping_cart, order_price, delivery_charges, customer_lat, customer_long, coupon_discount, order_total, season, is_expedited_delivery, distance_to_nearest_warehouse, latest_customer_review, is_happy_customer]\n",
       "Index: []"
      ]
     },
     "execution_count": 35,
     "metadata": {},
     "output_type": "execute_result"
    }
   ],
   "source": [
    "df1[df1['date'].astype(str).apply(is_valid_date)]"
   ]
  },
  {
   "cell_type": "markdown",
   "metadata": {},
   "source": [
    "As we get no data for above query, we can be sure that all the dates are valid."
   ]
  },
  {
   "cell_type": "markdown",
   "metadata": {},
   "source": [
    "## Checking the Shopping Cart"
   ]
  },
  {
   "cell_type": "markdown",
   "metadata": {},
   "source": [
    "### Find the names of all the Items of the shopping cart"
   ]
  },
  {
   "cell_type": "markdown",
   "metadata": {},
   "source": [
    "We know that the store sells only 10 items, so we can check the shopping cart to see if the unique number of items is 10 or not.\n",
    "\n",
    "Using regular expression to capture all the item names. The expression captures all the values that are in between single quotes."
   ]
  },
  {
   "cell_type": "markdown",
   "metadata": {},
   "source": [
    "Storing all the item names in a List."
   ]
  },
  {
   "cell_type": "code",
   "execution_count": 36,
   "metadata": {},
   "outputs": [],
   "source": [
    "list_items = []\n",
    "\n",
    "def get_item_names(cart):\n",
    "    '''\n",
    "    Function to get item name of a shopping cart.\n",
    "    '''\n",
    "    for item in re.findall(r'\\'(.*?)\\'',cart):\n",
    "        list_items.append(item)\n",
    "        \n",
    "    return re.findall(r'\\'(.*?)\\'',cart)"
   ]
  },
  {
   "cell_type": "markdown",
   "metadata": {},
   "source": [
    "### Store the name of all the Itmes of shopping cart"
   ]
  },
  {
   "cell_type": "markdown",
   "metadata": {},
   "source": [
    "Storing the shopping cart items as new column in dataframe."
   ]
  },
  {
   "cell_type": "code",
   "execution_count": 37,
   "metadata": {},
   "outputs": [],
   "source": [
    "df1['shopping_items'] = df1['shopping_cart'].apply(get_item_names)"
   ]
  },
  {
   "cell_type": "markdown",
   "metadata": {},
   "source": [
    "### Names of 10 items"
   ]
  },
  {
   "cell_type": "markdown",
   "metadata": {},
   "source": [
    "As we get the number of unique items as 10, we can be sure that the item name in the shopping cart are correct."
   ]
  },
  {
   "cell_type": "code",
   "execution_count": 38,
   "metadata": {
    "scrolled": false
   },
   "outputs": [
    {
     "data": {
      "text/plain": [
       "10"
      ]
     },
     "execution_count": 38,
     "metadata": {},
     "output_type": "execute_result"
    }
   ],
   "source": [
    "len(set(list_items))"
   ]
  },
  {
   "cell_type": "markdown",
   "metadata": {},
   "source": [
    "### Store the item quantity ordered as new column"
   ]
  },
  {
   "cell_type": "markdown",
   "metadata": {},
   "source": [
    "Defing a function to capture the item quantity of each shopping cart."
   ]
  },
  {
   "cell_type": "code",
   "execution_count": 39,
   "metadata": {},
   "outputs": [],
   "source": [
    "def get_item_qty(cart):\n",
    "    '''\n",
    "    Function to get item quantity of each of the items of a shopping cart.\n",
    "    '''\n",
    "    return list(re.findall(r'\\(\\'\\w+\\s?\\d*\\w*\\',\\s(.*?)\\)',cart))"
   ]
  },
  {
   "cell_type": "code",
   "execution_count": 40,
   "metadata": {},
   "outputs": [],
   "source": [
    "df1['shopping_item_qty'] = df1['shopping_cart'].apply(get_item_qty)"
   ]
  },
  {
   "cell_type": "markdown",
   "metadata": {},
   "source": [
    "### Finding the price of each of the 10 items"
   ]
  },
  {
   "cell_type": "markdown",
   "metadata": {},
   "source": [
    "The **order_total** column has the total price for an order. This price can be incorrect for some orders. To ensure we have correct value for each order, we need to get the individual price of each Item."
   ]
  },
  {
   "cell_type": "markdown",
   "metadata": {},
   "source": [
    "To get the price of each Item, I use Linear algebra. \n",
    "\n",
    "In this I am solving Linear equations in Two variables to get the price of Two items at a time."
   ]
  },
  {
   "cell_type": "code",
   "execution_count": 41,
   "metadata": {
    "scrolled": false
   },
   "outputs": [],
   "source": [
    "lst = {}\n",
    "\n",
    "dict_item_price = {}\n",
    "\n",
    "lst_items_names = set(list_items)\n",
    "\n",
    "# make a dict to store the price of the items\n",
    "for item_name in list(lst_items_names):\n",
    "    dict_item_price[item_name] = []\n",
    "\n",
    "# Solve linear equation for each of the 2 combinations of the orders.\n",
    "# first order\n",
    "for index, row in df1.iterrows():\n",
    "    \n",
    "    # first eq coefficients\n",
    "    a_coeff =  re.findall(r'\\(\\'\\w+\\s?\\d*\\w*\\',\\s(.*?)\\)',row['shopping_cart'])    \n",
    "    #print(a_coeff)\n",
    "    \n",
    "    # first equation RHS\n",
    "    a_rhs = row['order_price']\n",
    "\n",
    "    # make a adictionary to store the order_id of rows that have same type of order\n",
    "    lst[row['order_id']] = []\n",
    "        \n",
    "    # get the name of all the items for current order\n",
    "    lst_items = re.findall(r'\\'(.*?)\\'',str(row['shopping_items']))\n",
    "    \n",
    "    # second order\n",
    "    for index2, row2 in df1.iterrows():\n",
    "        \n",
    "        # we check only for cart with two items\n",
    "        if ((row['shopping_items'] == row2['shopping_items']) and len(row['shopping_items']) == 2 ):\n",
    "            \n",
    "            lst[row['order_id']] = lst[row['order_id']] + [row2['order_id']]\n",
    "            \n",
    "            # second equation coefficients\n",
    "            b_coeff =  re.findall(r'\\(\\'\\w+\\s?\\d*\\w*\\',\\s(.*?)\\)',row2['shopping_cart'])\n",
    "            \n",
    "            # second equation RHS\n",
    "            b_rhs = row2['order_price']\n",
    "            \n",
    "            # go ahead if the 2 equations have same number of coefficients\n",
    "            if (len(a_coeff) == len(b_coeff)):\n",
    "                \n",
    "                # 2 coefficients of the linear equation\n",
    "                coeff = np.array([a_coeff, b_coeff],dtype='float')\n",
    "                \n",
    "                # constant on the RHS of the linear equation.\n",
    "                rhs = np.array([a_rhs,b_rhs])\n",
    "                \n",
    "                # using try as we will get exceptions in case the coefficients \n",
    "                # are same for the two linear equations\n",
    "                try:\n",
    "                    # equation result\n",
    "                    x = np.linalg.solve(coeff, rhs)\n",
    "                except np.linalg.LinAlgError:\n",
    "                    continue\n",
    "                else:\n",
    "                    # storing the price of the 2 items in a dictionary \n",
    "                    dict_item_price[lst_items[0]].append(x[0])\n",
    "                    dict_item_price[lst_items[1]].append(x[1])"
   ]
  },
  {
   "cell_type": "markdown",
   "metadata": {},
   "source": [
    "### Count of Prices of Each Items"
   ]
  },
  {
   "cell_type": "markdown",
   "metadata": {},
   "source": [
    "After solving the Linear eauations, the Price of items we get is as a Dictionary storing the list of price for each of the 10 items."
   ]
  },
  {
   "cell_type": "markdown",
   "metadata": {},
   "source": [
    "Looking at the count of Price for each Item, we can find the correct item price of each of the 10 items.\n",
    "\n",
    "The item price which has the maximum count will be the correct price for that item."
   ]
  },
  {
   "cell_type": "code",
   "execution_count": 42,
   "metadata": {
    "scrolled": true
   },
   "outputs": [
    {
     "name": "stdout",
     "output_type": "stream",
     "text": [
      "Candle Inferno {430.0: 22}\n",
      "Olivia x460 {1225.0: 18, 7365.0: 2}\n",
      "Lucent 330S {12770.0: 2, -4540.0: 8, 1230.0: 34, 17470.0: 2}\n",
      "Toshika 750 {4320.0: 36, 5018.333333333333: 2, -1820.0: 2, -120.0: 2}\n",
      "Alcon 10 {7553.333333333334: 2, -3640.0: 2, -310.0: 2, 8950.0: 30, -610.0: 4}\n",
      "Universe Note {5670.0: 2, 8080.0: 2, 11475.0: 2, -6570.0: 4, 8825.0: 4, 3450.0: 26}\n",
      "iStream {710.0: 2, -13690.0: 2, 9710.0: 4, 150.0: 40, -7970.0: 2}\n",
      "Thunder line {27360.0: 2, 2180.0: 48, 6160.0: 2, 3506.666666666667: 2, 13720.0: 8, -3590.0: 2}\n",
      "iAssist Line {2225.0: 10, -3150.0: 4, 1665.0: 2}\n",
      "pearTV {33990.0: 2, 6310.0: 16, 3656.6666666666665: 2, -1715.0: 2, 11320.0: 4, 2330.0: 2}\n"
     ]
    }
   ],
   "source": [
    "# Dictionary to store the final item prices\n",
    "final_item_prices = {}\n",
    "\n",
    "# traverse all the items\n",
    "for item_name,values in dict_item_price.items():\n",
    "    \n",
    "    # creating dict of count of prices for each item \n",
    "    data = dict((x,dict_item_price[item_name].count(x)) for x in set(dict_item_price[item_name]))\n",
    "    print(item_name,data)\n",
    "    \n",
    "    # get the maximum count of prices of each item stored in the dictionary. \n",
    "    max_count = max(data.values())\n",
    "    \n",
    "    # storing the correct item price in a new dictionary with key as Item name and value as the item price\n",
    "    for key2,value in data.items():\n",
    "        if value == max_count:\n",
    "            final_item_prices[item_name] = key2"
   ]
  },
  {
   "cell_type": "markdown",
   "metadata": {},
   "source": [
    "### Final price of the 10 items"
   ]
  },
  {
   "cell_type": "markdown",
   "metadata": {},
   "source": [
    "Correct item price of each of the 10 items sold by the Store"
   ]
  },
  {
   "cell_type": "code",
   "execution_count": 43,
   "metadata": {},
   "outputs": [
    {
     "data": {
      "text/plain": [
       "{'Candle Inferno': 430.0,\n",
       " 'Olivia x460': 1225.0,\n",
       " 'Lucent 330S': 1230.0,\n",
       " 'Toshika 750': 4320.0,\n",
       " 'Alcon 10': 8950.0,\n",
       " 'Universe Note': 3450.0,\n",
       " 'iStream': 150.0,\n",
       " 'Thunder line': 2180.0,\n",
       " 'iAssist Line': 2225.0,\n",
       " 'pearTV': 6310.0}"
      ]
     },
     "execution_count": 43,
     "metadata": {},
     "output_type": "execute_result"
    }
   ],
   "source": [
    "final_item_prices"
   ]
  },
  {
   "cell_type": "markdown",
   "metadata": {},
   "source": [
    "## Calculate the order_price"
   ]
  },
  {
   "cell_type": "markdown",
   "metadata": {},
   "source": [
    "Now we can calculate the **order_price** for each item as we have the price of each Item of the Shopping cart"
   ]
  },
  {
   "cell_type": "code",
   "execution_count": 44,
   "metadata": {},
   "outputs": [],
   "source": [
    "def get_order_price(cart):\n",
    "    '''\n",
    "    Function to calculate the order_price\n",
    "    '''\n",
    "    # get the name of all the items in the shopping cart for an order\n",
    "    list_items = re.findall(r'\\'(.*?)\\'',cart)\n",
    "    \n",
    "    # get the corresponding item quantity of each item for the order\n",
    "    list_quantity = re.findall(r'\\(\\'\\w+\\s?\\d*\\w*\\',\\s(.*?)\\)',cart)\n",
    "    \n",
    "    # as we know the item names and quantity is for the same order\n",
    "    # we can combine them together to form a tuple\n",
    "    item_order = zip(list_items,list_quantity)\n",
    "    \n",
    "    order_price = 0\n",
    "    \n",
    "    # calculate the order_price\n",
    "    for order in item_order:\n",
    "        order_price = order_price + float(final_item_prices[order[0]]) * float(order[1])\n",
    "    \n",
    "    return int(order_price)"
   ]
  },
  {
   "cell_type": "markdown",
   "metadata": {},
   "source": [
    "Store the calculated order_price as a new column"
   ]
  },
  {
   "cell_type": "code",
   "execution_count": 45,
   "metadata": {},
   "outputs": [],
   "source": [
    "df1['check_order_price'] = df1['shopping_cart'].apply(lambda x : get_order_price(x) )"
   ]
  },
  {
   "cell_type": "markdown",
   "metadata": {},
   "source": [
    "Lets inspect the orders that have different order_price than calcluated"
   ]
  },
  {
   "cell_type": "code",
   "execution_count": 46,
   "metadata": {},
   "outputs": [],
   "source": [
    "df_incorrect_order_price = df1[ df1['check_order_price'] != df1['order_price'] ]"
   ]
  },
  {
   "cell_type": "markdown",
   "metadata": {},
   "source": [
    "There are **53 rows** that have incorrect **order_price**\n",
    "\n",
    "Other possiblity is that the **shopping items** can be wrong for these 53 order."
   ]
  },
  {
   "cell_type": "code",
   "execution_count": 47,
   "metadata": {},
   "outputs": [
    {
     "data": {
      "text/plain": [
       "(53, 19)"
      ]
     },
     "execution_count": 47,
     "metadata": {},
     "output_type": "execute_result"
    }
   ],
   "source": [
    "df_incorrect_order_price.shape"
   ]
  },
  {
   "cell_type": "markdown",
   "metadata": {},
   "source": [
    "## Shopping Cart items CORRECT - order_price not calculated properly"
   ]
  },
  {
   "cell_type": "markdown",
   "metadata": {},
   "source": [
    "The order_total and shopping_cart is correct for these orders."
   ]
  },
  {
   "cell_type": "markdown",
   "metadata": {},
   "source": [
    "Out of the 53 rows, for the **29 rows** calculation of **order_price is not correct**\n",
    "\n",
    "We need to calculate the order_price using the individual item prices"
   ]
  },
  {
   "cell_type": "code",
   "execution_count": 48,
   "metadata": {},
   "outputs": [
    {
     "data": {
      "text/plain": [
       "(29, 19)"
      ]
     },
     "execution_count": 48,
     "metadata": {},
     "output_type": "execute_result"
    }
   ],
   "source": [
    "df_corr_cart_incorr_order_price = df_incorrect_order_price[df_incorrect_order_price['order_price'] != ((df_incorrect_order_price['order_total'] - df_incorrect_order_price['delivery_charges'])/(100-df_incorrect_order_price['coupon_discount']))*100]\n",
    "df_corr_cart_incorr_order_price.shape"
   ]
  },
  {
   "cell_type": "markdown",
   "metadata": {},
   "source": [
    "### Impute order_price for the 29 rows where order_price is incorrect"
   ]
  },
  {
   "cell_type": "markdown",
   "metadata": {},
   "source": [
    "As we know that the shopping cart items are correct for these 29 orders, we can calculate the correct order_price by using the indicidual item price and quantity of the order.\n",
    "\n",
    "Imputing the order_price for the 29 orders in the original dataframe."
   ]
  },
  {
   "cell_type": "code",
   "execution_count": 49,
   "metadata": {},
   "outputs": [],
   "source": [
    "lst_imputed_prices = []\n",
    "\n",
    "# for the 29 orders impute the order_price\n",
    "for x in list(df_corr_cart_incorr_order_price.index):\n",
    "    \n",
    "    # get the item name for each order\n",
    "    item_name = get_item_names(df1.loc[x,'shopping_cart'])\n",
    "    \n",
    "    # get item qty for each order\n",
    "    item_qty = get_item_qty(df1.loc[x,'shopping_cart'])\n",
    "    \n",
    "    orders = zip(item_name,item_qty)\n",
    "    \n",
    "    order_price = 0\n",
    "    \n",
    "    # calculate the total price of a order\n",
    "    for order in tuple(orders):\n",
    "        order_price = order_price + final_item_prices[order[0]] * float(order[1])\n",
    "    \n",
    "    # replace in the original dataframe\n",
    "    df1.loc[x,'order_price'] = order_price\n",
    "    \n",
    "    lst_imputed_prices.append(order_price)\n",
    "    "
   ]
  },
  {
   "cell_type": "markdown",
   "metadata": {},
   "source": [
    "### Check after imputation"
   ]
  },
  {
   "cell_type": "markdown",
   "metadata": {},
   "source": [
    "Checking the order price after imputatuion using a Scatter plot.\n",
    "\n",
    "As we know that the order_price and order_total have a linear relation, we can use the Scatter plot to verify whether our imputation is correct or not."
   ]
  },
  {
   "cell_type": "code",
   "execution_count": 50,
   "metadata": {
    "scrolled": true
   },
   "outputs": [
    {
     "data": {
      "text/plain": [
       "[<matplotlib.lines.Line2D at 0x1d0bd3658c8>]"
      ]
     },
     "execution_count": 50,
     "metadata": {},
     "output_type": "execute_result"
    },
    {
     "data": {
      "image/png": "[encoded data removed]",
      "text/plain": [
       "<Figure size 432x288 with 1 Axes>"
      ]
     },
     "metadata": {
      "needs_background": "light"
     },
     "output_type": "display_data"
    }
   ],
   "source": [
    "# plot of old order_total v/s newly imputed order_price\n",
    "\n",
    "plt.xlabel('order_total')\n",
    "plt.ylabel('order_price')\n",
    "plt.plot(list(df_corr_cart_incorr_order_price['order_total']),lst_imputed_prices,'.r')"
   ]
  },
  {
   "cell_type": "markdown",
   "metadata": {},
   "source": [
    "The order_price and order_total has a straight line which means the imputation is correct for order_price."
   ]
  },
  {
   "cell_type": "markdown",
   "metadata": {},
   "source": [
    "### Reverse calculate the order_price"
   ]
  },
  {
   "cell_type": "markdown",
   "metadata": {},
   "source": [
    "### Shopping cart items WRONG - order_price correct"
   ]
  },
  {
   "cell_type": "markdown",
   "metadata": {},
   "source": [
    "As we can reverse calculate the **order_price** from order_total and delivery_charges, we can be certain that the order_price is correct, and the items are wrong in the shopping cart."
   ]
  },
  {
   "cell_type": "code",
   "execution_count": 51,
   "metadata": {},
   "outputs": [],
   "source": [
    "df_rel_holds = df_incorrect_order_price[df_incorrect_order_price['order_price'] == ((df_incorrect_order_price['order_total'] - df_incorrect_order_price['delivery_charges'])/(100-df_incorrect_order_price['coupon_discount']))*100]"
   ]
  },
  {
   "cell_type": "markdown",
   "metadata": {},
   "source": [
    "Out of the 53 orders, **24 orders** have the correct order_price.\n",
    "\n",
    "This means that the **shoppping cart items are wrong** for these orders"
   ]
  },
  {
   "cell_type": "markdown",
   "metadata": {},
   "source": [
    "### Function to find the correct cart item for these 24 orders"
   ]
  },
  {
   "cell_type": "markdown",
   "metadata": {},
   "source": [
    "As we know the correct order_price for the order, we can us this as a condition to identify the incorrect item of the cart."
   ]
  },
  {
   "cell_type": "markdown",
   "metadata": {},
   "source": [
    "The find the correct item of the order, I substitute each of the item of the shopping cart with the 10 items the store sells.\n",
    "\n",
    "The item for which the true order_price matches the calculated order_price after substitution, is the correct item for that order."
   ]
  },
  {
   "cell_type": "code",
   "execution_count": 52,
   "metadata": {
    "scrolled": true
   },
   "outputs": [
    {
     "name": "stdout",
     "output_type": "stream",
     "text": [
      "[('Alcon 10', 2), ('iStream', 2), ('pearTV', 2)]\n",
      "[('Thunder line', 2), ('Alcon 10', 1), ('iAssist Line', 1), ('Lucent 330S', 1)]\n",
      "[('Lucent 330S', 2), ('iStream', 2), ('iAssist Line', 1)]\n",
      "[('Thunder line', 1), ('Universe Note', 2), ('Alcon 10', 2), ('iAssist Line', 2)]\n",
      "[('Lucent 330S', 1), ('Toshika 750', 1)]\n",
      "[('Universe Note', 1), ('Toshika 750', 1)]\n",
      "[('Universe Note', 2), ('Alcon 10', 1), ('iAssist Line', 2)]\n",
      "[('Thunder line', 1), ('Toshika 750', 2)]\n",
      "[('Universe Note', 1), ('Candle Inferno', 1), ('pearTV', 1), ('iStream', 1)]\n",
      "[('pearTV', 2), ('Thunder line', 2), ('Toshika 750', 1)]\n",
      "[('Toshika 750', 1), ('pearTV', 1), ('Universe Note', 2), ('Candle Inferno', 2)]\n",
      "[('Toshika 750', 1), ('Olivia x460', 2), ('Thunder line', 2), ('Alcon 10', 1)]\n",
      "[('Alcon 10', 2), ('iAssist Line', 1)]\n",
      "[('Candle Inferno', 2), ('iAssist Line', 1)]\n",
      "[('Alcon 10', 1), ('iAssist Line', 2), ('Universe Note', 2)]\n",
      "[('iAssist Line', 2), ('Universe Note', 1)]\n",
      "[('Universe Note', 1), ('Candle Inferno', 2), ('Toshika 750', 2), ('iStream', 1)]\n",
      "[('Toshika 750', 1), ('iStream', 2), ('Lucent 330S', 2), ('pearTV', 2)]\n",
      "[('Candle Inferno', 1), ('Toshika 750', 1), ('Thunder line', 2), ('Olivia x460', 2)]\n",
      "[('iStream', 2), ('Thunder line', 1), ('Lucent 330S', 1)]\n",
      "[('Lucent 330S', 2), ('Universe Note', 2), ('iAssist Line', 1)]\n",
      "[('Lucent 330S', 2), ('Toshika 750', 2)]\n",
      "[('iStream', 2), ('pearTV', 2), ('Universe Note', 2)]\n",
      "[('Olivia x460', 2), ('Toshika 750', 1), ('Lucent 330S', 2), ('Candle Inferno', 1)]\n"
     ]
    }
   ],
   "source": [
    "# traverse each of the rows\n",
    "for index, row in df_rel_holds.iterrows():\n",
    "    \n",
    "    # flag\n",
    "    correct_item_found = False\n",
    "    \n",
    "    # substitute each of the 10 items in shopping cart\n",
    "    for item,price in final_item_prices.items():\n",
    "        \n",
    "        # get the items of this order\n",
    "        items = get_item_names(row['shopping_cart'])\n",
    "        \n",
    "        # get the qty of this order\n",
    "        qty = get_item_qty(row['shopping_cart'])\n",
    "        \n",
    "        # flag for items in the cart \n",
    "        i = 0\n",
    "        \n",
    "        # do the check for each of the items of the cart\n",
    "        while i < len(items):\n",
    "            \n",
    "            # get the items again as the items have been modified\n",
    "            items = get_item_names(row['shopping_cart'])\n",
    "            \n",
    "            # substitute each of the item of the cart\n",
    "            items[i] = item\n",
    "            \n",
    "            # zip the item and qty to form a tuple\n",
    "            items_tuple = zip(items,qty)\n",
    "            \n",
    "            # intialize\n",
    "            check_order_price = 0\n",
    "            \n",
    "            # calculating the total order_price\n",
    "            for order in items_tuple:\n",
    "                \n",
    "                order = tuple(order)\n",
    "                \n",
    "                # value of calculated order_price after substitution\n",
    "                check_order_price = check_order_price + final_item_prices[order[0]] * float(order[1]) \n",
    "            \n",
    "            # check with the true order_price\n",
    "            if check_order_price == row['order_price']:\n",
    "                \n",
    "                correct_item_found = True\n",
    "                \n",
    "                # get out of this loop - we found the correct item name\n",
    "                break\n",
    "            i = i + 1\n",
    "            \n",
    "        if correct_item_found:\n",
    "            qty = map(int,qty)\n",
    "            \n",
    "            # modified shopping cart\n",
    "            new_cart = list(zip(items,qty))\n",
    "            print(str(new_cart))\n",
    "            \n",
    "            # replace with the modified cart\n",
    "            df1.loc[index,'shopping_cart'] = str(new_cart)\n",
    "            break"
   ]
  },
  {
   "cell_type": "markdown",
   "metadata": {},
   "source": [
    "### Check the Shopping cart after replacing the incorrect cart item"
   ]
  },
  {
   "cell_type": "code",
   "execution_count": 53,
   "metadata": {},
   "outputs": [],
   "source": [
    "df1['check_order_price'] = df1['shopping_cart'].apply(lambda x : get_order_price(x) )"
   ]
  },
  {
   "cell_type": "markdown",
   "metadata": {},
   "source": [
    "As we get no rows for the below query, the shopping cart has been fixed"
   ]
  },
  {
   "cell_type": "code",
   "execution_count": 54,
   "metadata": {},
   "outputs": [
    {
     "data": {
      "text/html": [
       "<div>\n",
       "<style scoped>\n",
       "    .dataframe tbody tr th:only-of-type {\n",
       "        vertical-align: middle;\n",
       "    }\n",
       "\n",
       "    .dataframe tbody tr th {\n",
       "        vertical-align: top;\n",
       "    }\n",
       "\n",
       "    .dataframe thead th {\n",
       "        text-align: right;\n",
       "    }\n",
       "</style>\n",
       "<table border=\"1\" class=\"dataframe\">\n",
       "  <thead>\n",
       "    <tr style=\"text-align: right;\">\n",
       "      <th></th>\n",
       "      <th>order_id</th>\n",
       "      <th>customer_id</th>\n",
       "      <th>date</th>\n",
       "      <th>nearest_warehouse</th>\n",
       "      <th>shopping_cart</th>\n",
       "      <th>order_price</th>\n",
       "      <th>delivery_charges</th>\n",
       "      <th>customer_lat</th>\n",
       "      <th>customer_long</th>\n",
       "      <th>coupon_discount</th>\n",
       "      <th>order_total</th>\n",
       "      <th>season</th>\n",
       "      <th>is_expedited_delivery</th>\n",
       "      <th>distance_to_nearest_warehouse</th>\n",
       "      <th>latest_customer_review</th>\n",
       "      <th>is_happy_customer</th>\n",
       "      <th>shopping_items</th>\n",
       "      <th>shopping_item_qty</th>\n",
       "      <th>check_order_price</th>\n",
       "    </tr>\n",
       "  </thead>\n",
       "  <tbody>\n",
       "  </tbody>\n",
       "</table>\n",
       "</div>"
      ],
      "text/plain": [
       "Empty DataFrame\n",
       "Columns: [order_id, customer_id, date, nearest_warehouse, shopping_cart, order_price, delivery_charges, customer_lat, customer_long, coupon_discount, order_total, season, is_expedited_delivery, distance_to_nearest_warehouse, latest_customer_review, is_happy_customer, shopping_items, shopping_item_qty, check_order_price]\n",
       "Index: []"
      ]
     },
     "execution_count": 54,
     "metadata": {},
     "output_type": "execute_result"
    }
   ],
   "source": [
    "df1[df1['check_order_price'] != df1['order_price']]"
   ]
  },
  {
   "cell_type": "markdown",
   "metadata": {},
   "source": [
    "### Check the order_total column"
   ]
  },
  {
   "cell_type": "markdown",
   "metadata": {},
   "source": [
    "As we already know the **order_price**, **delivery_charges** and the **coupon_discount**; we can calculate the order_total using the below equation:\n",
    "\n",
    "order_total =  (order_price*(1 - discount/100)) + delivery_price"
   ]
  },
  {
   "cell_type": "markdown",
   "metadata": {},
   "source": [
    "Storing the correct **order_total** value in a new column"
   ]
  },
  {
   "cell_type": "code",
   "execution_count": 55,
   "metadata": {},
   "outputs": [],
   "source": [
    "df1['check_order_total'] = df1['order_price']*( 1 - df1['coupon_discount'] / 100 )  + df1['delivery_charges']"
   ]
  },
  {
   "cell_type": "markdown",
   "metadata": {},
   "source": [
    "### Rows with WRONG value of order_total"
   ]
  },
  {
   "cell_type": "code",
   "execution_count": 56,
   "metadata": {},
   "outputs": [
    {
     "data": {
      "text/plain": [
       "(32, 20)"
      ]
     },
     "execution_count": 56,
     "metadata": {},
     "output_type": "execute_result"
    }
   ],
   "source": [
    "df_incorrect_order_total = df1[ df1['check_order_total'] != df1['order_total'] ]\n",
    "df_incorrect_order_total.shape"
   ]
  },
  {
   "cell_type": "markdown",
   "metadata": {},
   "source": [
    "There are 32 orders that have incorrect value of order_total"
   ]
  },
  {
   "cell_type": "markdown",
   "metadata": {},
   "source": [
    "### Impute the order_total"
   ]
  },
  {
   "cell_type": "markdown",
   "metadata": {},
   "source": [
    "Replace the order_total with the correct values"
   ]
  },
  {
   "cell_type": "code",
   "execution_count": 57,
   "metadata": {},
   "outputs": [],
   "source": [
    "for x in df_incorrect_order_total.index:\n",
    "    df1.loc[x,'order_total'] = df_incorrect_order_total.loc[x,'check_order_total']"
   ]
  },
  {
   "cell_type": "markdown",
   "metadata": {},
   "source": [
    "### Check after impute **order_total**"
   ]
  },
  {
   "cell_type": "code",
   "execution_count": 58,
   "metadata": {},
   "outputs": [
    {
     "data": {
      "text/html": [
       "<div>\n",
       "<style scoped>\n",
       "    .dataframe tbody tr th:only-of-type {\n",
       "        vertical-align: middle;\n",
       "    }\n",
       "\n",
       "    .dataframe tbody tr th {\n",
       "        vertical-align: top;\n",
       "    }\n",
       "\n",
       "    .dataframe thead th {\n",
       "        text-align: right;\n",
       "    }\n",
       "</style>\n",
       "<table border=\"1\" class=\"dataframe\">\n",
       "  <thead>\n",
       "    <tr style=\"text-align: right;\">\n",
       "      <th></th>\n",
       "      <th>order_id</th>\n",
       "      <th>customer_id</th>\n",
       "      <th>date</th>\n",
       "      <th>nearest_warehouse</th>\n",
       "      <th>shopping_cart</th>\n",
       "      <th>order_price</th>\n",
       "      <th>delivery_charges</th>\n",
       "      <th>customer_lat</th>\n",
       "      <th>customer_long</th>\n",
       "      <th>coupon_discount</th>\n",
       "      <th>order_total</th>\n",
       "      <th>season</th>\n",
       "      <th>is_expedited_delivery</th>\n",
       "      <th>distance_to_nearest_warehouse</th>\n",
       "      <th>latest_customer_review</th>\n",
       "      <th>is_happy_customer</th>\n",
       "      <th>shopping_items</th>\n",
       "      <th>shopping_item_qty</th>\n",
       "      <th>check_order_price</th>\n",
       "      <th>check_order_total</th>\n",
       "    </tr>\n",
       "  </thead>\n",
       "  <tbody>\n",
       "  </tbody>\n",
       "</table>\n",
       "</div>"
      ],
      "text/plain": [
       "Empty DataFrame\n",
       "Columns: [order_id, customer_id, date, nearest_warehouse, shopping_cart, order_price, delivery_charges, customer_lat, customer_long, coupon_discount, order_total, season, is_expedited_delivery, distance_to_nearest_warehouse, latest_customer_review, is_happy_customer, shopping_items, shopping_item_qty, check_order_price, check_order_total]\n",
       "Index: []"
      ]
     },
     "execution_count": 58,
     "metadata": {},
     "output_type": "execute_result"
    }
   ],
   "source": [
    "df1[ df1['check_order_total'] != df1['order_total'] ]"
   ]
  },
  {
   "cell_type": "markdown",
   "metadata": {},
   "source": [
    "As we get no result for the above query, we can be sure that the order_total column is fixed"
   ]
  },
  {
   "cell_type": "markdown",
   "metadata": {},
   "source": [
    "## Check for Latitude and Longitude"
   ]
  },
  {
   "cell_type": "markdown",
   "metadata": {},
   "source": [
    "Looking at the below scatter plot of Latitude and Longitude, we can see that the values are mirror image of each other. This suggests that the values of Latitude and Longitude have been interchaged by mistake."
   ]
  },
  {
   "cell_type": "code",
   "execution_count": 59,
   "metadata": {},
   "outputs": [
    {
     "data": {
      "text/plain": [
       "[<matplotlib.lines.Line2D at 0x1d0bd71f488>]"
      ]
     },
     "execution_count": 59,
     "metadata": {},
     "output_type": "execute_result"
    },
    {
     "data": {
      "image/png": "[encoded data removed]",
      "text/plain": [
       "<Figure size 432x288 with 1 Axes>"
      ]
     },
     "metadata": {
      "needs_background": "light"
     },
     "output_type": "display_data"
    }
   ],
   "source": [
    "plt.xlabel('Customer latitude')\n",
    "plt.ylabel('Customer longitude')\n",
    "plt.plot(df1.customer_lat,  df1.customer_long, '.r')"
   ]
  },
  {
   "cell_type": "code",
   "execution_count": 60,
   "metadata": {},
   "outputs": [
    {
     "data": {
      "text/plain": [
       "count    500.000000\n",
       "mean     -27.942141\n",
       "std       41.352126\n",
       "min      -37.840654\n",
       "25%      -37.817920\n",
       "50%      -37.811857\n",
       "75%      -37.804250\n",
       "max      144.997298\n",
       "Name: customer_lat, dtype: float64"
      ]
     },
     "execution_count": 60,
     "metadata": {},
     "output_type": "execute_result"
    }
   ],
   "source": [
    "df1.customer_lat.describe()"
   ]
  },
  {
   "cell_type": "markdown",
   "metadata": {},
   "source": [
    "### Looks like the Latitude and Langitude have been swapped by mistake"
   ]
  },
  {
   "cell_type": "code",
   "execution_count": 61,
   "metadata": {},
   "outputs": [],
   "source": [
    "df_incorrect_lat_long = df1[df1.customer_lat > -37 ]"
   ]
  },
  {
   "cell_type": "markdown",
   "metadata": {},
   "source": [
    "### Swap the Latitude and Longitude"
   ]
  },
  {
   "cell_type": "markdown",
   "metadata": {},
   "source": [
    "Correcting the Latitude and Longitude columns."
   ]
  },
  {
   "cell_type": "code",
   "execution_count": 62,
   "metadata": {},
   "outputs": [
    {
     "name": "stderr",
     "output_type": "stream",
     "text": [
      "C:\\Users\\prash\\Anaconda3\\lib\\site-packages\\pandas\\core\\frame.py:4223: SettingWithCopyWarning: \n",
      "A value is trying to be set on a copy of a slice from a DataFrame\n",
      "\n",
      "See the caveats in the documentation: http://pandas.pydata.org/pandas-docs/stable/user_guide/indexing.html#returning-a-view-versus-a-copy\n",
      "  return super().rename(**kwargs)\n"
     ]
    }
   ],
   "source": [
    "df_incorrect_lat_long.rename(columns = {'customer_lat': 'customer_long', 'customer_long' : 'customer_lat'}, inplace = True)\n",
    "\n",
    "# change the original dataframe\n",
    "for x in df_incorrect_lat_long.index:\n",
    "    df1.loc[x] = df_incorrect_lat_long.loc[x]"
   ]
  },
  {
   "cell_type": "markdown",
   "metadata": {},
   "source": [
    "### Check after replace"
   ]
  },
  {
   "cell_type": "code",
   "execution_count": 63,
   "metadata": {},
   "outputs": [
    {
     "data": {
      "text/html": [
       "<div>\n",
       "<style scoped>\n",
       "    .dataframe tbody tr th:only-of-type {\n",
       "        vertical-align: middle;\n",
       "    }\n",
       "\n",
       "    .dataframe tbody tr th {\n",
       "        vertical-align: top;\n",
       "    }\n",
       "\n",
       "    .dataframe thead th {\n",
       "        text-align: right;\n",
       "    }\n",
       "</style>\n",
       "<table border=\"1\" class=\"dataframe\">\n",
       "  <thead>\n",
       "    <tr style=\"text-align: right;\">\n",
       "      <th></th>\n",
       "      <th>order_id</th>\n",
       "      <th>customer_id</th>\n",
       "      <th>date</th>\n",
       "      <th>nearest_warehouse</th>\n",
       "      <th>shopping_cart</th>\n",
       "      <th>order_price</th>\n",
       "      <th>delivery_charges</th>\n",
       "      <th>customer_lat</th>\n",
       "      <th>customer_long</th>\n",
       "      <th>coupon_discount</th>\n",
       "      <th>order_total</th>\n",
       "      <th>season</th>\n",
       "      <th>is_expedited_delivery</th>\n",
       "      <th>distance_to_nearest_warehouse</th>\n",
       "      <th>latest_customer_review</th>\n",
       "      <th>is_happy_customer</th>\n",
       "      <th>shopping_items</th>\n",
       "      <th>shopping_item_qty</th>\n",
       "      <th>check_order_price</th>\n",
       "      <th>check_order_total</th>\n",
       "    </tr>\n",
       "  </thead>\n",
       "  <tbody>\n",
       "  </tbody>\n",
       "</table>\n",
       "</div>"
      ],
      "text/plain": [
       "Empty DataFrame\n",
       "Columns: [order_id, customer_id, date, nearest_warehouse, shopping_cart, order_price, delivery_charges, customer_lat, customer_long, coupon_discount, order_total, season, is_expedited_delivery, distance_to_nearest_warehouse, latest_customer_review, is_happy_customer, shopping_items, shopping_item_qty, check_order_price, check_order_total]\n",
       "Index: []"
      ]
     },
     "execution_count": 63,
     "metadata": {},
     "output_type": "execute_result"
    }
   ],
   "source": [
    "df1[df1.customer_lat > -37 ]"
   ]
  },
  {
   "cell_type": "markdown",
   "metadata": {},
   "source": [
    "## Check the is_happy_customer column"
   ]
  },
  {
   "cell_type": "markdown",
   "metadata": {},
   "source": [
    "Using the SentimentIntensityAnalyzer class from nltk to do the sentiment analysis of the customer review"
   ]
  },
  {
   "cell_type": "code",
   "execution_count": 64,
   "metadata": {},
   "outputs": [],
   "source": [
    "senti = SentimentIntensityAnalyzer()"
   ]
  },
  {
   "cell_type": "markdown",
   "metadata": {},
   "source": [
    "### Generate a column for latest_customer_review"
   ]
  },
  {
   "cell_type": "markdown",
   "metadata": {},
   "source": [
    "If the compound polarity score is more than 0.05 we say that the customer was happy with the purchase"
   ]
  },
  {
   "cell_type": "code",
   "execution_count": 65,
   "metadata": {},
   "outputs": [],
   "source": [
    "def check_latest_customer_review(sentence):\n",
    "    '''\n",
    "    Function to check the sentiment of customer based on the product review\n",
    "    '''\n",
    "    \n",
    "    if senti.polarity_scores(sentence)['compound'] >= 0.05:\n",
    "        return True\n",
    "    else:\n",
    "        return False"
   ]
  },
  {
   "cell_type": "code",
   "execution_count": 66,
   "metadata": {},
   "outputs": [],
   "source": [
    "df1['check_is_customer_happy'] = df1['latest_customer_review'].apply(check_latest_customer_review)"
   ]
  },
  {
   "cell_type": "markdown",
   "metadata": {},
   "source": [
    "We perform a **XOR** operation to check if the **is_happy_customer** has correct value"
   ]
  },
  {
   "cell_type": "markdown",
   "metadata": {},
   "source": [
    "**XOR** give the rows where the calculated customer sentiment is different from the given customer sentiment "
   ]
  },
  {
   "cell_type": "markdown",
   "metadata": {},
   "source": [
    "These rows have inncorrect value for **is_happy_customer**"
   ]
  },
  {
   "cell_type": "code",
   "execution_count": 67,
   "metadata": {},
   "outputs": [],
   "source": [
    "df_incorrect_is_happy_customer = df1[df1.is_happy_customer ^ df1.check_is_customer_happy]"
   ]
  },
  {
   "cell_type": "code",
   "execution_count": 68,
   "metadata": {},
   "outputs": [
    {
     "data": {
      "text/plain": [
       "(28, 21)"
      ]
     },
     "execution_count": 68,
     "metadata": {},
     "output_type": "execute_result"
    }
   ],
   "source": [
    "df_incorrect_is_happy_customer.shape"
   ]
  },
  {
   "cell_type": "markdown",
   "metadata": {},
   "source": [
    "28 orders that have incorrect value for **is_happy_customer**"
   ]
  },
  {
   "cell_type": "code",
   "execution_count": 69,
   "metadata": {},
   "outputs": [
    {
     "name": "stderr",
     "output_type": "stream",
     "text": [
      "C:\\Users\\prash\\Anaconda3\\lib\\site-packages\\ipykernel_launcher.py:1: SettingWithCopyWarning: \n",
      "A value is trying to be set on a copy of a slice from a DataFrame.\n",
      "Try using .loc[row_indexer,col_indexer] = value instead\n",
      "\n",
      "See the caveats in the documentation: http://pandas.pydata.org/pandas-docs/stable/user_guide/indexing.html#returning-a-view-versus-a-copy\n",
      "  \"\"\"Entry point for launching an IPython kernel.\n"
     ]
    }
   ],
   "source": [
    "df_incorrect_is_happy_customer['is_happy_customer'] = df_incorrect_is_happy_customer['check_is_customer_happy']"
   ]
  },
  {
   "cell_type": "markdown",
   "metadata": {},
   "source": [
    "### Impute **is_happy_customer**"
   ]
  },
  {
   "cell_type": "markdown",
   "metadata": {},
   "source": [
    "Changing the value for these incorrect orders"
   ]
  },
  {
   "cell_type": "code",
   "execution_count": 70,
   "metadata": {},
   "outputs": [],
   "source": [
    "for x in df_incorrect_is_happy_customer.index:\n",
    "    df1.loc[x] = df_incorrect_is_happy_customer.loc[x]"
   ]
  },
  {
   "cell_type": "markdown",
   "metadata": {},
   "source": [
    "### Check is_happy_customer after imputation "
   ]
  },
  {
   "cell_type": "code",
   "execution_count": 71,
   "metadata": {
    "scrolled": true
   },
   "outputs": [
    {
     "data": {
      "text/html": [
       "<div>\n",
       "<style scoped>\n",
       "    .dataframe tbody tr th:only-of-type {\n",
       "        vertical-align: middle;\n",
       "    }\n",
       "\n",
       "    .dataframe tbody tr th {\n",
       "        vertical-align: top;\n",
       "    }\n",
       "\n",
       "    .dataframe thead th {\n",
       "        text-align: right;\n",
       "    }\n",
       "</style>\n",
       "<table border=\"1\" class=\"dataframe\">\n",
       "  <thead>\n",
       "    <tr style=\"text-align: right;\">\n",
       "      <th></th>\n",
       "      <th>order_id</th>\n",
       "      <th>customer_id</th>\n",
       "      <th>date</th>\n",
       "      <th>nearest_warehouse</th>\n",
       "      <th>shopping_cart</th>\n",
       "      <th>order_price</th>\n",
       "      <th>delivery_charges</th>\n",
       "      <th>customer_lat</th>\n",
       "      <th>customer_long</th>\n",
       "      <th>coupon_discount</th>\n",
       "      <th>...</th>\n",
       "      <th>season</th>\n",
       "      <th>is_expedited_delivery</th>\n",
       "      <th>distance_to_nearest_warehouse</th>\n",
       "      <th>latest_customer_review</th>\n",
       "      <th>is_happy_customer</th>\n",
       "      <th>shopping_items</th>\n",
       "      <th>shopping_item_qty</th>\n",
       "      <th>check_order_price</th>\n",
       "      <th>check_order_total</th>\n",
       "      <th>check_is_customer_happy</th>\n",
       "    </tr>\n",
       "  </thead>\n",
       "  <tbody>\n",
       "  </tbody>\n",
       "</table>\n",
       "<p>0 rows × 21 columns</p>\n",
       "</div>"
      ],
      "text/plain": [
       "Empty DataFrame\n",
       "Columns: [order_id, customer_id, date, nearest_warehouse, shopping_cart, order_price, delivery_charges, customer_lat, customer_long, coupon_discount, order_total, season, is_expedited_delivery, distance_to_nearest_warehouse, latest_customer_review, is_happy_customer, shopping_items, shopping_item_qty, check_order_price, check_order_total, check_is_customer_happy]\n",
       "Index: []\n",
       "\n",
       "[0 rows x 21 columns]"
      ]
     },
     "execution_count": 71,
     "metadata": {},
     "output_type": "execute_result"
    }
   ],
   "source": [
    "df1[df1.is_happy_customer ^ df1.check_is_customer_happy]"
   ]
  },
  {
   "cell_type": "markdown",
   "metadata": {},
   "source": [
    "As we get no result for the above query, we can be sure that the imputation for is_happy_customer is correct"
   ]
  },
  {
   "cell_type": "markdown",
   "metadata": {},
   "source": [
    "## Lets find the nearest_warehouse"
   ]
  },
  {
   "cell_type": "markdown",
   "metadata": {},
   "source": [
    "Using the Havershine formula we can calculate the distance between two location provided we have the latitude and longitude of the 2 locations and the Radius of Earth."
   ]
  },
  {
   "cell_type": "code",
   "execution_count": 72,
   "metadata": {},
   "outputs": [],
   "source": [
    "'''\n",
    "Calculate distance using the Haversine Formula.\n",
    "\n",
    "Reference:\n",
    "https://community.esri.com/groups/coordinate-reference-systems/blog/2017/10/05/haversine-formula\n",
    "'''\n",
    "\n",
    "def haversine(coord1: object, coord2: object):\n",
    "\n",
    "    # Coordinates in decimal degrees (e.g. 2.89078, 12.79797)\n",
    "    lon1, lat1 = coord1\n",
    "    lon2, lat2 = coord2\n",
    "\n",
    "    R = 6378000  # radius of Earth in meters\n",
    "    phi_1 = math.radians(lat1)\n",
    "    phi_2 = math.radians(lat2)\n",
    "\n",
    "    delta_phi = math.radians(lat2 - lat1)\n",
    "    delta_lambda = math.radians(lon2 - lon1)\n",
    "\n",
    "    a = math.sin(delta_phi / 2.0) ** 2 + math.cos(phi_1) * math.cos(phi_2) * math.sin(delta_lambda / 2.0) ** 2\n",
    "    \n",
    "    c = 2 * math.atan2(math.sqrt(a), math.sqrt(1 - a))\n",
    "\n",
    "    meters = R * c  # output distance in meters\n",
    "    km = meters / 1000.0  # output distance in kilometers\n",
    "\n",
    "    meters = round(meters, 3)\n",
    "    km = round(km, 4)\n",
    "\n",
    "    return km"
   ]
  },
  {
   "cell_type": "markdown",
   "metadata": {},
   "source": [
    "Making a new Dataframe of Latitude and Longitude."
   ]
  },
  {
   "cell_type": "code",
   "execution_count": 73,
   "metadata": {
    "scrolled": false
   },
   "outputs": [],
   "source": [
    "# prepare the data in Lat,Long form\n",
    "cust_lat_long = df1[['customer_lat', 'customer_long']].apply(lambda x: ','.join(x.astype(str)), axis = 1)\n",
    "\n",
    "# store the prepared data in a new dataframe \n",
    "df_cust_lat_long = pd.DataFrame(index = range(len(cust_lat_long)), data = cust_lat_long, columns = ['lat_long'])"
   ]
  },
  {
   "cell_type": "markdown",
   "metadata": {},
   "source": [
    "Store the Location of each Warehouse in Dictionary, with key as the warehouse name and value as the co-ordinates."
   ]
  },
  {
   "cell_type": "code",
   "execution_count": 74,
   "metadata": {},
   "outputs": [],
   "source": [
    "dict_warehouses = {'Nickolson': (-37.818595,144.969551),\n",
    "                   'Thompson' : (-37.8126732,144.9470689),\n",
    "                    'Bakers' : (-37.8099961,144.995232)}"
   ]
  },
  {
   "cell_type": "markdown",
   "metadata": {},
   "source": [
    "### Distances from all 3 warehouese"
   ]
  },
  {
   "cell_type": "markdown",
   "metadata": {},
   "source": [
    "Here we calculate the Distance of the Customer from all the 3 warehouse."
   ]
  },
  {
   "cell_type": "code",
   "execution_count": 75,
   "metadata": {},
   "outputs": [],
   "source": [
    "def cal_warehouses_dist(lat_long):\n",
    "    '''\n",
    "    Function to calculate the distance of the customer from all the 3 warehouses.\n",
    "    Return : A dictionary for value of distance of customer from each of the 3 warehouses\n",
    "    '''\n",
    "    \n",
    "    # customer location\n",
    "    lat_long = str(lat_long)\n",
    "    re_results = re.findall(r'(-?\\d+\\.-?\\d+)',lat_long)\n",
    "    \n",
    "    cust_lat = float(re_results[0])\n",
    "    cust_long = float(re_results[1])\n",
    "    \n",
    "    dict_distance_from_warehouses = {}\n",
    "    \n",
    "    # calculate the distance from each of the 3 warehouses\n",
    "    for warehouse,location in dict_warehouses.items():\n",
    "        \n",
    "        # haversine() function needs 2 list containing Lat, Long   \n",
    "        distance_from_warehouse = haversine([location[0],location[1]], [cust_lat,cust_long])\n",
    "        \n",
    "        # store results in a dict\n",
    "        dict_distance_from_warehouses[warehouse] = distance_from_warehouse\n",
    "        \n",
    "    return dict_distance_from_warehouses"
   ]
  },
  {
   "cell_type": "markdown",
   "metadata": {},
   "source": [
    "### Nearest warehouse data"
   ]
  },
  {
   "cell_type": "markdown",
   "metadata": {},
   "source": [
    "As we already calculated the distance of the customer from all the 3 warehouses, we can get the name and distance of the warehouse that is nearest to the customer."
   ]
  },
  {
   "cell_type": "code",
   "execution_count": 76,
   "metadata": {},
   "outputs": [],
   "source": [
    "def get_nearest_warehouse(dict_distance_from_warehouses):\n",
    "    '''\n",
    "    Using the result from cal_warehouses_dist() fucntion, return dictionary having the warehouse closest to the customer\n",
    "    '''\n",
    "    \n",
    "    # get the min distance\n",
    "    min_dist = min(dict_distance_from_warehouses.values())\n",
    "    \n",
    "    # get the name of warehouse corresponding to min distance\n",
    "    nearest_warehouse = [ warehouse for warehouse, distance in dict_distance_from_warehouses.items() if distance == min_dist ]\n",
    "    \n",
    "    dict_nearest_warehouse = {}\n",
    "    \n",
    "    # dict of nearest warehouse name and distance\n",
    "    dict_nearest_warehouse[nearest_warehouse[0]] = min_dist\n",
    "    \n",
    "    return dict_nearest_warehouse"
   ]
  },
  {
   "cell_type": "markdown",
   "metadata": {},
   "source": [
    "### Nearest warehouse name"
   ]
  },
  {
   "cell_type": "markdown",
   "metadata": {},
   "source": [
    "Getting the name of nearest warehouse."
   ]
  },
  {
   "cell_type": "code",
   "execution_count": 77,
   "metadata": {},
   "outputs": [],
   "source": [
    "def get_nearest_warehouse_name(dict_nearest_warehouse):\n",
    "    '''\n",
    "    Using the result from get_nearest_warehouse() fucntion, return the name of warehouse closest to the customer\n",
    "    '''\n",
    "    return list(dict_nearest_warehouse.keys())[0]"
   ]
  },
  {
   "cell_type": "markdown",
   "metadata": {},
   "source": [
    "### Nearest warehoues distance"
   ]
  },
  {
   "cell_type": "markdown",
   "metadata": {},
   "source": [
    "Getting the distance of the nearest warehouse."
   ]
  },
  {
   "cell_type": "code",
   "execution_count": 78,
   "metadata": {},
   "outputs": [],
   "source": [
    "def get_nearest_warehouse_dist(dict_nearest_warehouse):\n",
    "    '''\n",
    "    Using the result from get_nearest_warehouse() fucntion, return the distance of warehouse closest to the customer\n",
    "    '''\n",
    "    return list(dict_nearest_warehouse.values())[0]"
   ]
  },
  {
   "cell_type": "markdown",
   "metadata": {},
   "source": [
    "### Storing the calculated nearest_warehouse and nearest_warehouse_dist in new column."
   ]
  },
  {
   "cell_type": "markdown",
   "metadata": {},
   "source": [
    "Applying the defined function for getting the nearest warehouse on our dataframe."
   ]
  },
  {
   "cell_type": "code",
   "execution_count": 79,
   "metadata": {},
   "outputs": [],
   "source": [
    "df1['check_nearest_warehouse'] = df_cust_lat_long['lat_long'].apply(lambda x : get_nearest_warehouse_name(get_nearest_warehouse(cal_warehouses_dist(x))))"
   ]
  },
  {
   "cell_type": "code",
   "execution_count": 80,
   "metadata": {},
   "outputs": [
    {
     "data": {
      "text/plain": [
       "0         Bakers\n",
       "1         Bakers\n",
       "2      Nickolson\n",
       "3         Bakers\n",
       "4       Thompson\n",
       "         ...    \n",
       "495       Bakers\n",
       "496     Thompson\n",
       "497     Thompson\n",
       "498     Thompson\n",
       "499     Thompson\n",
       "Name: check_nearest_warehouse, Length: 500, dtype: object"
      ]
     },
     "execution_count": 80,
     "metadata": {},
     "output_type": "execute_result"
    }
   ],
   "source": [
    "df1['check_nearest_warehouse']"
   ]
  },
  {
   "cell_type": "markdown",
   "metadata": {},
   "source": [
    "Applying the defined function for getting the nearest warehouse distance on our dataframe."
   ]
  },
  {
   "cell_type": "code",
   "execution_count": 82,
   "metadata": {},
   "outputs": [],
   "source": [
    "df1['check_nearest_warehouse_dist'] = round(df_cust_lat_long['lat_long'].apply(lambda x : get_nearest_warehouse_dist(get_nearest_warehouse(cal_warehouses_dist(x))) ),4)"
   ]
  },
  {
   "cell_type": "code",
   "execution_count": 84,
   "metadata": {},
   "outputs": [],
   "source": [
    "df1['check_nearest_warehouse_dist'] = df_cust_lat_long['lat_long'].apply(lambda x : get_nearest_warehouse_dist(get_nearest_warehouse(cal_warehouses_dist(x))) )"
   ]
  },
  {
   "cell_type": "code",
   "execution_count": 85,
   "metadata": {},
   "outputs": [
    {
     "data": {
      "text/plain": [
       "0      0.9679\n",
       "1      2.3701\n",
       "2      0.3879\n",
       "3      1.2618\n",
       "4      0.3024\n",
       "        ...  \n",
       "495    1.1353\n",
       "496    1.3218\n",
       "497    1.3003\n",
       "498    1.5701\n",
       "499    1.5765\n",
       "Name: check_nearest_warehouse_dist, Length: 500, dtype: float64"
      ]
     },
     "execution_count": 85,
     "metadata": {},
     "output_type": "execute_result"
    }
   ],
   "source": [
    "df1['check_nearest_warehouse_dist']"
   ]
  },
  {
   "cell_type": "code",
   "execution_count": 83,
   "metadata": {},
   "outputs": [
    {
     "data": {
      "text/plain": [
       "0      0.9679\n",
       "1      2.3701\n",
       "2      0.3879\n",
       "3      1.2618\n",
       "4      0.3024\n",
       "        ...  \n",
       "495    1.1353\n",
       "496    1.3218\n",
       "497    1.3003\n",
       "498    1.5701\n",
       "499    1.5765\n",
       "Name: check_nearest_warehouse_dist, Length: 500, dtype: float64"
      ]
     },
     "execution_count": 83,
     "metadata": {},
     "output_type": "execute_result"
    }
   ],
   "source": [
    "df1['check_nearest_warehouse_dist']"
   ]
  },
  {
   "cell_type": "markdown",
   "metadata": {},
   "source": [
    "Below 55 orders have incorrect value of **nearest_warehouse**.\n",
    "The variation in the distance of the nearest warehouse is due to the rounding of the distance.\n",
    "As the variation is very minor of a single decimal place, we can ignore this and impute the **nearest_warehouse** column."
   ]
  },
  {
   "cell_type": "code",
   "execution_count": 79,
   "metadata": {
    "scrolled": true
   },
   "outputs": [
    {
     "data": {
      "text/plain": [
       "(55, 4)"
      ]
     },
     "execution_count": 79,
     "metadata": {},
     "output_type": "execute_result"
    }
   ],
   "source": [
    "df1[df1['nearest_warehouse'] != df1['check_nearest_warehouse']].loc[:,['nearest_warehouse','distance_to_nearest_warehouse','check_nearest_warehouse','check_nearest_warehouse_dist']].shape"
   ]
  },
  {
   "cell_type": "markdown",
   "metadata": {},
   "source": [
    "### Impute nearest_warehouse"
   ]
  },
  {
   "cell_type": "markdown",
   "metadata": {},
   "source": [
    "Imputing the above identified 55 order having incorrect value of nearest_warehouse."
   ]
  },
  {
   "cell_type": "code",
   "execution_count": 80,
   "metadata": {},
   "outputs": [],
   "source": [
    "df_incorrect_nearest_warehouse = df1[df1['nearest_warehouse'] != df1['check_nearest_warehouse']]"
   ]
  },
  {
   "cell_type": "code",
   "execution_count": 81,
   "metadata": {},
   "outputs": [],
   "source": [
    "for x in df_incorrect_nearest_warehouse.index:\n",
    "    df1.loc[x,'nearest_warehouse'] = df1.loc[x,'check_nearest_warehouse']"
   ]
  },
  {
   "cell_type": "markdown",
   "metadata": {},
   "source": [
    "### Check after replace"
   ]
  },
  {
   "cell_type": "markdown",
   "metadata": {},
   "source": [
    "As we have imuted the nearest warehouse value, we don not get any result for the below query."
   ]
  },
  {
   "cell_type": "code",
   "execution_count": 82,
   "metadata": {},
   "outputs": [
    {
     "data": {
      "text/html": [
       "<div>\n",
       "<style scoped>\n",
       "    .dataframe tbody tr th:only-of-type {\n",
       "        vertical-align: middle;\n",
       "    }\n",
       "\n",
       "    .dataframe tbody tr th {\n",
       "        vertical-align: top;\n",
       "    }\n",
       "\n",
       "    .dataframe thead th {\n",
       "        text-align: right;\n",
       "    }\n",
       "</style>\n",
       "<table border=\"1\" class=\"dataframe\">\n",
       "  <thead>\n",
       "    <tr style=\"text-align: right;\">\n",
       "      <th></th>\n",
       "      <th>order_id</th>\n",
       "      <th>customer_id</th>\n",
       "      <th>date</th>\n",
       "      <th>nearest_warehouse</th>\n",
       "      <th>shopping_cart</th>\n",
       "      <th>order_price</th>\n",
       "      <th>delivery_charges</th>\n",
       "      <th>customer_lat</th>\n",
       "      <th>customer_long</th>\n",
       "      <th>coupon_discount</th>\n",
       "      <th>...</th>\n",
       "      <th>distance_to_nearest_warehouse</th>\n",
       "      <th>latest_customer_review</th>\n",
       "      <th>is_happy_customer</th>\n",
       "      <th>shopping_items</th>\n",
       "      <th>shopping_item_qty</th>\n",
       "      <th>check_order_price</th>\n",
       "      <th>check_order_total</th>\n",
       "      <th>check_is_customer_happy</th>\n",
       "      <th>check_nearest_warehouse</th>\n",
       "      <th>check_nearest_warehouse_dist</th>\n",
       "    </tr>\n",
       "  </thead>\n",
       "  <tbody>\n",
       "  </tbody>\n",
       "</table>\n",
       "<p>0 rows × 23 columns</p>\n",
       "</div>"
      ],
      "text/plain": [
       "Empty DataFrame\n",
       "Columns: [order_id, customer_id, date, nearest_warehouse, shopping_cart, order_price, delivery_charges, customer_lat, customer_long, coupon_discount, order_total, season, is_expedited_delivery, distance_to_nearest_warehouse, latest_customer_review, is_happy_customer, shopping_items, shopping_item_qty, check_order_price, check_order_total, check_is_customer_happy, check_nearest_warehouse, check_nearest_warehouse_dist]\n",
       "Index: []\n",
       "\n",
       "[0 rows x 23 columns]"
      ]
     },
     "execution_count": 82,
     "metadata": {},
     "output_type": "execute_result"
    }
   ],
   "source": [
    "df1[df1['nearest_warehouse'] != df1['check_nearest_warehouse']]"
   ]
  },
  {
   "cell_type": "markdown",
   "metadata": {},
   "source": [
    "## Check the value of distance_to_nearest_warehouse"
   ]
  },
  {
   "cell_type": "markdown",
   "metadata": {},
   "source": [
    "We calculate the absolute difference between the distance given in the dataseta and the calculated distance to the nearest warehouse."
   ]
  },
  {
   "cell_type": "markdown",
   "metadata": {},
   "source": [
    "We can ignore the minor variation arising due to rounding of the distances"
   ]
  },
  {
   "cell_type": "markdown",
   "metadata": {},
   "source": [
    "Following are the orders for which the values of **distance_to_nearest_warehouse** is incorrect"
   ]
  },
  {
   "cell_type": "code",
   "execution_count": 83,
   "metadata": {},
   "outputs": [
    {
     "data": {
      "text/plain": [
       "(180, 23)"
      ]
     },
     "execution_count": 83,
     "metadata": {},
     "output_type": "execute_result"
    }
   ],
   "source": [
    "df1[abs((round(df1['distance_to_nearest_warehouse'],3) - round(df1['check_nearest_warehouse_dist'],3) )) > 0.2 ].shape"
   ]
  },
  {
   "cell_type": "markdown",
   "metadata": {},
   "source": [
    "### Replacing the distance_to_nearest_warehouse with correct values"
   ]
  },
  {
   "cell_type": "markdown",
   "metadata": {},
   "source": [
    "Replacing the distance for orders having incorrect value of distance_to_nearest_warehouse. "
   ]
  },
  {
   "cell_type": "code",
   "execution_count": 84,
   "metadata": {},
   "outputs": [],
   "source": [
    "df_incorrect_dist_nearest_warehouse = df1[abs((round(df1['distance_to_nearest_warehouse'],3) - round(df1['check_nearest_warehouse_dist'],3) )) > 0.2 ]"
   ]
  },
  {
   "cell_type": "code",
   "execution_count": 85,
   "metadata": {},
   "outputs": [],
   "source": [
    "for x in df_incorrect_dist_nearest_warehouse.index:\n",
    "    df1.loc[x,'distance_to_nearest_warehouse'] = df_incorrect_dist_nearest_warehouse.loc[x,'check_nearest_warehouse_dist']"
   ]
  },
  {
   "cell_type": "markdown",
   "metadata": {},
   "source": [
    "Check the values after imputation"
   ]
  },
  {
   "cell_type": "code",
   "execution_count": 86,
   "metadata": {},
   "outputs": [
    {
     "data": {
      "text/html": [
       "<div>\n",
       "<style scoped>\n",
       "    .dataframe tbody tr th:only-of-type {\n",
       "        vertical-align: middle;\n",
       "    }\n",
       "\n",
       "    .dataframe tbody tr th {\n",
       "        vertical-align: top;\n",
       "    }\n",
       "\n",
       "    .dataframe thead th {\n",
       "        text-align: right;\n",
       "    }\n",
       "</style>\n",
       "<table border=\"1\" class=\"dataframe\">\n",
       "  <thead>\n",
       "    <tr style=\"text-align: right;\">\n",
       "      <th></th>\n",
       "      <th>nearest_warehouse</th>\n",
       "      <th>distance_to_nearest_warehouse</th>\n",
       "      <th>check_nearest_warehouse</th>\n",
       "      <th>check_nearest_warehouse_dist</th>\n",
       "    </tr>\n",
       "  </thead>\n",
       "  <tbody>\n",
       "  </tbody>\n",
       "</table>\n",
       "</div>"
      ],
      "text/plain": [
       "Empty DataFrame\n",
       "Columns: [nearest_warehouse, distance_to_nearest_warehouse, check_nearest_warehouse, check_nearest_warehouse_dist]\n",
       "Index: []"
      ]
     },
     "execution_count": 86,
     "metadata": {},
     "output_type": "execute_result"
    }
   ],
   "source": [
    "df1[abs((round(df1['distance_to_nearest_warehouse'],3) - round(df1['check_nearest_warehouse_dist'],3) )) > 0.2 ].loc[:,['nearest_warehouse','distance_to_nearest_warehouse','check_nearest_warehouse','check_nearest_warehouse_dist']]"
   ]
  },
  {
   "cell_type": "markdown",
   "metadata": {},
   "source": [
    "## Check the season column"
   ]
  },
  {
   "cell_type": "markdown",
   "metadata": {},
   "source": [
    "As we know the months for which each of the season happens, we can do as simple mapping and check the season column."
   ]
  },
  {
   "cell_type": "markdown",
   "metadata": {},
   "source": [
    "As the date has already been fixed we can be sure that the season is incorrect for the orders failing this check."
   ]
  },
  {
   "cell_type": "code",
   "execution_count": 87,
   "metadata": {},
   "outputs": [],
   "source": [
    "def get_season(order_date):\n",
    "    '''\n",
    "    Function to check if the date is mapped to the correct season of the year.\n",
    "    '''\n",
    "    \n",
    "    if int(order_date.split('-')[1]) in [12,1,2]:\n",
    "        return 'Summer'\n",
    "    elif int(order_date.split('-')[1]) in [3,4,5]:\n",
    "        return 'Autumn'\n",
    "    elif int(order_date.split('-')[1]) in [6,7,8]:\n",
    "        return 'Winter'\n",
    "    elif int(order_date.split('-')[1]) in [9,10,11]:\n",
    "        return 'Spring'"
   ]
  },
  {
   "cell_type": "code",
   "execution_count": 88,
   "metadata": {},
   "outputs": [],
   "source": [
    "df1['check_season'] = df1['date'].apply(get_season)"
   ]
  },
  {
   "cell_type": "markdown",
   "metadata": {},
   "source": [
    "Following rows have incorrect value of season"
   ]
  },
  {
   "cell_type": "code",
   "execution_count": 89,
   "metadata": {},
   "outputs": [
    {
     "data": {
      "text/plain": [
       "(24, 24)"
      ]
     },
     "execution_count": 89,
     "metadata": {},
     "output_type": "execute_result"
    }
   ],
   "source": [
    "df1[df1['season'] != df1['check_season']].shape"
   ]
  },
  {
   "cell_type": "markdown",
   "metadata": {},
   "source": [
    "### Impute the season"
   ]
  },
  {
   "cell_type": "code",
   "execution_count": 90,
   "metadata": {},
   "outputs": [],
   "source": [
    "df_incorrect_season = df1[df1['season'] != df1['check_season']]"
   ]
  },
  {
   "cell_type": "code",
   "execution_count": 91,
   "metadata": {},
   "outputs": [],
   "source": [
    "# change the original dataframe\n",
    "for x in df_incorrect_season.index:\n",
    "    df1.loc[x,'season'] = df_incorrect_season.loc[x,'check_season']"
   ]
  },
  {
   "cell_type": "markdown",
   "metadata": {},
   "source": [
    "### Check after impute"
   ]
  },
  {
   "cell_type": "code",
   "execution_count": 92,
   "metadata": {},
   "outputs": [
    {
     "data": {
      "text/html": [
       "<div>\n",
       "<style scoped>\n",
       "    .dataframe tbody tr th:only-of-type {\n",
       "        vertical-align: middle;\n",
       "    }\n",
       "\n",
       "    .dataframe tbody tr th {\n",
       "        vertical-align: top;\n",
       "    }\n",
       "\n",
       "    .dataframe thead th {\n",
       "        text-align: right;\n",
       "    }\n",
       "</style>\n",
       "<table border=\"1\" class=\"dataframe\">\n",
       "  <thead>\n",
       "    <tr style=\"text-align: right;\">\n",
       "      <th></th>\n",
       "      <th>order_id</th>\n",
       "      <th>customer_id</th>\n",
       "      <th>date</th>\n",
       "      <th>nearest_warehouse</th>\n",
       "      <th>shopping_cart</th>\n",
       "      <th>order_price</th>\n",
       "      <th>delivery_charges</th>\n",
       "      <th>customer_lat</th>\n",
       "      <th>customer_long</th>\n",
       "      <th>coupon_discount</th>\n",
       "      <th>...</th>\n",
       "      <th>latest_customer_review</th>\n",
       "      <th>is_happy_customer</th>\n",
       "      <th>shopping_items</th>\n",
       "      <th>shopping_item_qty</th>\n",
       "      <th>check_order_price</th>\n",
       "      <th>check_order_total</th>\n",
       "      <th>check_is_customer_happy</th>\n",
       "      <th>check_nearest_warehouse</th>\n",
       "      <th>check_nearest_warehouse_dist</th>\n",
       "      <th>check_season</th>\n",
       "    </tr>\n",
       "  </thead>\n",
       "  <tbody>\n",
       "  </tbody>\n",
       "</table>\n",
       "<p>0 rows × 24 columns</p>\n",
       "</div>"
      ],
      "text/plain": [
       "Empty DataFrame\n",
       "Columns: [order_id, customer_id, date, nearest_warehouse, shopping_cart, order_price, delivery_charges, customer_lat, customer_long, coupon_discount, order_total, season, is_expedited_delivery, distance_to_nearest_warehouse, latest_customer_review, is_happy_customer, shopping_items, shopping_item_qty, check_order_price, check_order_total, check_is_customer_happy, check_nearest_warehouse, check_nearest_warehouse_dist, check_season]\n",
       "Index: []\n",
       "\n",
       "[0 rows x 24 columns]"
      ]
     },
     "execution_count": 92,
     "metadata": {},
     "output_type": "execute_result"
    }
   ],
   "source": [
    "df1[df1['season'] != df1['check_season']]"
   ]
  },
  {
   "cell_type": "markdown",
   "metadata": {},
   "source": [
    "## Checking the values of is_expedited_delivery"
   ]
  },
  {
   "cell_type": "markdown",
   "metadata": {},
   "source": [
    "By visualizing Boxplot of Delivery charges when is_customer is True/False, can tell us whether the value of delivery charges is an outlier or not.\n",
    "\n",
    "As we have already fixed the is_happy_customer, the only value to impute here is the is_expedite_delivery."
   ]
  },
  {
   "cell_type": "code",
   "execution_count": 93,
   "metadata": {},
   "outputs": [
    {
     "data": {
      "text/plain": [
       "<matplotlib.axes._subplots.AxesSubplot at 0x29d471fc888>"
      ]
     },
     "execution_count": 93,
     "metadata": {},
     "output_type": "execute_result"
    },
    {
     "data": {
      "image/png": "[encoded data removed]",
      "text/plain": [
       "<Figure size 1440x720 with 1 Axes>"
      ]
     },
     "metadata": {
      "needs_background": "light"
     },
     "output_type": "display_data"
    }
   ],
   "source": [
    "df1.boxplot('delivery_charges',by=['is_expedited_delivery','is_happy_customer'],sym='k.', figsize=(20, 10))"
   ]
  },
  {
   "cell_type": "markdown",
   "metadata": {},
   "source": [
    "Above Boxplot shows that the is_expedite_delivery is incorrect for 8 orders."
   ]
  },
  {
   "cell_type": "markdown",
   "metadata": {},
   "source": [
    "When is_expedited_delivery is False and is_happy_customer is True"
   ]
  },
  {
   "cell_type": "code",
   "execution_count": 94,
   "metadata": {},
   "outputs": [],
   "source": [
    "df_f_t = df1[(df1['is_expedited_delivery'] == False) & (df1['is_happy_customer'] == True)]\n",
    "\n",
    "q1 = np.quantile(df1[ (df1['is_expedited_delivery'] == False) & (df1['is_happy_customer'] == True) ]['delivery_charges'], .25)\n",
    "q3 = np.quantile(df1[ (df1['is_expedited_delivery'] == False) & (df1['is_happy_customer'] == True) ]['delivery_charges'], .75)\n",
    "\n",
    "iqr = q3 - q1\n",
    "\n",
    "list_index_to_impute = list(df_f_t[df_f_t['delivery_charges'] > (q3 + 1.5* iqr)].index)"
   ]
  },
  {
   "cell_type": "markdown",
   "metadata": {},
   "source": [
    "When is_expedited_delivery is False and is_happy_customer is False"
   ]
  },
  {
   "cell_type": "code",
   "execution_count": 95,
   "metadata": {},
   "outputs": [],
   "source": [
    "df_f_f = df1[(df1['is_expedited_delivery'] == False) & (df1['is_happy_customer'] == False)]\n",
    "\n",
    "q1 = np.quantile(df1[ (df1['is_expedited_delivery'] == False) & (df1['is_happy_customer'] == False) ]['delivery_charges'], .25)\n",
    "q3 = np.quantile(df1[ (df1['is_expedited_delivery'] == False) & (df1['is_happy_customer'] == False) ]['delivery_charges'], .75)\n",
    "\n",
    "iqr = q3 - q1\n",
    "\n",
    "list_index_to_impute.append(list(df_f_f[df_f_f['delivery_charges'] > (q3 + 1.5* iqr)].index))"
   ]
  },
  {
   "cell_type": "markdown",
   "metadata": {},
   "source": [
    "Making a single list of index to impute"
   ]
  },
  {
   "cell_type": "code",
   "execution_count": 96,
   "metadata": {},
   "outputs": [],
   "source": [
    "lst_indexes = []\n",
    "\n",
    "for x in list_index_to_impute:\n",
    "    \n",
    "    if type(x) != list:\n",
    "        lst_indexes.append(x)\n",
    "    elif type(x)== list:\n",
    "        for y in x:\n",
    "            lst_indexes.append(y)           "
   ]
  },
  {
   "cell_type": "markdown",
   "metadata": {},
   "source": [
    "### Impute is_expedite_delivery"
   ]
  },
  {
   "cell_type": "markdown",
   "metadata": {},
   "source": [
    "We have the indexes of the order to impute the is_expedite_delivery. Using these indexes to change the original dataframe."
   ]
  },
  {
   "cell_type": "code",
   "execution_count": 97,
   "metadata": {},
   "outputs": [
    {
     "data": {
      "text/plain": [
       "[88, 202, 373, 383, 415, 416, 48, 109, 317]"
      ]
     },
     "execution_count": 97,
     "metadata": {},
     "output_type": "execute_result"
    }
   ],
   "source": [
    "lst_indexes"
   ]
  },
  {
   "cell_type": "code",
   "execution_count": 98,
   "metadata": {},
   "outputs": [],
   "source": [
    "# changing the values in the original datafarme\n",
    "for index in lst_indexes:\n",
    "    df1.loc[index,'is_expedited_delivery'] = True"
   ]
  },
  {
   "cell_type": "markdown",
   "metadata": {},
   "source": [
    "### Checking the Boxplot after impute"
   ]
  },
  {
   "cell_type": "markdown",
   "metadata": {},
   "source": [
    "We can see that we no longer have outliers for the is_expedited_delivery."
   ]
  },
  {
   "cell_type": "code",
   "execution_count": 99,
   "metadata": {
    "scrolled": false
   },
   "outputs": [
    {
     "data": {
      "text/plain": [
       "<matplotlib.axes._subplots.AxesSubplot at 0x29d4762f608>"
      ]
     },
     "execution_count": 99,
     "metadata": {},
     "output_type": "execute_result"
    },
    {
     "data": {
      "image/png": "[encoded data removed]",
      "text/plain": [
       "<Figure size 1440x720 with 1 Axes>"
      ]
     },
     "metadata": {
      "needs_background": "light"
     },
     "output_type": "display_data"
    }
   ],
   "source": [
    "df1.boxplot('delivery_charges',by=['is_expedited_delivery','is_happy_customer'],sym='k.', figsize=(20, 10))"
   ]
  },
  {
   "cell_type": "markdown",
   "metadata": {},
   "source": [
    "### Export the CSV for Task 1 - Dirty data"
   ]
  },
  {
   "cell_type": "markdown",
   "metadata": {},
   "source": [
    "Before we export the data, we get rid of the unnecessary columns added for analysis."
   ]
  },
  {
   "cell_type": "code",
   "execution_count": 100,
   "metadata": {},
   "outputs": [],
   "source": [
    "columns_to_drop = ['shopping_items','shopping_item_qty','check_order_price','check_order_total','check_is_customer_happy','check_nearest_warehouse','check_nearest_warehouse_dist','check_season']\n",
    "df1.drop(columns_to_drop, 1, inplace=True)"
   ]
  },
  {
   "cell_type": "code",
   "execution_count": 101,
   "metadata": {},
   "outputs": [],
   "source": [
    "df1.to_csv('31187366_dirty_data_solution.csv', index=False)"
   ]
  },
  {
   "cell_type": "markdown",
   "metadata": {},
   "source": [
    "# TASK 2 - MISSING DATA"
   ]
  },
  {
   "cell_type": "markdown",
   "metadata": {},
   "source": [
    "Reading the data file."
   ]
  },
  {
   "cell_type": "code",
   "execution_count": 102,
   "metadata": {},
   "outputs": [],
   "source": [
    "#load the data \n",
    "df2 = pd.read_csv('31187366_missing_data.csv') "
   ]
  },
  {
   "cell_type": "markdown",
   "metadata": {},
   "source": [
    "Using the `describe` function to view some basic statistical details like percentile, mean, std etc. of the read CSV file."
   ]
  },
  {
   "cell_type": "code",
   "execution_count": 103,
   "metadata": {
    "scrolled": true
   },
   "outputs": [
    {
     "data": {
      "text/html": [
       "<div>\n",
       "<style scoped>\n",
       "    .dataframe tbody tr th:only-of-type {\n",
       "        vertical-align: middle;\n",
       "    }\n",
       "\n",
       "    .dataframe tbody tr th {\n",
       "        vertical-align: top;\n",
       "    }\n",
       "\n",
       "    .dataframe thead th {\n",
       "        text-align: right;\n",
       "    }\n",
       "</style>\n",
       "<table border=\"1\" class=\"dataframe\">\n",
       "  <thead>\n",
       "    <tr style=\"text-align: right;\">\n",
       "      <th></th>\n",
       "      <th>order_price</th>\n",
       "      <th>delivery_charges</th>\n",
       "      <th>customer_lat</th>\n",
       "      <th>customer_long</th>\n",
       "      <th>coupon_discount</th>\n",
       "      <th>order_total</th>\n",
       "      <th>distance_to_nearest_warehouse</th>\n",
       "      <th>is_happy_customer</th>\n",
       "    </tr>\n",
       "  </thead>\n",
       "  <tbody>\n",
       "    <tr>\n",
       "      <td>count</td>\n",
       "      <td>485.000000</td>\n",
       "      <td>460.000000</td>\n",
       "      <td>500.000000</td>\n",
       "      <td>500.000000</td>\n",
       "      <td>500.000000</td>\n",
       "      <td>485.000000</td>\n",
       "      <td>469.000000</td>\n",
       "      <td>460.000000</td>\n",
       "    </tr>\n",
       "    <tr>\n",
       "      <td>mean</td>\n",
       "      <td>13376.072165</td>\n",
       "      <td>76.827674</td>\n",
       "      <td>-37.812394</td>\n",
       "      <td>144.967145</td>\n",
       "      <td>10.570000</td>\n",
       "      <td>12069.082928</td>\n",
       "      <td>1.093301</td>\n",
       "      <td>0.778261</td>\n",
       "    </tr>\n",
       "    <tr>\n",
       "      <td>std</td>\n",
       "      <td>7800.560618</td>\n",
       "      <td>13.743468</td>\n",
       "      <td>0.007579</td>\n",
       "      <td>0.021975</td>\n",
       "      <td>8.507046</td>\n",
       "      <td>7126.747772</td>\n",
       "      <td>0.508849</td>\n",
       "      <td>0.415869</td>\n",
       "    </tr>\n",
       "    <tr>\n",
       "      <td>min</td>\n",
       "      <td>580.000000</td>\n",
       "      <td>46.690000</td>\n",
       "      <td>-37.827411</td>\n",
       "      <td>144.902237</td>\n",
       "      <td>0.000000</td>\n",
       "      <td>547.720000</td>\n",
       "      <td>0.102500</td>\n",
       "      <td>0.000000</td>\n",
       "    </tr>\n",
       "    <tr>\n",
       "      <td>25%</td>\n",
       "      <td>6905.000000</td>\n",
       "      <td>66.297500</td>\n",
       "      <td>-37.818784</td>\n",
       "      <td>144.951516</td>\n",
       "      <td>5.000000</td>\n",
       "      <td>6266.060000</td>\n",
       "      <td>0.722500</td>\n",
       "      <td>1.000000</td>\n",
       "    </tr>\n",
       "    <tr>\n",
       "      <td>50%</td>\n",
       "      <td>12335.000000</td>\n",
       "      <td>77.120000</td>\n",
       "      <td>-37.812345</td>\n",
       "      <td>144.963973</td>\n",
       "      <td>10.000000</td>\n",
       "      <td>11178.190000</td>\n",
       "      <td>1.082000</td>\n",
       "      <td>1.000000</td>\n",
       "    </tr>\n",
       "    <tr>\n",
       "      <td>75%</td>\n",
       "      <td>19430.000000</td>\n",
       "      <td>83.165000</td>\n",
       "      <td>-37.806532</td>\n",
       "      <td>144.983031</td>\n",
       "      <td>15.000000</td>\n",
       "      <td>17147.290000</td>\n",
       "      <td>1.435500</td>\n",
       "      <td>1.000000</td>\n",
       "    </tr>\n",
       "    <tr>\n",
       "      <td>max</td>\n",
       "      <td>37300.000000</td>\n",
       "      <td>111.210000</td>\n",
       "      <td>-37.796817</td>\n",
       "      <td>145.015963</td>\n",
       "      <td>25.000000</td>\n",
       "      <td>35501.290000</td>\n",
       "      <td>3.963700</td>\n",
       "      <td>1.000000</td>\n",
       "    </tr>\n",
       "  </tbody>\n",
       "</table>\n",
       "</div>"
      ],
      "text/plain": [
       "        order_price  delivery_charges  customer_lat  customer_long  \\\n",
       "count    485.000000        460.000000    500.000000     500.000000   \n",
       "mean   13376.072165         76.827674    -37.812394     144.967145   \n",
       "std     7800.560618         13.743468      0.007579       0.021975   \n",
       "min      580.000000         46.690000    -37.827411     144.902237   \n",
       "25%     6905.000000         66.297500    -37.818784     144.951516   \n",
       "50%    12335.000000         77.120000    -37.812345     144.963973   \n",
       "75%    19430.000000         83.165000    -37.806532     144.983031   \n",
       "max    37300.000000        111.210000    -37.796817     145.015963   \n",
       "\n",
       "       coupon_discount   order_total  distance_to_nearest_warehouse  \\\n",
       "count       500.000000    485.000000                     469.000000   \n",
       "mean         10.570000  12069.082928                       1.093301   \n",
       "std           8.507046   7126.747772                       0.508849   \n",
       "min           0.000000    547.720000                       0.102500   \n",
       "25%           5.000000   6266.060000                       0.722500   \n",
       "50%          10.000000  11178.190000                       1.082000   \n",
       "75%          15.000000  17147.290000                       1.435500   \n",
       "max          25.000000  35501.290000                       3.963700   \n",
       "\n",
       "       is_happy_customer  \n",
       "count         460.000000  \n",
       "mean            0.778261  \n",
       "std             0.415869  \n",
       "min             0.000000  \n",
       "25%             1.000000  \n",
       "50%             1.000000  \n",
       "75%             1.000000  \n",
       "max             1.000000  "
      ]
     },
     "execution_count": 103,
     "metadata": {},
     "output_type": "execute_result"
    }
   ],
   "source": [
    "df2.describe()"
   ]
  },
  {
   "cell_type": "markdown",
   "metadata": {},
   "source": [
    "As `decribe()` by default shows stastics for only numerical data. \n",
    "\n",
    "To see the statistics of Categorical data we use `include` parameter of `describe` to include Datatype of type Object i.e. categorical data."
   ]
  },
  {
   "cell_type": "code",
   "execution_count": 104,
   "metadata": {
    "scrolled": true
   },
   "outputs": [
    {
     "data": {
      "text/html": [
       "<div>\n",
       "<style scoped>\n",
       "    .dataframe tbody tr th:only-of-type {\n",
       "        vertical-align: middle;\n",
       "    }\n",
       "\n",
       "    .dataframe tbody tr th {\n",
       "        vertical-align: top;\n",
       "    }\n",
       "\n",
       "    .dataframe thead th {\n",
       "        text-align: right;\n",
       "    }\n",
       "</style>\n",
       "<table border=\"1\" class=\"dataframe\">\n",
       "  <thead>\n",
       "    <tr style=\"text-align: right;\">\n",
       "      <th></th>\n",
       "      <th>order_id</th>\n",
       "      <th>customer_id</th>\n",
       "      <th>date</th>\n",
       "      <th>nearest_warehouse</th>\n",
       "      <th>shopping_cart</th>\n",
       "      <th>season</th>\n",
       "      <th>latest_customer_review</th>\n",
       "    </tr>\n",
       "  </thead>\n",
       "  <tbody>\n",
       "    <tr>\n",
       "      <td>count</td>\n",
       "      <td>500</td>\n",
       "      <td>500</td>\n",
       "      <td>500</td>\n",
       "      <td>445</td>\n",
       "      <td>500</td>\n",
       "      <td>500</td>\n",
       "      <td>500</td>\n",
       "    </tr>\n",
       "    <tr>\n",
       "      <td>unique</td>\n",
       "      <td>500</td>\n",
       "      <td>492</td>\n",
       "      <td>284</td>\n",
       "      <td>3</td>\n",
       "      <td>452</td>\n",
       "      <td>4</td>\n",
       "      <td>500</td>\n",
       "    </tr>\n",
       "    <tr>\n",
       "      <td>top</td>\n",
       "      <td>ORD327211</td>\n",
       "      <td>ID0387153060</td>\n",
       "      <td>2019-02-20</td>\n",
       "      <td>Thompson</td>\n",
       "      <td>[('Olivia x460', 2), ('iStream', 1)]</td>\n",
       "      <td>Autumn</td>\n",
       "      <td>five stars awesome phone. would recommend it h...</td>\n",
       "    </tr>\n",
       "    <tr>\n",
       "      <td>freq</td>\n",
       "      <td>1</td>\n",
       "      <td>2</td>\n",
       "      <td>6</td>\n",
       "      <td>187</td>\n",
       "      <td>4</td>\n",
       "      <td>138</td>\n",
       "      <td>1</td>\n",
       "    </tr>\n",
       "  </tbody>\n",
       "</table>\n",
       "</div>"
      ],
      "text/plain": [
       "         order_id   customer_id        date nearest_warehouse  \\\n",
       "count         500           500         500               445   \n",
       "unique        500           492         284                 3   \n",
       "top     ORD327211  ID0387153060  2019-02-20          Thompson   \n",
       "freq            1             2           6               187   \n",
       "\n",
       "                               shopping_cart  season  \\\n",
       "count                                    500     500   \n",
       "unique                                   452       4   \n",
       "top     [('Olivia x460', 2), ('iStream', 1)]  Autumn   \n",
       "freq                                       4     138   \n",
       "\n",
       "                                   latest_customer_review  \n",
       "count                                                 500  \n",
       "unique                                                500  \n",
       "top     five stars awesome phone. would recommend it h...  \n",
       "freq                                                    1  "
      ]
     },
     "execution_count": 104,
     "metadata": {},
     "output_type": "execute_result"
    }
   ],
   "source": [
    "df2.describe(include=['O'])"
   ]
  },
  {
   "cell_type": "markdown",
   "metadata": {},
   "source": [
    "## Missing is_happy_customer"
   ]
  },
  {
   "cell_type": "markdown",
   "metadata": {},
   "source": [
    "Below 40 orders have missing value of `is_happy_customer`"
   ]
  },
  {
   "cell_type": "code",
   "execution_count": 105,
   "metadata": {},
   "outputs": [
    {
     "data": {
      "text/plain": [
       "(40, 16)"
      ]
     },
     "execution_count": 105,
     "metadata": {},
     "output_type": "execute_result"
    }
   ],
   "source": [
    "df2_missing_is_happy_customer = df2[df2['is_happy_customer'].isna()]\n",
    "df2_missing_is_happy_customer.shape"
   ]
  },
  {
   "cell_type": "markdown",
   "metadata": {},
   "source": [
    "### Fill the missing is_happy_customer"
   ]
  },
  {
   "cell_type": "markdown",
   "metadata": {},
   "source": [
    "We make use of `SentimentIntensityAnalyzer` to decide the sentiment of the customer based on the customer review and fill  the value of is_happy_customer column."
   ]
  },
  {
   "cell_type": "code",
   "execution_count": 106,
   "metadata": {},
   "outputs": [],
   "source": [
    "senti = SentimentIntensityAnalyzer()"
   ]
  },
  {
   "cell_type": "code",
   "execution_count": 107,
   "metadata": {},
   "outputs": [],
   "source": [
    "def fill_is_happy_customer(review):\n",
    "    '''\n",
    "    Function to check the sentiment of customer using the customer review.\n",
    "    '''\n",
    "    \n",
    "    if senti.polarity_scores(review)['compound'] >= 0.05:\n",
    "        return 1.0\n",
    "    else:\n",
    "        return 0.0"
   ]
  },
  {
   "cell_type": "code",
   "execution_count": 108,
   "metadata": {
    "scrolled": true
   },
   "outputs": [
    {
     "name": "stderr",
     "output_type": "stream",
     "text": [
      "C:\\Users\\prash\\Anaconda3\\lib\\site-packages\\ipykernel_launcher.py:1: SettingWithCopyWarning: \n",
      "A value is trying to be set on a copy of a slice from a DataFrame.\n",
      "Try using .loc[row_indexer,col_indexer] = value instead\n",
      "\n",
      "See the caveats in the documentation: http://pandas.pydata.org/pandas-docs/stable/user_guide/indexing.html#returning-a-view-versus-a-copy\n",
      "  \"\"\"Entry point for launching an IPython kernel.\n"
     ]
    }
   ],
   "source": [
    "df2_missing_is_happy_customer['is_happy_customer'] = df2_missing_is_happy_customer['latest_customer_review'].apply(fill_is_happy_customer)"
   ]
  },
  {
   "cell_type": "markdown",
   "metadata": {},
   "source": [
    "### Check after filling the missing data"
   ]
  },
  {
   "cell_type": "code",
   "execution_count": 109,
   "metadata": {},
   "outputs": [
    {
     "data": {
      "text/html": [
       "<div>\n",
       "<style scoped>\n",
       "    .dataframe tbody tr th:only-of-type {\n",
       "        vertical-align: middle;\n",
       "    }\n",
       "\n",
       "    .dataframe tbody tr th {\n",
       "        vertical-align: top;\n",
       "    }\n",
       "\n",
       "    .dataframe thead th {\n",
       "        text-align: right;\n",
       "    }\n",
       "</style>\n",
       "<table border=\"1\" class=\"dataframe\">\n",
       "  <thead>\n",
       "    <tr style=\"text-align: right;\">\n",
       "      <th></th>\n",
       "      <th>order_id</th>\n",
       "      <th>customer_id</th>\n",
       "      <th>date</th>\n",
       "      <th>nearest_warehouse</th>\n",
       "      <th>shopping_cart</th>\n",
       "      <th>order_price</th>\n",
       "      <th>delivery_charges</th>\n",
       "      <th>customer_lat</th>\n",
       "      <th>customer_long</th>\n",
       "      <th>coupon_discount</th>\n",
       "      <th>order_total</th>\n",
       "      <th>season</th>\n",
       "      <th>is_expedited_delivery</th>\n",
       "      <th>distance_to_nearest_warehouse</th>\n",
       "      <th>latest_customer_review</th>\n",
       "      <th>is_happy_customer</th>\n",
       "    </tr>\n",
       "  </thead>\n",
       "  <tbody>\n",
       "  </tbody>\n",
       "</table>\n",
       "</div>"
      ],
      "text/plain": [
       "Empty DataFrame\n",
       "Columns: [order_id, customer_id, date, nearest_warehouse, shopping_cart, order_price, delivery_charges, customer_lat, customer_long, coupon_discount, order_total, season, is_expedited_delivery, distance_to_nearest_warehouse, latest_customer_review, is_happy_customer]\n",
       "Index: []"
      ]
     },
     "execution_count": 109,
     "metadata": {},
     "output_type": "execute_result"
    }
   ],
   "source": [
    "df2_missing_is_happy_customer[df2_missing_is_happy_customer['is_happy_customer'].isna()]"
   ]
  },
  {
   "cell_type": "markdown",
   "metadata": {},
   "source": [
    "### Fill the original Dataframe"
   ]
  },
  {
   "cell_type": "markdown",
   "metadata": {},
   "source": [
    "Making the changes in the original dataframe."
   ]
  },
  {
   "cell_type": "code",
   "execution_count": 110,
   "metadata": {},
   "outputs": [],
   "source": [
    "for x in df2_missing_is_happy_customer.index:\n",
    "    df2.loc[x,'is_happy_customer'] = df2_missing_is_happy_customer.loc[x,'is_happy_customer']"
   ]
  },
  {
   "cell_type": "markdown",
   "metadata": {},
   "source": [
    "We dont get any result for below query, as we have filled the is_happy_customer column."
   ]
  },
  {
   "cell_type": "code",
   "execution_count": 111,
   "metadata": {
    "scrolled": true
   },
   "outputs": [
    {
     "data": {
      "text/html": [
       "<div>\n",
       "<style scoped>\n",
       "    .dataframe tbody tr th:only-of-type {\n",
       "        vertical-align: middle;\n",
       "    }\n",
       "\n",
       "    .dataframe tbody tr th {\n",
       "        vertical-align: top;\n",
       "    }\n",
       "\n",
       "    .dataframe thead th {\n",
       "        text-align: right;\n",
       "    }\n",
       "</style>\n",
       "<table border=\"1\" class=\"dataframe\">\n",
       "  <thead>\n",
       "    <tr style=\"text-align: right;\">\n",
       "      <th></th>\n",
       "      <th>order_id</th>\n",
       "      <th>customer_id</th>\n",
       "      <th>date</th>\n",
       "      <th>nearest_warehouse</th>\n",
       "      <th>shopping_cart</th>\n",
       "      <th>order_price</th>\n",
       "      <th>delivery_charges</th>\n",
       "      <th>customer_lat</th>\n",
       "      <th>customer_long</th>\n",
       "      <th>coupon_discount</th>\n",
       "      <th>order_total</th>\n",
       "      <th>season</th>\n",
       "      <th>is_expedited_delivery</th>\n",
       "      <th>distance_to_nearest_warehouse</th>\n",
       "      <th>latest_customer_review</th>\n",
       "      <th>is_happy_customer</th>\n",
       "    </tr>\n",
       "  </thead>\n",
       "  <tbody>\n",
       "  </tbody>\n",
       "</table>\n",
       "</div>"
      ],
      "text/plain": [
       "Empty DataFrame\n",
       "Columns: [order_id, customer_id, date, nearest_warehouse, shopping_cart, order_price, delivery_charges, customer_lat, customer_long, coupon_discount, order_total, season, is_expedited_delivery, distance_to_nearest_warehouse, latest_customer_review, is_happy_customer]\n",
       "Index: []"
      ]
     },
     "execution_count": 111,
     "metadata": {},
     "output_type": "execute_result"
    }
   ],
   "source": [
    "df2[df2['is_happy_customer'].isna()]"
   ]
  },
  {
   "cell_type": "markdown",
   "metadata": {},
   "source": [
    "## Checking Distance and Warehouse"
   ]
  },
  {
   "cell_type": "markdown",
   "metadata": {},
   "source": [
    "### Both distance and warehouse missing"
   ]
  },
  {
   "cell_type": "markdown",
   "metadata": {},
   "source": [
    "Below 31 orders have missing value for `nearest_warehouse` and `distance_to_nearest_warehouse` column."
   ]
  },
  {
   "cell_type": "code",
   "execution_count": 112,
   "metadata": {
    "scrolled": true
   },
   "outputs": [
    {
     "data": {
      "text/plain": [
       "(31, 16)"
      ]
     },
     "execution_count": 112,
     "metadata": {},
     "output_type": "execute_result"
    }
   ],
   "source": [
    "df2[df2['nearest_warehouse'].isna() & df2['distance_to_nearest_warehouse'].isna() ].shape"
   ]
  },
  {
   "cell_type": "markdown",
   "metadata": {},
   "source": [
    "### Warehouse name missing"
   ]
  },
  {
   "cell_type": "markdown",
   "metadata": {},
   "source": [
    "Below 55 orders have missing value of `nearest_warehouse` column."
   ]
  },
  {
   "cell_type": "code",
   "execution_count": 113,
   "metadata": {
    "scrolled": true
   },
   "outputs": [
    {
     "data": {
      "text/plain": [
       "(55, 16)"
      ]
     },
     "execution_count": 113,
     "metadata": {},
     "output_type": "execute_result"
    }
   ],
   "source": [
    "df2[df2['nearest_warehouse'].isna() ].shape"
   ]
  },
  {
   "cell_type": "markdown",
   "metadata": {},
   "source": [
    "### Distance missing"
   ]
  },
  {
   "cell_type": "markdown",
   "metadata": {},
   "source": [
    "Below 31 orders have missing value of `distance_to_nearest_warehouse` column."
   ]
  },
  {
   "cell_type": "code",
   "execution_count": 114,
   "metadata": {
    "scrolled": true
   },
   "outputs": [
    {
     "data": {
      "text/plain": [
       "(31, 16)"
      ]
     },
     "execution_count": 114,
     "metadata": {},
     "output_type": "execute_result"
    }
   ],
   "source": [
    "df2[df2['distance_to_nearest_warehouse'].isna()].shape"
   ]
  },
  {
   "cell_type": "markdown",
   "metadata": {},
   "source": [
    "### Find the Distance and Warehouse"
   ]
  },
  {
   "cell_type": "markdown",
   "metadata": {},
   "source": [
    "### Lets find the nearest_warehouse"
   ]
  },
  {
   "cell_type": "markdown",
   "metadata": {},
   "source": [
    "Make a new Dataframe of missing warehouses."
   ]
  },
  {
   "cell_type": "code",
   "execution_count": 115,
   "metadata": {},
   "outputs": [],
   "source": [
    "df2_missing_warehouse = df2[df2['nearest_warehouse'].isna()]"
   ]
  },
  {
   "cell_type": "markdown",
   "metadata": {},
   "source": [
    "Prepare data to calcuate the distance and the nearest warehouse."
   ]
  },
  {
   "cell_type": "code",
   "execution_count": 116,
   "metadata": {},
   "outputs": [],
   "source": [
    "cust_lat_long = df2_missing_warehouse['customer_lat'].astype(str) + ',' + df2_missing_warehouse['customer_long'].astype(str)\n",
    "df_cust_lat_long = pd.DataFrame(index = range(len(cust_lat_long)), data = list(cust_lat_long), columns = ['lat_long'])"
   ]
  },
  {
   "cell_type": "markdown",
   "metadata": {},
   "source": [
    "Applying the functions on the Dataframe."
   ]
  },
  {
   "cell_type": "code",
   "execution_count": 117,
   "metadata": {},
   "outputs": [],
   "source": [
    "nearest_warehouse = df_cust_lat_long['lat_long'].apply(lambda x : get_nearest_warehouse_name(get_nearest_warehouse(cal_warehouses_dist(x))))\n",
    "nearst_warehouse_dist = round(df_cust_lat_long['lat_long'].apply(lambda x : get_nearest_warehouse_dist(get_nearest_warehouse(cal_warehouses_dist(x))) ),4)"
   ]
  },
  {
   "cell_type": "code",
   "execution_count": 118,
   "metadata": {},
   "outputs": [],
   "source": [
    "filling_missing_warehouses = tuple(zip(nearest_warehouse,nearst_warehouse_dist))"
   ]
  },
  {
   "cell_type": "markdown",
   "metadata": {},
   "source": [
    "### Replace the missing warehouse"
   ]
  },
  {
   "cell_type": "markdown",
   "metadata": {},
   "source": [
    "Imputing the original dataframe"
   ]
  },
  {
   "cell_type": "code",
   "execution_count": 119,
   "metadata": {},
   "outputs": [],
   "source": [
    "i = 0\n",
    "\n",
    "lst_missing_warehouses_index = list(df2_missing_warehouse.index)\n",
    "\n",
    "for x in filling_missing_warehouses:\n",
    "    \n",
    "    df2.loc[lst_missing_warehouses_index[i],'nearest_warehouse'] = str(x[0])\n",
    "    df2.loc[lst_missing_warehouses_index[i],'distance_to_nearest_warehouse'] = round(x[1],4)\n",
    "    \n",
    "    i += 1"
   ]
  },
  {
   "cell_type": "markdown",
   "metadata": {},
   "source": [
    "As we have imputed the distance and warehouse name, we get no result for below queries."
   ]
  },
  {
   "cell_type": "code",
   "execution_count": 120,
   "metadata": {},
   "outputs": [
    {
     "data": {
      "text/html": [
       "<div>\n",
       "<style scoped>\n",
       "    .dataframe tbody tr th:only-of-type {\n",
       "        vertical-align: middle;\n",
       "    }\n",
       "\n",
       "    .dataframe tbody tr th {\n",
       "        vertical-align: top;\n",
       "    }\n",
       "\n",
       "    .dataframe thead th {\n",
       "        text-align: right;\n",
       "    }\n",
       "</style>\n",
       "<table border=\"1\" class=\"dataframe\">\n",
       "  <thead>\n",
       "    <tr style=\"text-align: right;\">\n",
       "      <th></th>\n",
       "      <th>order_id</th>\n",
       "      <th>customer_id</th>\n",
       "      <th>date</th>\n",
       "      <th>nearest_warehouse</th>\n",
       "      <th>shopping_cart</th>\n",
       "      <th>order_price</th>\n",
       "      <th>delivery_charges</th>\n",
       "      <th>customer_lat</th>\n",
       "      <th>customer_long</th>\n",
       "      <th>coupon_discount</th>\n",
       "      <th>order_total</th>\n",
       "      <th>season</th>\n",
       "      <th>is_expedited_delivery</th>\n",
       "      <th>distance_to_nearest_warehouse</th>\n",
       "      <th>latest_customer_review</th>\n",
       "      <th>is_happy_customer</th>\n",
       "    </tr>\n",
       "  </thead>\n",
       "  <tbody>\n",
       "  </tbody>\n",
       "</table>\n",
       "</div>"
      ],
      "text/plain": [
       "Empty DataFrame\n",
       "Columns: [order_id, customer_id, date, nearest_warehouse, shopping_cart, order_price, delivery_charges, customer_lat, customer_long, coupon_discount, order_total, season, is_expedited_delivery, distance_to_nearest_warehouse, latest_customer_review, is_happy_customer]\n",
       "Index: []"
      ]
     },
     "execution_count": 120,
     "metadata": {},
     "output_type": "execute_result"
    }
   ],
   "source": [
    "df2[df2['distance_to_nearest_warehouse'].isna()]"
   ]
  },
  {
   "cell_type": "code",
   "execution_count": 121,
   "metadata": {},
   "outputs": [
    {
     "data": {
      "text/html": [
       "<div>\n",
       "<style scoped>\n",
       "    .dataframe tbody tr th:only-of-type {\n",
       "        vertical-align: middle;\n",
       "    }\n",
       "\n",
       "    .dataframe tbody tr th {\n",
       "        vertical-align: top;\n",
       "    }\n",
       "\n",
       "    .dataframe thead th {\n",
       "        text-align: right;\n",
       "    }\n",
       "</style>\n",
       "<table border=\"1\" class=\"dataframe\">\n",
       "  <thead>\n",
       "    <tr style=\"text-align: right;\">\n",
       "      <th></th>\n",
       "      <th>order_id</th>\n",
       "      <th>customer_id</th>\n",
       "      <th>date</th>\n",
       "      <th>nearest_warehouse</th>\n",
       "      <th>shopping_cart</th>\n",
       "      <th>order_price</th>\n",
       "      <th>delivery_charges</th>\n",
       "      <th>customer_lat</th>\n",
       "      <th>customer_long</th>\n",
       "      <th>coupon_discount</th>\n",
       "      <th>order_total</th>\n",
       "      <th>season</th>\n",
       "      <th>is_expedited_delivery</th>\n",
       "      <th>distance_to_nearest_warehouse</th>\n",
       "      <th>latest_customer_review</th>\n",
       "      <th>is_happy_customer</th>\n",
       "    </tr>\n",
       "  </thead>\n",
       "  <tbody>\n",
       "  </tbody>\n",
       "</table>\n",
       "</div>"
      ],
      "text/plain": [
       "Empty DataFrame\n",
       "Columns: [order_id, customer_id, date, nearest_warehouse, shopping_cart, order_price, delivery_charges, customer_lat, customer_long, coupon_discount, order_total, season, is_expedited_delivery, distance_to_nearest_warehouse, latest_customer_review, is_happy_customer]\n",
       "Index: []"
      ]
     },
     "execution_count": 121,
     "metadata": {},
     "output_type": "execute_result"
    }
   ],
   "source": [
    "df2[df2['nearest_warehouse'].isna()]"
   ]
  },
  {
   "cell_type": "markdown",
   "metadata": {},
   "source": [
    "## Fill the order_price"
   ]
  },
  {
   "cell_type": "markdown",
   "metadata": {},
   "source": [
    "Seperating the item name and quantity using the predefined functions, namely `get_item_names` and `get_item_qty`."
   ]
  },
  {
   "cell_type": "code",
   "execution_count": 122,
   "metadata": {},
   "outputs": [],
   "source": [
    "df2['shopping_items'] = df2['shopping_cart'].apply(get_item_names)\n",
    "df2['shopping_item_quantity'] = df2['shopping_cart'].apply(get_item_qty)"
   ]
  },
  {
   "cell_type": "markdown",
   "metadata": {},
   "source": [
    "Make a new dataframe of missing order_price"
   ]
  },
  {
   "cell_type": "code",
   "execution_count": 123,
   "metadata": {},
   "outputs": [],
   "source": [
    "df2_missing_order_price = df2[df2['order_price'].isna()]"
   ]
  },
  {
   "cell_type": "markdown",
   "metadata": {},
   "source": [
    "Using the predefined `get_order_price` to calculate the order_price."
   ]
  },
  {
   "cell_type": "code",
   "execution_count": 124,
   "metadata": {
    "scrolled": true
   },
   "outputs": [
    {
     "name": "stderr",
     "output_type": "stream",
     "text": [
      "C:\\Users\\prash\\Anaconda3\\lib\\site-packages\\ipykernel_launcher.py:1: SettingWithCopyWarning: \n",
      "A value is trying to be set on a copy of a slice from a DataFrame.\n",
      "Try using .loc[row_indexer,col_indexer] = value instead\n",
      "\n",
      "See the caveats in the documentation: http://pandas.pydata.org/pandas-docs/stable/user_guide/indexing.html#returning-a-view-versus-a-copy\n",
      "  \"\"\"Entry point for launching an IPython kernel.\n"
     ]
    }
   ],
   "source": [
    "df2_missing_order_price['order_price'] = df2_missing_order_price['shopping_cart'].apply(lambda x : get_order_price(x) )"
   ]
  },
  {
   "cell_type": "markdown",
   "metadata": {},
   "source": [
    "### Impute order_price"
   ]
  },
  {
   "cell_type": "markdown",
   "metadata": {},
   "source": [
    "Imputing the order_price in the original dataframe."
   ]
  },
  {
   "cell_type": "code",
   "execution_count": 125,
   "metadata": {},
   "outputs": [],
   "source": [
    "for x in df2_missing_order_price.index:\n",
    "    df2.loc[x,'order_price'] = df2_missing_order_price.loc[x,'order_price']     "
   ]
  },
  {
   "cell_type": "markdown",
   "metadata": {},
   "source": [
    "### Check after replace"
   ]
  },
  {
   "cell_type": "markdown",
   "metadata": {},
   "source": [
    "As we have imputed the value of order_price, we get no result for below query."
   ]
  },
  {
   "cell_type": "code",
   "execution_count": 126,
   "metadata": {
    "scrolled": false
   },
   "outputs": [
    {
     "data": {
      "text/html": [
       "<div>\n",
       "<style scoped>\n",
       "    .dataframe tbody tr th:only-of-type {\n",
       "        vertical-align: middle;\n",
       "    }\n",
       "\n",
       "    .dataframe tbody tr th {\n",
       "        vertical-align: top;\n",
       "    }\n",
       "\n",
       "    .dataframe thead th {\n",
       "        text-align: right;\n",
       "    }\n",
       "</style>\n",
       "<table border=\"1\" class=\"dataframe\">\n",
       "  <thead>\n",
       "    <tr style=\"text-align: right;\">\n",
       "      <th></th>\n",
       "      <th>order_id</th>\n",
       "      <th>customer_id</th>\n",
       "      <th>date</th>\n",
       "      <th>nearest_warehouse</th>\n",
       "      <th>shopping_cart</th>\n",
       "      <th>order_price</th>\n",
       "      <th>delivery_charges</th>\n",
       "      <th>customer_lat</th>\n",
       "      <th>customer_long</th>\n",
       "      <th>coupon_discount</th>\n",
       "      <th>order_total</th>\n",
       "      <th>season</th>\n",
       "      <th>is_expedited_delivery</th>\n",
       "      <th>distance_to_nearest_warehouse</th>\n",
       "      <th>latest_customer_review</th>\n",
       "      <th>is_happy_customer</th>\n",
       "      <th>shopping_items</th>\n",
       "      <th>shopping_item_quantity</th>\n",
       "    </tr>\n",
       "  </thead>\n",
       "  <tbody>\n",
       "  </tbody>\n",
       "</table>\n",
       "</div>"
      ],
      "text/plain": [
       "Empty DataFrame\n",
       "Columns: [order_id, customer_id, date, nearest_warehouse, shopping_cart, order_price, delivery_charges, customer_lat, customer_long, coupon_discount, order_total, season, is_expedited_delivery, distance_to_nearest_warehouse, latest_customer_review, is_happy_customer, shopping_items, shopping_item_quantity]\n",
       "Index: []"
      ]
     },
     "execution_count": 126,
     "metadata": {},
     "output_type": "execute_result"
    }
   ],
   "source": [
    "df2[df2['order_price'].isna()]"
   ]
  },
  {
   "cell_type": "markdown",
   "metadata": {},
   "source": [
    "## Check order_total"
   ]
  },
  {
   "cell_type": "markdown",
   "metadata": {},
   "source": [
    "Make a new dataframe for dataframe of missing order_total"
   ]
  },
  {
   "cell_type": "code",
   "execution_count": 127,
   "metadata": {},
   "outputs": [],
   "source": [
    "df2_missing_order_total = df2[df2['order_total'].isna()]"
   ]
  },
  {
   "cell_type": "markdown",
   "metadata": {},
   "source": [
    "As we know the discount, delivery_charges and the order_price; we can calculate the order_total."
   ]
  },
  {
   "cell_type": "code",
   "execution_count": 128,
   "metadata": {},
   "outputs": [],
   "source": [
    "def get_order_total(df):\n",
    "    '''\n",
    "    Function to calculate the order_total\n",
    "    '''\n",
    "    \n",
    "    order_price = df['order_price']\n",
    "    discount = df['coupon_discount']\n",
    "    delivery_charges = df['delivery_charges']\n",
    "    \n",
    "    return order_price*( 1 - (discount/100)) + delivery_charges"
   ]
  },
  {
   "cell_type": "code",
   "execution_count": 129,
   "metadata": {
    "scrolled": false
   },
   "outputs": [
    {
     "name": "stderr",
     "output_type": "stream",
     "text": [
      "C:\\Users\\prash\\Anaconda3\\lib\\site-packages\\ipykernel_launcher.py:1: SettingWithCopyWarning: \n",
      "A value is trying to be set on a copy of a slice from a DataFrame.\n",
      "Try using .loc[row_indexer,col_indexer] = value instead\n",
      "\n",
      "See the caveats in the documentation: http://pandas.pydata.org/pandas-docs/stable/user_guide/indexing.html#returning-a-view-versus-a-copy\n",
      "  \"\"\"Entry point for launching an IPython kernel.\n"
     ]
    }
   ],
   "source": [
    "df2_missing_order_total['order_total'] = df2_missing_order_total.apply(get_order_total,axis=1)"
   ]
  },
  {
   "cell_type": "markdown",
   "metadata": {},
   "source": [
    "### Fill missing order_total"
   ]
  },
  {
   "cell_type": "markdown",
   "metadata": {},
   "source": [
    "Imputing the original dataframe."
   ]
  },
  {
   "cell_type": "code",
   "execution_count": 130,
   "metadata": {},
   "outputs": [],
   "source": [
    "for x in df2_missing_order_total.index:\n",
    "    df2.loc[x,'order_total'] = df2_missing_order_total.loc[x,'order_total']     "
   ]
  },
  {
   "cell_type": "markdown",
   "metadata": {},
   "source": [
    "### Check after replace"
   ]
  },
  {
   "cell_type": "markdown",
   "metadata": {},
   "source": [
    "As we have imputed the order_total, we get no data for below query"
   ]
  },
  {
   "cell_type": "code",
   "execution_count": 131,
   "metadata": {},
   "outputs": [
    {
     "data": {
      "text/html": [
       "<div>\n",
       "<style scoped>\n",
       "    .dataframe tbody tr th:only-of-type {\n",
       "        vertical-align: middle;\n",
       "    }\n",
       "\n",
       "    .dataframe tbody tr th {\n",
       "        vertical-align: top;\n",
       "    }\n",
       "\n",
       "    .dataframe thead th {\n",
       "        text-align: right;\n",
       "    }\n",
       "</style>\n",
       "<table border=\"1\" class=\"dataframe\">\n",
       "  <thead>\n",
       "    <tr style=\"text-align: right;\">\n",
       "      <th></th>\n",
       "      <th>order_id</th>\n",
       "      <th>customer_id</th>\n",
       "      <th>date</th>\n",
       "      <th>nearest_warehouse</th>\n",
       "      <th>shopping_cart</th>\n",
       "      <th>order_price</th>\n",
       "      <th>delivery_charges</th>\n",
       "      <th>customer_lat</th>\n",
       "      <th>customer_long</th>\n",
       "      <th>coupon_discount</th>\n",
       "      <th>order_total</th>\n",
       "      <th>season</th>\n",
       "      <th>is_expedited_delivery</th>\n",
       "      <th>distance_to_nearest_warehouse</th>\n",
       "      <th>latest_customer_review</th>\n",
       "      <th>is_happy_customer</th>\n",
       "      <th>shopping_items</th>\n",
       "      <th>shopping_item_quantity</th>\n",
       "    </tr>\n",
       "  </thead>\n",
       "  <tbody>\n",
       "  </tbody>\n",
       "</table>\n",
       "</div>"
      ],
      "text/plain": [
       "Empty DataFrame\n",
       "Columns: [order_id, customer_id, date, nearest_warehouse, shopping_cart, order_price, delivery_charges, customer_lat, customer_long, coupon_discount, order_total, season, is_expedited_delivery, distance_to_nearest_warehouse, latest_customer_review, is_happy_customer, shopping_items, shopping_item_quantity]\n",
       "Index: []"
      ]
     },
     "execution_count": 131,
     "metadata": {},
     "output_type": "execute_result"
    }
   ],
   "source": [
    "df2[df2['order_total'].isna()]"
   ]
  },
  {
   "cell_type": "markdown",
   "metadata": {},
   "source": [
    "## Delivery charges"
   ]
  },
  {
   "cell_type": "markdown",
   "metadata": {},
   "source": [
    "### METHOD 1. USING LINEAR REGRESSION MODEL"
   ]
  },
  {
   "cell_type": "markdown",
   "metadata": {},
   "source": [
    "### Making Regression model for each of the three seasons"
   ]
  },
  {
   "cell_type": "markdown",
   "metadata": {},
   "source": [
    "As the data given in Missing Data file is correct, so we can use this data to build Linear Regression model."
   ]
  },
  {
   "cell_type": "markdown",
   "metadata": {},
   "source": [
    "### 1. Regression model for Spring"
   ]
  },
  {
   "cell_type": "code",
   "execution_count": 132,
   "metadata": {},
   "outputs": [],
   "source": [
    "df_spring = df2[df2['season'] == 'Spring'].dropna(how=\"any\")"
   ]
  },
  {
   "cell_type": "markdown",
   "metadata": {},
   "source": [
    "Preparing the input and output data to train the Linear regression model"
   ]
  },
  {
   "cell_type": "code",
   "execution_count": 133,
   "metadata": {},
   "outputs": [],
   "source": [
    "lst_tuple = list(zip(df_spring['distance_to_nearest_warehouse'], df_spring['is_expedited_delivery'],df_spring['is_happy_customer']))\n",
    "lst_input = [ list(x) for x in lst_tuple ]\n",
    "lst_output = list(df_spring['delivery_charges'].astype(int))"
   ]
  },
  {
   "cell_type": "markdown",
   "metadata": {},
   "source": [
    "Fitting a model for delivery charges for Spring"
   ]
  },
  {
   "cell_type": "code",
   "execution_count": 134,
   "metadata": {},
   "outputs": [],
   "source": [
    "model_spring = LinearRegression().fit(lst_input, lst_output)"
   ]
  },
  {
   "cell_type": "markdown",
   "metadata": {},
   "source": [
    "Preparing data of Spring to predict the delivery charges"
   ]
  },
  {
   "cell_type": "code",
   "execution_count": 135,
   "metadata": {},
   "outputs": [],
   "source": [
    "df2_spring = df2[(df2['distance_to_nearest_warehouse'].notnull()) & (df2['season'] == 'Spring') & (df2['is_expedited_delivery'].notnull()) & (df2['is_happy_customer'].notnull())]\n",
    "\n",
    "lst_tuple_input_to_check = list(zip(df2_spring['distance_to_nearest_warehouse'], df2_spring['is_expedited_delivery'], df2_spring['is_happy_customer']))\n",
    "lst_input_to_check = [ list(x) for x in lst_tuple_input_to_check ]"
   ]
  },
  {
   "cell_type": "markdown",
   "metadata": {},
   "source": [
    "Predicted Delivery charges using Regression model for Spring"
   ]
  },
  {
   "cell_type": "code",
   "execution_count": 136,
   "metadata": {},
   "outputs": [],
   "source": [
    "delivery_charges_using_model_spring = model_spring.predict(lst_input_to_check)"
   ]
  },
  {
   "cell_type": "markdown",
   "metadata": {},
   "source": [
    "### Compare given Delivery charges with predicted Delivery charges for Spring"
   ]
  },
  {
   "cell_type": "code",
   "execution_count": 137,
   "metadata": {},
   "outputs": [
    {
     "data": {
      "text/plain": [
       "<matplotlib.collections.PathCollection at 0x29d4728cec8>"
      ]
     },
     "execution_count": 137,
     "metadata": {},
     "output_type": "execute_result"
    },
    {
     "data": {
      "image/png": "[encoded data removed]",
      "text/plain": [
       "<Figure size 432x288 with 1 Axes>"
      ]
     },
     "metadata": {
      "needs_background": "light"
     },
     "output_type": "display_data"
    }
   ],
   "source": [
    "plt.xlabel('delivery_charge from CSV')\n",
    "plt.ylabel('delivery_charge using Regression model')\n",
    "plt.scatter(df2_spring['delivery_charges'], delivery_charges_using_model_spring)"
   ]
  },
  {
   "cell_type": "markdown",
   "metadata": {},
   "source": [
    "### 2. Regression model for Autumn"
   ]
  },
  {
   "cell_type": "code",
   "execution_count": 138,
   "metadata": {},
   "outputs": [],
   "source": [
    "df_autumn = df2[df2['season'] == 'Autumn'].dropna(how=\"any\")"
   ]
  },
  {
   "cell_type": "markdown",
   "metadata": {},
   "source": [
    "Preparing the input and output data to train the Linear regression model for Autumn"
   ]
  },
  {
   "cell_type": "code",
   "execution_count": 139,
   "metadata": {},
   "outputs": [],
   "source": [
    "lst_tuple = list(zip(df_autumn['distance_to_nearest_warehouse'], df_autumn['is_expedited_delivery'],df_autumn['is_happy_customer']))\n",
    "lst_input = [ list(x) for x in lst_tuple ]\n",
    "lst_output = list(df_autumn['delivery_charges'].astype(int))"
   ]
  },
  {
   "cell_type": "markdown",
   "metadata": {},
   "source": [
    "Fitting a model for delivery charges for Autumn"
   ]
  },
  {
   "cell_type": "code",
   "execution_count": 140,
   "metadata": {},
   "outputs": [],
   "source": [
    "model_autumn = LinearRegression().fit(lst_input, lst_output)"
   ]
  },
  {
   "cell_type": "markdown",
   "metadata": {},
   "source": [
    "Preparing data of Autumn to predict the delivery charges"
   ]
  },
  {
   "cell_type": "code",
   "execution_count": 141,
   "metadata": {},
   "outputs": [],
   "source": [
    "df2_autumn = df2[(df2['distance_to_nearest_warehouse'].notnull()) & (df2['season'] == 'Autumn') & (df2['is_expedited_delivery'].notnull()) & (df2['is_happy_customer'].notnull())]\n",
    "\n",
    "lst_tuple_input_to_check = list(zip(df2_autumn['distance_to_nearest_warehouse'], df2_autumn['is_expedited_delivery'], df2_autumn['is_happy_customer']))\n",
    "lst_input_to_check = [ list(x) for x in lst_tuple_input_to_check ]"
   ]
  },
  {
   "cell_type": "markdown",
   "metadata": {},
   "source": [
    "Predicted Delivery charges using Regression model for Autumn"
   ]
  },
  {
   "cell_type": "code",
   "execution_count": 142,
   "metadata": {},
   "outputs": [],
   "source": [
    "delivery_charges_using_model_autumn = model_autumn.predict(lst_input_to_check)"
   ]
  },
  {
   "cell_type": "markdown",
   "metadata": {},
   "source": [
    "### Compare given Delivery charges with predicted Delivery charges for Autumn"
   ]
  },
  {
   "cell_type": "code",
   "execution_count": 143,
   "metadata": {},
   "outputs": [
    {
     "data": {
      "text/plain": [
       "<matplotlib.collections.PathCollection at 0x29d47192808>"
      ]
     },
     "execution_count": 143,
     "metadata": {},
     "output_type": "execute_result"
    },
    {
     "data": {
      "image/png": "[encoded data removed]",
      "text/plain": [
       "<Figure size 432x288 with 1 Axes>"
      ]
     },
     "metadata": {
      "needs_background": "light"
     },
     "output_type": "display_data"
    }
   ],
   "source": [
    "plt.xlabel('delivery_charge from CSV')\n",
    "plt.ylabel('delivery_charge using Regression model')\n",
    "plt.scatter(df2_autumn['delivery_charges'], delivery_charges_using_model_autumn)"
   ]
  },
  {
   "cell_type": "markdown",
   "metadata": {},
   "source": [
    "### 3. Regression model for  Winter"
   ]
  },
  {
   "cell_type": "code",
   "execution_count": 144,
   "metadata": {},
   "outputs": [],
   "source": [
    "df_winter = df2[df2['season'] == 'Winter'].dropna(how=\"any\")"
   ]
  },
  {
   "cell_type": "markdown",
   "metadata": {},
   "source": [
    "Preparing the input and output data to train the Linear regression model for Winter"
   ]
  },
  {
   "cell_type": "code",
   "execution_count": 145,
   "metadata": {},
   "outputs": [],
   "source": [
    "lst_tuple = list(zip(df_winter['distance_to_nearest_warehouse'], df_winter['is_expedited_delivery'],df_winter['is_happy_customer']))\n",
    "lst_input = [ list(x) for x in lst_tuple ]\n",
    "lst_output = list(df_winter['delivery_charges'].astype(int))"
   ]
  },
  {
   "cell_type": "markdown",
   "metadata": {},
   "source": [
    "Fitting a model for delivery charges for Winter"
   ]
  },
  {
   "cell_type": "code",
   "execution_count": 146,
   "metadata": {},
   "outputs": [],
   "source": [
    "model_winter = LinearRegression().fit(lst_input, lst_output)"
   ]
  },
  {
   "cell_type": "markdown",
   "metadata": {},
   "source": [
    "Preparing data of Winter to predict the delivery charges"
   ]
  },
  {
   "cell_type": "code",
   "execution_count": 147,
   "metadata": {},
   "outputs": [],
   "source": [
    "df2_winter = df2[(df2['distance_to_nearest_warehouse'].notnull()) & (df2['season'] == 'Winter') & (df2['is_expedited_delivery'].notnull()) & (df2['is_happy_customer'].notnull())]\n",
    "\n",
    "lst_tuple_input_to_check = list(zip(df_winter['distance_to_nearest_warehouse'], df_winter['is_expedited_delivery'], df_winter['is_happy_customer']))\n",
    "lst_input_to_check = [ list(x) for x in lst_tuple_input_to_check ]"
   ]
  },
  {
   "cell_type": "markdown",
   "metadata": {},
   "source": [
    "Predicted Delivery charges using Regression model for Winter"
   ]
  },
  {
   "cell_type": "code",
   "execution_count": 148,
   "metadata": {},
   "outputs": [],
   "source": [
    "delivery_charges_using_model_winter = model_winter.predict(lst_input_to_check)"
   ]
  },
  {
   "cell_type": "markdown",
   "metadata": {},
   "source": [
    "### Compare given Delivery charges with predicted Delivery charges for Winter"
   ]
  },
  {
   "cell_type": "code",
   "execution_count": 149,
   "metadata": {},
   "outputs": [
    {
     "data": {
      "text/plain": [
       "<matplotlib.collections.PathCollection at 0x29d479b8288>"
      ]
     },
     "execution_count": 149,
     "metadata": {},
     "output_type": "execute_result"
    },
    {
     "data": {
      "image/png": "[encoded data removed]",
      "text/plain": [
       "<Figure size 432x288 with 1 Axes>"
      ]
     },
     "metadata": {
      "needs_background": "light"
     },
     "output_type": "display_data"
    }
   ],
   "source": [
    "plt.xlabel('delivery_charge from CSV')\n",
    "plt.ylabel('delivery_charge using Regression model')\n",
    "plt.scatter(df_winter['delivery_charges'], delivery_charges_using_model_winter)"
   ]
  },
  {
   "cell_type": "markdown",
   "metadata": {},
   "source": [
    "### 4. Regression model for Summer"
   ]
  },
  {
   "cell_type": "code",
   "execution_count": 150,
   "metadata": {},
   "outputs": [],
   "source": [
    "df_summer = df2[df2['season'] == 'Summer'].dropna(how=\"any\")"
   ]
  },
  {
   "cell_type": "markdown",
   "metadata": {},
   "source": [
    "Preparing the input and output data to train the Linear regression model for Summer"
   ]
  },
  {
   "cell_type": "code",
   "execution_count": 151,
   "metadata": {},
   "outputs": [],
   "source": [
    "lst_tuple = list(zip(df_summer['distance_to_nearest_warehouse'], df_summer['is_expedited_delivery'],df_summer['is_happy_customer']))\n",
    "lst_input = [ list(x) for x in lst_tuple ]\n",
    "lst_output = list(df_summer['delivery_charges'].astype(int))"
   ]
  },
  {
   "cell_type": "code",
   "execution_count": 152,
   "metadata": {},
   "outputs": [],
   "source": [
    "model_summer = LinearRegression().fit(lst_input, lst_output)"
   ]
  },
  {
   "cell_type": "markdown",
   "metadata": {},
   "source": [
    "Preparing data of Autumn to predict the delivery charges for Summer"
   ]
  },
  {
   "cell_type": "code",
   "execution_count": 153,
   "metadata": {},
   "outputs": [],
   "source": [
    "df2_summer = df2[(df2['distance_to_nearest_warehouse'].notnull()) & (df2['season'] == 'Summer') & (df2['is_expedited_delivery'].notnull()) & (df2['is_happy_customer'].notnull())]\n",
    "\n",
    "lst_tuple_input_to_check = list(zip(df2_summer['distance_to_nearest_warehouse'], df2_summer['is_expedited_delivery'], df2_summer['is_happy_customer']))\n",
    "lst_input_to_check = [ list(x) for x in lst_tuple_input_to_check ]"
   ]
  },
  {
   "cell_type": "markdown",
   "metadata": {},
   "source": [
    "Predicted Delivery charges using Regression model for Summer"
   ]
  },
  {
   "cell_type": "code",
   "execution_count": 154,
   "metadata": {},
   "outputs": [],
   "source": [
    "delivery_charges_using_model_summer = model_summer.predict(lst_input_to_check)"
   ]
  },
  {
   "cell_type": "markdown",
   "metadata": {},
   "source": [
    "### Compare given Delivery charges with predicted Delivery charges for Summer"
   ]
  },
  {
   "cell_type": "code",
   "execution_count": 155,
   "metadata": {},
   "outputs": [
    {
     "data": {
      "text/plain": [
       "<matplotlib.collections.PathCollection at 0x29d479c04c8>"
      ]
     },
     "execution_count": 155,
     "metadata": {},
     "output_type": "execute_result"
    },
    {
     "data": {
      "image/png": "[encoded data removed]",
      "text/plain": [
       "<Figure size 432x288 with 1 Axes>"
      ]
     },
     "metadata": {
      "needs_background": "light"
     },
     "output_type": "display_data"
    }
   ],
   "source": [
    "plt.xlabel('delivery_charge from CSV')\n",
    "plt.ylabel('delivery_charge using Regression model')\n",
    "plt.scatter(df2_summer['delivery_charges'], delivery_charges_using_model_summer)"
   ]
  },
  {
   "cell_type": "markdown",
   "metadata": {},
   "source": [
    "### METHOD 2. Calculate Delivery charges using EQUATION"
   ]
  },
  {
   "cell_type": "markdown",
   "metadata": {},
   "source": [
    "As we know that order_total is the sum of  discounted order_price and the delivery charges, we can calculate the order_total as follows:"
   ]
  },
  {
   "cell_type": "markdown",
   "metadata": {},
   "source": [
    "order_total = delivery_price + ( ( 1 - discount/100) * order_price )"
   ]
  },
  {
   "cell_type": "markdown",
   "metadata": {},
   "source": [
    "Rewriting the equation, we get the delivery_charges for each order.\n",
    "\n",
    "delivery_price = order_total - ( ( 1 - discount/100) * order_price )"
   ]
  },
  {
   "cell_type": "code",
   "execution_count": 156,
   "metadata": {},
   "outputs": [
    {
     "data": {
      "text/plain": [
       "(460, 18)"
      ]
     },
     "execution_count": 156,
     "metadata": {},
     "output_type": "execute_result"
    }
   ],
   "source": [
    "df2[df2['delivery_charges'].notnull()].shape"
   ]
  },
  {
   "cell_type": "markdown",
   "metadata": {},
   "source": [
    "Verify the equation - works for all the 460 rows for which we have the delivery charges given."
   ]
  },
  {
   "cell_type": "code",
   "execution_count": 157,
   "metadata": {
    "scrolled": true
   },
   "outputs": [
    {
     "data": {
      "text/plain": [
       "(460, 18)"
      ]
     },
     "execution_count": 157,
     "metadata": {},
     "output_type": "execute_result"
    }
   ],
   "source": [
    "df2[ df2['delivery_charges'] == round((df2['order_total'] - ( ( 1 - df2['coupon_discount']/100) * df2['order_price'] )),2) ].shape"
   ]
  },
  {
   "cell_type": "markdown",
   "metadata": {},
   "source": [
    "Calculating Delivery charges for each of the seasons using the equation."
   ]
  },
  {
   "cell_type": "code",
   "execution_count": 158,
   "metadata": {},
   "outputs": [],
   "source": [
    "delivery_charges_using_eq_autumn = list(round((df2_autumn['order_total'] - ( ( 1 - df2_autumn['coupon_discount']/100) * df2_autumn['order_price'] )),2))\n",
    "delivery_charges_using_eq_spring = list(round((df2_spring['order_total'] - ( ( 1 - df2_spring['coupon_discount']/100) * df2_spring['order_price'] )),2))\n",
    "delivery_charges_using_eq_winter = list(round((df_winter['order_total'] - ( ( 1 - df_winter['coupon_discount']/100) * df_winter['order_price'] )),2))\n",
    "delivery_charges_using_eq_summer = list(round((df2_summer['order_total'] - ( ( 1 - df2_summer['coupon_discount']/100) * df2_summer['order_price'] )),2))"
   ]
  },
  {
   "cell_type": "markdown",
   "metadata": {},
   "source": [
    "### Scatter plot of Delivery charges obtained using the equation for Autumn"
   ]
  },
  {
   "cell_type": "code",
   "execution_count": 159,
   "metadata": {
    "scrolled": true
   },
   "outputs": [
    {
     "data": {
      "text/plain": [
       "<matplotlib.collections.PathCollection at 0x29d48b736c8>"
      ]
     },
     "execution_count": 159,
     "metadata": {},
     "output_type": "execute_result"
    },
    {
     "data": {
      "image/png": "[encoded data removed]",
      "text/plain": [
       "<Figure size 432x288 with 1 Axes>"
      ]
     },
     "metadata": {
      "needs_background": "light"
     },
     "output_type": "display_data"
    }
   ],
   "source": [
    "plt.xlabel('delivery_charge from CSV')\n",
    "plt.ylabel('delivery_charge using Equation')\n",
    "plt.scatter(delivery_charges_using_eq_autumn, df2_autumn['delivery_charges'])"
   ]
  },
  {
   "cell_type": "markdown",
   "metadata": {},
   "source": [
    "### Scatter plot of Delivery charges obtained using the equation for Spring"
   ]
  },
  {
   "cell_type": "code",
   "execution_count": 160,
   "metadata": {},
   "outputs": [
    {
     "data": {
      "text/plain": [
       "<matplotlib.collections.PathCollection at 0x29d48bdce88>"
      ]
     },
     "execution_count": 160,
     "metadata": {},
     "output_type": "execute_result"
    },
    {
     "data": {
      "image/png": "[encoded data removed]",
      "text/plain": [
       "<Figure size 432x288 with 1 Axes>"
      ]
     },
     "metadata": {
      "needs_background": "light"
     },
     "output_type": "display_data"
    }
   ],
   "source": [
    "plt.xlabel('delivery_charge from CSV')\n",
    "plt.ylabel('delivery_charge using Equation')\n",
    "plt.scatter(delivery_charges_using_eq_spring, df2_spring['delivery_charges'])"
   ]
  },
  {
   "cell_type": "markdown",
   "metadata": {},
   "source": [
    "### Scatter plot of Delivery charges obtained using the equation for Winter"
   ]
  },
  {
   "cell_type": "code",
   "execution_count": 161,
   "metadata": {},
   "outputs": [
    {
     "data": {
      "text/plain": [
       "<matplotlib.collections.PathCollection at 0x29d48c394c8>"
      ]
     },
     "execution_count": 161,
     "metadata": {},
     "output_type": "execute_result"
    },
    {
     "data": {
      "image/png": "[encoded data removed]",
      "text/plain": [
       "<Figure size 432x288 with 1 Axes>"
      ]
     },
     "metadata": {
      "needs_background": "light"
     },
     "output_type": "display_data"
    }
   ],
   "source": [
    "plt.xlabel('delivery_charge from CSV')\n",
    "plt.ylabel('delivery_charge using Equation')\n",
    "plt.scatter(delivery_charges_using_eq_winter, df_winter['delivery_charges'])"
   ]
  },
  {
   "cell_type": "markdown",
   "metadata": {},
   "source": [
    "### Scatter plot of Delivery charges obtained using the equation for Summer"
   ]
  },
  {
   "cell_type": "code",
   "execution_count": 162,
   "metadata": {
    "scrolled": true
   },
   "outputs": [
    {
     "data": {
      "text/plain": [
       "<matplotlib.collections.PathCollection at 0x29d48cae508>"
      ]
     },
     "execution_count": 162,
     "metadata": {},
     "output_type": "execute_result"
    },
    {
     "data": {
      "image/png": "[encoded data removed]",
      "text/plain": [
       "<Figure size 432x288 with 1 Axes>"
      ]
     },
     "metadata": {
      "needs_background": "light"
     },
     "output_type": "display_data"
    }
   ],
   "source": [
    "plt.xlabel('delivery_charge from CSV')\n",
    "plt.ylabel('delivery_charge using Equation')\n",
    "plt.scatter(delivery_charges_using_eq_summer, df2_summer['delivery_charges'])"
   ]
  },
  {
   "cell_type": "markdown",
   "metadata": {},
   "source": [
    "### Comapring the 2 approach: Equation v/s Regression model"
   ]
  },
  {
   "cell_type": "markdown",
   "metadata": {},
   "source": [
    "### Fill the delivery_charges - using equation"
   ]
  },
  {
   "cell_type": "markdown",
   "metadata": {},
   "source": [
    "We can see from the above plots that the deilvery charges obtained using the equation, do not deviate much from the true delivery charges."
   ]
  },
  {
   "cell_type": "markdown",
   "metadata": {},
   "source": [
    "On the other hand, the delivery charges obtained using the Regression model, has high variance from the true delivery charges."
   ]
  },
  {
   "cell_type": "markdown",
   "metadata": {},
   "source": [
    "This means using the Equation to fill the missing Delivery charges is a good approach.\n",
    "\n",
    "Also, the Equation is independent of the season and works in all the cases."
   ]
  },
  {
   "cell_type": "code",
   "execution_count": 163,
   "metadata": {},
   "outputs": [],
   "source": [
    "df_missing_deliver_charges = df2[( df2['delivery_charges'].isna() )]"
   ]
  },
  {
   "cell_type": "code",
   "execution_count": 164,
   "metadata": {},
   "outputs": [
    {
     "data": {
      "text/plain": [
       "(40, 18)"
      ]
     },
     "execution_count": 164,
     "metadata": {},
     "output_type": "execute_result"
    }
   ],
   "source": [
    "df_missing_deliver_charges.shape"
   ]
  },
  {
   "cell_type": "code",
   "execution_count": 165,
   "metadata": {},
   "outputs": [],
   "source": [
    "def get_delivery_charge(order):\n",
    "    '''\n",
    "    Function to calculate the delivery charges\n",
    "    '''\n",
    "    \n",
    "    order_total = order['order_total']\n",
    "    order_price = order['order_price']\n",
    "    coupon_discount = order['coupon_discount']\n",
    "    \n",
    "    delivery_charges = order_total - (order_price * (1 - coupon_discount/100))\n",
    "    \n",
    "    return round(delivery_charges,2)"
   ]
  },
  {
   "cell_type": "markdown",
   "metadata": {},
   "source": [
    "Impute the original dataframe"
   ]
  },
  {
   "cell_type": "code",
   "execution_count": 166,
   "metadata": {},
   "outputs": [],
   "source": [
    "for index,row in df_missing_deliver_charges.iterrows():\n",
    "    df2.loc[index,'delivery_charges'] = get_delivery_charge(row)"
   ]
  },
  {
   "cell_type": "markdown",
   "metadata": {},
   "source": [
    "### Check after filling the missing delivery_charges"
   ]
  },
  {
   "cell_type": "markdown",
   "metadata": {},
   "source": [
    "As we have filled the missing delivery_charges, we get no result for below query."
   ]
  },
  {
   "cell_type": "code",
   "execution_count": 167,
   "metadata": {
    "scrolled": true
   },
   "outputs": [
    {
     "data": {
      "text/html": [
       "<div>\n",
       "<style scoped>\n",
       "    .dataframe tbody tr th:only-of-type {\n",
       "        vertical-align: middle;\n",
       "    }\n",
       "\n",
       "    .dataframe tbody tr th {\n",
       "        vertical-align: top;\n",
       "    }\n",
       "\n",
       "    .dataframe thead th {\n",
       "        text-align: right;\n",
       "    }\n",
       "</style>\n",
       "<table border=\"1\" class=\"dataframe\">\n",
       "  <thead>\n",
       "    <tr style=\"text-align: right;\">\n",
       "      <th></th>\n",
       "      <th>order_id</th>\n",
       "      <th>customer_id</th>\n",
       "      <th>date</th>\n",
       "      <th>nearest_warehouse</th>\n",
       "      <th>shopping_cart</th>\n",
       "      <th>order_price</th>\n",
       "      <th>delivery_charges</th>\n",
       "      <th>customer_lat</th>\n",
       "      <th>customer_long</th>\n",
       "      <th>coupon_discount</th>\n",
       "      <th>order_total</th>\n",
       "      <th>season</th>\n",
       "      <th>is_expedited_delivery</th>\n",
       "      <th>distance_to_nearest_warehouse</th>\n",
       "      <th>latest_customer_review</th>\n",
       "      <th>is_happy_customer</th>\n",
       "      <th>shopping_items</th>\n",
       "      <th>shopping_item_quantity</th>\n",
       "    </tr>\n",
       "  </thead>\n",
       "  <tbody>\n",
       "  </tbody>\n",
       "</table>\n",
       "</div>"
      ],
      "text/plain": [
       "Empty DataFrame\n",
       "Columns: [order_id, customer_id, date, nearest_warehouse, shopping_cart, order_price, delivery_charges, customer_lat, customer_long, coupon_discount, order_total, season, is_expedited_delivery, distance_to_nearest_warehouse, latest_customer_review, is_happy_customer, shopping_items, shopping_item_quantity]\n",
       "Index: []"
      ]
     },
     "execution_count": 167,
     "metadata": {},
     "output_type": "execute_result"
    }
   ],
   "source": [
    "df2[df2['delivery_charges'].isna()]"
   ]
  },
  {
   "cell_type": "markdown",
   "metadata": {},
   "source": [
    "### Export the CSV for Task 2 - Missing data"
   ]
  },
  {
   "cell_type": "markdown",
   "metadata": {},
   "source": [
    "Before we export the data, we get rid of the unnecessary columns added for analysis."
   ]
  },
  {
   "cell_type": "code",
   "execution_count": 168,
   "metadata": {},
   "outputs": [],
   "source": [
    "columns_to_drop = ['shopping_items','shopping_item_quantity']\n",
    "df2.drop(columns_to_drop, 1, inplace=True)"
   ]
  },
  {
   "cell_type": "code",
   "execution_count": 169,
   "metadata": {},
   "outputs": [],
   "source": [
    "df2.to_csv('31187366_missing_data_solution.csv', index=False)"
   ]
  },
  {
   "cell_type": "markdown",
   "metadata": {},
   "source": [
    "# TASK 3 - OUTLIER ANALYSIS"
   ]
  },
  {
   "cell_type": "markdown",
   "metadata": {},
   "source": [
    "Read the data for outlier detection"
   ]
  },
  {
   "cell_type": "code",
   "execution_count": 170,
   "metadata": {},
   "outputs": [],
   "source": [
    "df3 = pd.read_csv('31187366_outlier_data.csv')"
   ]
  },
  {
   "cell_type": "markdown",
   "metadata": {},
   "source": [
    "As the deliver charges follow a linear model;\n",
    "\n",
    "We have to do seperate Box plot analysis for each season, is_happy_customer, is_expedited_delivery"
   ]
  },
  {
   "cell_type": "code",
   "execution_count": 171,
   "metadata": {
    "scrolled": false
   },
   "outputs": [
    {
     "data": {
      "text/plain": [
       "<matplotlib.axes._subplots.AxesSubplot at 0x29d48d25648>"
      ]
     },
     "execution_count": 171,
     "metadata": {},
     "output_type": "execute_result"
    },
    {
     "data": {
      "image/png": "[encoded data removed]",
      "text/plain": [
       "<Figure size 2160x1440 with 1 Axes>"
      ]
     },
     "metadata": {
      "needs_background": "light"
     },
     "output_type": "display_data"
    }
   ],
   "source": [
    "df3.boxplot('delivery_charges',by=['season','is_expedited_delivery','is_happy_customer'],sym='k.', figsize=(30, 20))"
   ]
  },
  {
   "cell_type": "markdown",
   "metadata": {},
   "source": [
    "To see whether the delivery charges are indeed Outliers, I have compared them to the predicted delivery charges for that season using the Regression model.\n",
    "\n",
    "If the difference between the predicted delivery charges from the regression model and the given delivery charge is greater than 4, we declare them as outliers."
   ]
  },
  {
   "cell_type": "code",
   "execution_count": 172,
   "metadata": {},
   "outputs": [],
   "source": [
    "# list to store the index of final outliers\n",
    "index_outliers = []\n",
    "\n",
    "# list to store the delivery charges of the outliers\n",
    "lst_delivery_charges = []\n",
    "\n",
    "# dictionary to store the outlier for each season\n",
    "dict_predicted_delivery_charges = {}\n",
    "dict_predicted_delivery_charges['Spring'] = list()\n",
    "dict_predicted_delivery_charges['Autumn'] = list()\n",
    "dict_predicted_delivery_charges['Winter'] = list()\n",
    "dict_predicted_delivery_charges['Summer'] = list()\n",
    "\n",
    "\n",
    "# repeat for each season\n",
    "for season in ['Autumn', 'Summer', 'Spring', 'Winter']:\n",
    "    for is_expedite in [True, False]:\n",
    "        for is_happy in [True, False]:\n",
    "            \n",
    "            # filter the datframe before we proceed\n",
    "            df_season = df3[ (df3['season'] == season) & (df3['is_expedited_delivery'] == is_expedite) & (df3['is_happy_customer'] == is_happy)]\n",
    "            \n",
    "            # get the first and third quartile\n",
    "            q1 = np.quantile(df_season['delivery_charges'], .25)\n",
    "            q3 = np.quantile(df_season['delivery_charges'], .75)\n",
    "            \n",
    "            # cal iqr\n",
    "            iqr = q3-q1\n",
    "            \n",
    "            # add index to the list of outliers\n",
    "            index_outliers = index_outliers +  list(df_season[df_season['delivery_charges'] > (q3 + 1.5*iqr)].index)\n",
    "            index_outliers = index_outliers +  list(df_season[df_season['delivery_charges'] < (q1 - 1.5*iqr)].index)\n",
    "            \n",
    "            # make a dataframe of outliers\n",
    "            df_outliers1 = df3.iloc[list(df_season[df_season['delivery_charges'] > (q3 + 1.5*iqr)].index)]\n",
    "            df_outliers2 = df3.iloc[list(df_season[df_season['delivery_charges'] < (q1 - 1.5*iqr)].index)]\n",
    "            \n",
    "            # merge the 2 df\n",
    "            df_outliers = pd.concat([df_outliers1, df_outliers2], ignore_index=True)\n",
    "            \n",
    "            # prepare the data to be used for Regression model\n",
    "            lst_tuple_input_to_check = list(zip(df_outliers['distance_to_nearest_warehouse'], df_outliers['is_expedited_delivery'], df_season['is_happy_customer']))            \n",
    "            lst_input_to_check = [ list(x) for x in lst_tuple_input_to_check ]\n",
    "            \n",
    "            # predict the delivery_charges of outliers\n",
    "            if len(lst_input_to_check) != 0:\n",
    "                if season == 'Summer':\n",
    "                    dict_predicted_delivery_charges[season].append(model_summer.predict(lst_input_to_check))\n",
    "                    predicted_charges = model_summer.predict(lst_input_to_check)\n",
    "                \n",
    "                elif season == 'Winter':\n",
    "                    dict_predicted_delivery_charges[season].append(model_winter.predict(lst_input_to_check))\n",
    "                    predicted_charges = model_winter.predict(lst_input_to_check)\n",
    "                    \n",
    "                elif season == 'Spring':\n",
    "                    dict_predicted_delivery_charges[season].append(model_spring.predict(lst_input_to_check))\n",
    "                    predicted_charges = model_spring.predict(lst_input_to_check)\n",
    "                \n",
    "                elif season == 'Autumn':\n",
    "                    dict_predicted_delivery_charges[season].append(model_autumn.predict(lst_input_to_check))\n",
    "                    predicted_charges = model_autumn.predict(lst_input_to_check)\n",
    "                \n",
    "                # add new column with the predicted delivery_charges\n",
    "                df_outliers['predicted_delivery_charges'] = list(predicted_charges)\n",
    "                \n",
    "                # if the difference is greater than 4, we declare the delivery_charge as OUTLIER\n",
    "                lst_delivery_charges.append(list(df_outliers[ abs(df_outliers['predicted_delivery_charges'] - df_outliers['delivery_charges']) > 4].delivery_charges))\n",
    "                       "
   ]
  },
  {
   "cell_type": "code",
   "execution_count": 173,
   "metadata": {},
   "outputs": [],
   "source": [
    "lst_outlier_delivery_charges = []\n",
    "\n",
    "# making a single list of ints as the data returend was list of list\n",
    "for x in lst_delivery_charges:\n",
    "    for y in x:\n",
    "        lst_outlier_delivery_charges.append(y)"
   ]
  },
  {
   "cell_type": "code",
   "execution_count": 174,
   "metadata": {},
   "outputs": [],
   "source": [
    "dict_delivery_charges = {}\n",
    "dict_delivery_charges['Spring'] = list()\n",
    "dict_delivery_charges['Summer'] = []\n",
    "dict_delivery_charges['Winter'] = []\n",
    "dict_delivery_charges['Autumn'] = []\n",
    "\n",
    "# gathering all the data for same season\n",
    "# will be used for comparision\n",
    "for season in ['Summer','Spring','Winter','Autumn']:\n",
    "    for x in dict_predicted_delivery_charges[season]:\n",
    "        for y in x:\n",
    "            dict_delivery_charges[season].append(y)"
   ]
  },
  {
   "cell_type": "markdown",
   "metadata": {},
   "source": [
    "## Visualising the Predicted delivery charges and the given Delivery charges."
   ]
  },
  {
   "cell_type": "code",
   "execution_count": 175,
   "metadata": {},
   "outputs": [],
   "source": [
    "df3_outliers = df3.iloc[index_outliers]"
   ]
  },
  {
   "cell_type": "markdown",
   "metadata": {},
   "source": [
    "### Outlier for Summer"
   ]
  },
  {
   "cell_type": "code",
   "execution_count": 176,
   "metadata": {},
   "outputs": [
    {
     "data": {
      "text/plain": [
       "<matplotlib.collections.PathCollection at 0x29d48f26608>"
      ]
     },
     "execution_count": 176,
     "metadata": {},
     "output_type": "execute_result"
    },
    {
     "data": {
      "image/png": "[encoded data removed]",
      "text/plain": [
       "<Figure size 432x288 with 1 Axes>"
      ]
     },
     "metadata": {
      "needs_background": "light"
     },
     "output_type": "display_data"
    }
   ],
   "source": [
    "plt.xlabel('delivery_charge from CSV')\n",
    "plt.ylabel('delivery_charge using Regression')\n",
    "plt.scatter(df3_outliers[df3_outliers['season'] =='Summer']['delivery_charges'], dict_delivery_charges['Summer'])"
   ]
  },
  {
   "cell_type": "markdown",
   "metadata": {},
   "source": [
    "### Outlier for Winter"
   ]
  },
  {
   "cell_type": "code",
   "execution_count": 177,
   "metadata": {},
   "outputs": [
    {
     "data": {
      "text/plain": [
       "<matplotlib.collections.PathCollection at 0x29d48f26788>"
      ]
     },
     "execution_count": 177,
     "metadata": {},
     "output_type": "execute_result"
    },
    {
     "data": {
      "image/png": "[encoded data removed]",
      "text/plain": [
       "<Figure size 432x288 with 1 Axes>"
      ]
     },
     "metadata": {
      "needs_background": "light"
     },
     "output_type": "display_data"
    }
   ],
   "source": [
    "plt.xlabel('delivery_charge from CSV')\n",
    "plt.ylabel('delivery_charge using Regression')\n",
    "plt.scatter(df3_outliers[df3_outliers['season'] =='Winter']['delivery_charges'], dict_delivery_charges['Winter'])"
   ]
  },
  {
   "cell_type": "markdown",
   "metadata": {},
   "source": [
    "### Outlier for Spring"
   ]
  },
  {
   "cell_type": "code",
   "execution_count": 178,
   "metadata": {
    "scrolled": true
   },
   "outputs": [
    {
     "data": {
      "text/plain": [
       "<matplotlib.collections.PathCollection at 0x29d48fc45c8>"
      ]
     },
     "execution_count": 178,
     "metadata": {},
     "output_type": "execute_result"
    },
    {
     "data": {
      "image/png": "[encoded data removed]",
      "text/plain": [
       "<Figure size 432x288 with 1 Axes>"
      ]
     },
     "metadata": {
      "needs_background": "light"
     },
     "output_type": "display_data"
    }
   ],
   "source": [
    "plt.xlabel('delivery_charge from CSV')\n",
    "plt.ylabel('delivery_charge using Regression')\n",
    "plt.scatter(df3_outliers[df3_outliers['season'] =='Spring']['delivery_charges'], dict_delivery_charges['Spring'])"
   ]
  },
  {
   "cell_type": "markdown",
   "metadata": {},
   "source": [
    "### Outlier for Autumn"
   ]
  },
  {
   "cell_type": "code",
   "execution_count": 179,
   "metadata": {},
   "outputs": [
    {
     "data": {
      "text/plain": [
       "<matplotlib.collections.PathCollection at 0x29d48ff5448>"
      ]
     },
     "execution_count": 179,
     "metadata": {},
     "output_type": "execute_result"
    },
    {
     "data": {
      "image/png": "[encoded data removed]",
      "text/plain": [
       "<Figure size 432x288 with 1 Axes>"
      ]
     },
     "metadata": {
      "needs_background": "light"
     },
     "output_type": "display_data"
    }
   ],
   "source": [
    "plt.xlabel('delivery_charge from CSV')\n",
    "plt.ylabel('delivery_charge using Regression')\n",
    "plt.scatter(df3_outliers[df3_outliers['season'] =='Autumn']['delivery_charges'], dict_delivery_charges['Autumn'])"
   ]
  },
  {
   "cell_type": "markdown",
   "metadata": {},
   "source": [
    "## Remove the Outilers"
   ]
  },
  {
   "cell_type": "markdown",
   "metadata": {},
   "source": [
    "We can see from above plots that the value of delivery_charges predicted from the Linear Regression model and the given delivery charges vary a lot.\n",
    "\n",
    "This justifies that these delivery charges are outliers."
   ]
  },
  {
   "cell_type": "code",
   "execution_count": 180,
   "metadata": {},
   "outputs": [],
   "source": [
    "def is_outlier(delivery_charge):\n",
    "    '''\n",
    "    Function to check if the delievry charge belongs to a the outliers list of delivery charges\n",
    "    '''\n",
    "    \n",
    "    if delivery_charge in lst_outlier_delivery_charges:\n",
    "        return True\n",
    "    else:\n",
    "        return False"
   ]
  },
  {
   "cell_type": "code",
   "execution_count": 181,
   "metadata": {},
   "outputs": [
    {
     "data": {
      "text/plain": [
       "31"
      ]
     },
     "execution_count": 181,
     "metadata": {},
     "output_type": "execute_result"
    }
   ],
   "source": [
    "len(df3[df3['delivery_charges'].apply(is_outlier)])"
   ]
  },
  {
   "cell_type": "markdown",
   "metadata": {},
   "source": [
    "There are eventually 31 outliers in the given file"
   ]
  },
  {
   "cell_type": "markdown",
   "metadata": {},
   "source": [
    "Delete the orders having the outlier delivery_charges"
   ]
  },
  {
   "cell_type": "code",
   "execution_count": 182,
   "metadata": {},
   "outputs": [],
   "source": [
    "df3.drop(list(df3[df3['delivery_charges'].apply(is_outlier)].index), inplace=True)"
   ]
  },
  {
   "cell_type": "markdown",
   "metadata": {},
   "source": [
    "### Export the CSV for Task 3 - Outliers"
   ]
  },
  {
   "cell_type": "code",
   "execution_count": 183,
   "metadata": {},
   "outputs": [],
   "source": [
    "df3.to_csv('31187366_outlier_data_solution.csv', index=False)"
   ]
  },
  {
   "cell_type": "markdown",
   "metadata": {},
   "source": [
    "# Summary\n",
    "This assessment helps to build up the knowledge of Data cleansing to handle and remove various anamolies like Semantic anamoly, Coverage anamoly and Syntactic anamoly. The main objective achieved from this assessment are as follows:\n",
    "\n",
    "- **Manipulating Python Data structures and Pandas DataFrames**: For successful completion of this task knowledge of manipulating and operating on Dataframes was fundamental. The main functions used for data frame manipulation were `apply`, `zip`, `filter`, `dropna`, `isna`, `notna`, `replace`, `unique` etc. \n",
    "\n",
    "- **Developing Regression model**: Using the `LinearRegression` class, it was possible to make Linear regression model for Delivery charges for various seasons. This model was then used to predict and fill the missing delivery_charges.\n",
    "\n",
    "- **Sentiment Analysis**: Using the `SentimentIntensityAnalyzer` class it was possible to predict of sentiment based on the last customer purchase. The compound polarity score was used to classify the happy and unhappy customers.\n",
    "\n",
    "- **Visualizing Data**: For detecting outliers and verifying results making use of proper plots to visualize the data was important. The visualization was done using `matplotlib` library to plot Scatter plot and Histograms. \n",
    "\n",
    "- **Formulating Regular Expressions** : Developing Regular expression to capture Item name and Quantity of item order for a Shopping cart, helped to build upon the knowledge of forming Regular expressions. Using `findall` method from `re` package helped to capture a list of data using the defined regular expression.\n",
    "\n",
    "- **Using Date module**: To help validate the order date, the python `date` module was helpful. \n",
    "\n",
    "- **Export CSV files** : Using the pandas `to_csv` function, it was possible to export the rectified Dataframe to CSV files."
   ]
  },
  {
   "cell_type": "markdown",
   "metadata": {},
   "source": [
    "# References"
   ]
  },
  {
   "cell_type": "markdown",
   "metadata": {},
   "source": [
    "Distance on a sphere: The Haversine Formula | GeoNet, The Esri Community | GIS and Geospatial Professional Community. (2020). Retrieved 27 September 2020, from https://community.esri.com/groups/coordinate-reference-systems/blog/2017/10/05/haversine-formula\n",
    "\n",
    "sklearn.linear_model.LinearRegression — scikit-learn 0.23.2 documentation. (2020). Retrieved 18 October 2020, from https://scikit-learn.org/stable/modules/generated/sklearn.linear_model.LinearRegression.html\n",
    "\n",
    "nltk.sentiment.vader — NLTK 3.5 documentation. (2020). Retrieved 18 October 2020, from https://www.nltk.org/_modules/nltk/sentiment/vader.html\n",
    "\n",
    "Pyplot tutorial — Matplotlib 2.0.2 documentation. (2020). Retrieved 18 October 2020, from https://matplotlib.org/users/pyplot_tutorial.html\n",
    "\n",
    "7.1.6. What are outliers in the data?. (2020). Retrieved 18 October 2020, from https://www.itl.nist.gov/div898/handbook/prc/section1/prc16.htm"
   ]
  }
 ],
 "metadata": {
  "kernelspec": {
   "display_name": "Python 3",
   "language": "python",
   "name": "python3"
  },
  "language_info": {
   "codemirror_mode": {
    "name": "ipython",
    "version": 3
   },
   "file_extension": ".py",
   "mimetype": "text/x-python",
   "name": "python",
   "nbconvert_exporter": "python",
   "pygments_lexer": "ipython3",
   "version": "3.7.4"
  }
 },
 "nbformat": 4,
 "nbformat_minor": 2
}
